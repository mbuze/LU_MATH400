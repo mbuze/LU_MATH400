{
 "cells": [
  {
   "cell_type": "markdown",
   "id": "d28aa1de",
   "metadata": {
    "editable": true,
    "slideshow": {
     "slide_type": ""
    },
    "tags": []
   },
   "source": [
    "# Further Reading"
   ]
  },
  {
   "cell_type": "markdown",
   "id": "e3f27020",
   "metadata": {},
   "source": [
    "This section lists some of the books that have been used as a source of material and ideas for this course. "
   ]
  },
  {
   "cell_type": "markdown",
   "id": "8fd8797e",
   "metadata": {
    "editable": true,
    "slideshow": {
     "slide_type": ""
    },
    "tags": []
   },
   "source": [
    "## Python Data Science Handbook"
   ]
  },
  {
   "cell_type": "markdown",
   "id": "f5dd27f3",
   "metadata": {
    "editable": true,
    "slideshow": {
     "slide_type": ""
    },
    "tags": []
   },
   "source": [
    "Provides a good overview of many of the most useful libraries for doing data science with python. In particular, it has comprehensive sections on __numpy__ and __pandas__. It also examines a number of popular techniques in machine learning with an emphasis on using __scikit-learn__.\n",
    "\n",
    "![title](../_static/python-data-science-handbook.png)\n",
    "\n",
    "- Title : Python Data Science Handbook: Tools and Techniques for Developers: Essential Tools for Working with Data\n",
    "- Author : Jake VanderPlas\n",
    "- Publisher : O'Reilly Media; 1st edition (25 Mar. 2016)\n",
    "- Language : English\n",
    "- Paperback : 300 pages\n",
    "- ISBN-10 : 1491912057\n",
    "- ISBN-13 : 978-1491912058 \n",
    "\n",
    "[Lancaster One Search](https://onesearch.lancaster-university.uk/permalink/44LAN_INST/nnp706/cdi_askewsholts_vlebooks_9781098121198)"
   ]
  },
  {
   "cell_type": "markdown",
   "id": "db94c490",
   "metadata": {
    "editable": true,
    "slideshow": {
     "slide_type": ""
    },
    "tags": []
   },
   "source": [
    "##  Python for Data Analysis\n",
    "\n",
    "Good introduction to the python language. A wide range of techniques for data cleansing and preprocessing are introduced. Includes NumPy and Pandas.\n",
    "\n",
    "\n",
    "\n",
    "![title](../_static/python-for-data-analysis.png)\n",
    "\n",
    "- Title : Python for Data Analysis: Data Wrangling with Pandas, NumPy, and IPython\n",
    "- Author : Wes McKinney\n",
    "- Publisher : O'Reilly Media\n",
    "- Language : English\n",
    "- ISBN-13 : 978-1491957660\n",
    "\n",
    "\n",
    "[Lancaster One Search](https://onesearch.lancaster-university.uk/permalink/44LAN_INST/nnp706/cdi_askewsholts_vlebooks_9781098104009)"
   ]
  }
 ],
 "metadata": {
  "kernelspec": {
   "display_name": "Python 3 (ipykernel)",
   "language": "python",
   "name": "python3"
  },
  "language_info": {
   "codemirror_mode": {
    "name": "ipython",
    "version": 3
   },
   "file_extension": ".py",
   "mimetype": "text/x-python",
   "name": "python",
   "nbconvert_exporter": "python",
   "pygments_lexer": "ipython3",
   "version": "3.12.8"
  }
 },
 "nbformat": 4,
 "nbformat_minor": 5
}
