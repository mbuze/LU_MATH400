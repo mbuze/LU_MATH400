{
 "cells": [
  {
   "cell_type": "markdown",
   "id": "479f4175",
   "metadata": {
    "editable": true,
    "slideshow": {
     "slide_type": ""
    },
    "tags": []
   },
   "source": [
    "# Variables, expressions and statements"
   ]
  },
  {
   "cell_type": "markdown",
   "id": "75418cb0-83fd-447b-ac12-c4f52e2c65cb",
   "metadata": {
    "editable": true,
    "slideshow": {
     "slide_type": ""
    },
    "tags": []
   },
   "source": [
    "This section introduces how to store, manipulate, and evaluate data in Python using variables, expressions, and statements."
   ]
  },
  {
   "cell_type": "markdown",
   "id": "92798038",
   "metadata": {
    "editable": true,
    "jp-MarkdownHeadingCollapsed": true,
    "slideshow": {
     "slide_type": ""
    },
    "tags": []
   },
   "source": [
    "## Values and types\n",
    "\n",
    "In Python, **values** are the basic items a program can work with: numbers, text, truth values, and more.  \n",
    "Each value has a **type**, which determines what you can do with it.\n",
    "\n",
    "Examples:  \n",
    "- `3.14` → `float` (decimal number)  \n",
    "- `\"hello\"` → `str` (string of characters)  \n",
    "- `True` → `bool` (boolean: True or False)  \n",
    "- `7` → `int` (integer)"
   ]
  },
  {
   "cell_type": "code",
   "execution_count": 1,
   "id": "d803933f",
   "metadata": {
    "editable": true,
    "slideshow": {
     "slide_type": ""
    },
    "tags": []
   },
   "outputs": [
    {
     "data": {
      "text/plain": [
       "7"
      ]
     },
     "execution_count": 1,
     "metadata": {},
     "output_type": "execute_result"
    }
   ],
   "source": [
    "3.14\n",
    "\"hello world\"\n",
    "True\n",
    "7"
   ]
  },
  {
   "cell_type": "markdown",
   "id": "803613e0-6cdf-4dee-a450-3dc9e4fcd97d",
   "metadata": {
    "editable": true,
    "slideshow": {
     "slide_type": ""
    },
    "tags": []
   },
   "source": [
    "By default, Jupyter will only output the last line - if you want to output all of the values you can use `print`:"
   ]
  },
  {
   "cell_type": "code",
   "execution_count": 4,
   "id": "efb98338-1748-4ca7-a6e4-ef367617bd27",
   "metadata": {
    "editable": true,
    "slideshow": {
     "slide_type": ""
    },
    "tags": []
   },
   "outputs": [
    {
     "name": "stdout",
     "output_type": "stream",
     "text": [
      "3.14\n",
      "hello world\n",
      "True\n",
      "7\n"
     ]
    }
   ],
   "source": [
    "print(3.14)\n",
    "print(\"hello world\")\n",
    "print(True)\n",
    "print(7)"
   ]
  },
  {
   "cell_type": "markdown",
   "id": "77e2ad52-94d4-4d91-8d28-29aaf0f6ab13",
   "metadata": {
    "editable": true,
    "slideshow": {
     "slide_type": ""
    },
    "tags": []
   },
   "source": [
    "You can check the type of any value using `type(...)`."
   ]
  },
  {
   "cell_type": "code",
   "execution_count": 3,
   "id": "b1ae19ce-582f-407f-948b-e3ca1b2b08ba",
   "metadata": {
    "editable": true,
    "slideshow": {
     "slide_type": ""
    },
    "tags": []
   },
   "outputs": [
    {
     "name": "stdout",
     "output_type": "stream",
     "text": [
      "<class 'float'>\n",
      "<class 'str'>\n",
      "<class 'bool'>\n",
      "<class 'int'>\n"
     ]
    }
   ],
   "source": [
    "# Examples\n",
    "print(type(3.14))\n",
    "print(type(\"hello\"))\n",
    "print(type(True))\n",
    "print(type(7))"
   ]
  },
  {
   "cell_type": "markdown",
   "id": "a3b87870",
   "metadata": {
    "editable": true,
    "slideshow": {
     "slide_type": ""
    },
    "tags": []
   },
   "source": [
    "What about values like `'17'` and `'3.2'`? They look like numbers, but they are in quotation marks like strings:"
   ]
  },
  {
   "cell_type": "code",
   "execution_count": 4,
   "id": "65f500af",
   "metadata": {
    "editable": true,
    "slideshow": {
     "slide_type": ""
    },
    "tags": []
   },
   "outputs": [
    {
     "data": {
      "text/plain": [
       "str"
      ]
     },
     "execution_count": 4,
     "metadata": {},
     "output_type": "execute_result"
    }
   ],
   "source": [
    "type('17')"
   ]
  },
  {
   "cell_type": "code",
   "execution_count": 5,
   "id": "4d611675",
   "metadata": {},
   "outputs": [
    {
     "data": {
      "text/plain": [
       "str"
      ]
     },
     "execution_count": 5,
     "metadata": {},
     "output_type": "execute_result"
    }
   ],
   "source": [
    "type('3.2')"
   ]
  },
  {
   "cell_type": "markdown",
   "id": "91a9569d",
   "metadata": {
    "editable": true,
    "slideshow": {
     "slide_type": ""
    },
    "tags": []
   },
   "source": [
    "What about `1,000,000`?  This is the usual human way of writing the number 1 million:"
   ]
  },
  {
   "cell_type": "code",
   "execution_count": 7,
   "id": "2baa84c4",
   "metadata": {
    "editable": true,
    "slideshow": {
     "slide_type": ""
    },
    "tags": []
   },
   "outputs": [
    {
     "data": {
      "text/plain": [
       "(1, 0, 0)"
      ]
     },
     "execution_count": 7,
     "metadata": {},
     "output_type": "execute_result"
    }
   ],
   "source": [
    "1,000,000"
   ]
  },
  {
   "cell_type": "markdown",
   "id": "76f10bc4",
   "metadata": {
    "editable": true,
    "slideshow": {
     "slide_type": ""
    },
    "tags": []
   },
   "source": [
    "Python however interprets 1,000,000 as a comma-separated sequence of integers. This is an example of a **semantic error** : the code runs without producing an error message, but it doesn't do the ``right'' thing."
   ]
  },
  {
   "cell_type": "markdown",
   "id": "e89d9c63",
   "metadata": {
    "editable": true,
    "slideshow": {
     "slide_type": ""
    },
    "tags": []
   },
   "source": [
    "## Variables and keywords"
   ]
  },
  {
   "cell_type": "markdown",
   "id": "5d34312f",
   "metadata": {
    "editable": true,
    "slideshow": {
     "slide_type": ""
    },
    "tags": []
   },
   "source": [
    "A **variable** is a name that refers to a value. We create variables using **assignment statements**:\n",
    "\n"
   ]
  },
  {
   "cell_type": "code",
   "execution_count": 9,
   "id": "d2cd15da",
   "metadata": {
    "editable": true,
    "slideshow": {
     "slide_type": ""
    },
    "tags": []
   },
   "outputs": [
    {
     "name": "stdout",
     "output_type": "stream",
     "text": [
      "Welcome to Python\n",
      "17\n",
      "3.14159\n"
     ]
    }
   ],
   "source": [
    "message = \"Welcome to Python\"\n",
    "n = 17\n",
    "pi = 3.14159\n",
    "\n",
    "print(message)\n",
    "print(n)\n",
    "print(pi)\n"
   ]
  },
  {
   "cell_type": "markdown",
   "id": "43cd4453-4b64-4594-8265-6eff94aaffba",
   "metadata": {
    "editable": true,
    "slideshow": {
     "slide_type": ""
    },
    "tags": []
   },
   "source": [
    "Variable names:\n",
    "- Must begin with a letter or underscore \n",
    "- Can contain letters, numbers, and underscores  \n",
    "- Are case sensitive (`Pi` and `pi` are different)  \n",
    "- Some names are **not allowed** because they are **keywords** in Python."
   ]
  },
  {
   "cell_type": "markdown",
   "id": "665be122-483c-47fc-bc29-3721a8bdca1e",
   "metadata": {
    "editable": true,
    "slideshow": {
     "slide_type": ""
    },
    "tags": []
   },
   "source": [
    "Python has reserved words used for defining its structure:  \n",
    "\n",
    "`False, class, return, is, finally, None, continue, for, lambda, try, True, def, from, nonlocal, while, and, del, global, not, with, as, elif, if, or, yield, assert, else, import, pass, break, except, in, raise`\n",
    "\n",
    "These words **cannot be used as variable names**.  \n",
    "\n",
    "Here are some examples:"
   ]
  },
  {
   "cell_type": "code",
   "execution_count": 27,
   "id": "678d4641",
   "metadata": {
    "editable": true,
    "slideshow": {
     "slide_type": ""
    },
    "tags": []
   },
   "outputs": [
    {
     "ename": "SyntaxError",
     "evalue": "invalid decimal literal (2230041733.py, line 1)",
     "output_type": "error",
     "traceback": [
      "\u001b[0;36m  Cell \u001b[0;32mIn[27], line 1\u001b[0;36m\u001b[0m\n\u001b[0;31m    76trombones = 'big parade' # starts with a number\u001b[0m\n\u001b[0m     ^\u001b[0m\n\u001b[0;31mSyntaxError\u001b[0m\u001b[0;31m:\u001b[0m invalid decimal literal\n"
     ]
    }
   ],
   "source": [
    "76trombones = 'big parade' # starts with a number"
   ]
  },
  {
   "cell_type": "code",
   "execution_count": 13,
   "id": "89a7b492",
   "metadata": {
    "editable": true,
    "slideshow": {
     "slide_type": ""
    },
    "tags": []
   },
   "outputs": [
    {
     "ename": "SyntaxError",
     "evalue": "cannot assign to expression here. Maybe you meant '==' instead of '='? (891943721.py, line 1)",
     "output_type": "error",
     "traceback": [
      "\u001b[0;36m  Cell \u001b[0;32mIn[13], line 1\u001b[0;36m\u001b[0m\n\u001b[0;31m    mor@e = 1000000\u001b[0m\n\u001b[0m    ^\u001b[0m\n\u001b[0;31mSyntaxError\u001b[0m\u001b[0;31m:\u001b[0m cannot assign to expression here. Maybe you meant '==' instead of '='?\n"
     ]
    }
   ],
   "source": [
    "mor@e = 1000000 # contains forbidden sign"
   ]
  },
  {
   "cell_type": "code",
   "execution_count": 14,
   "id": "f31e20cb",
   "metadata": {
    "editable": true,
    "slideshow": {
     "slide_type": ""
    },
    "tags": []
   },
   "outputs": [
    {
     "ename": "SyntaxError",
     "evalue": "invalid syntax (2676161963.py, line 1)",
     "output_type": "error",
     "traceback": [
      "\u001b[0;36m  Cell \u001b[0;32mIn[14], line 1\u001b[0;36m\u001b[0m\n\u001b[0;31m    class = 'Advanced Theoretical Zymurgy' # reserved keyword\u001b[0m\n\u001b[0m          ^\u001b[0m\n\u001b[0;31mSyntaxError\u001b[0m\u001b[0;31m:\u001b[0m invalid syntax\n"
     ]
    }
   ],
   "source": [
    "class = 'Advanced Theoretical Zymurgy' # reserved keyword"
   ]
  },
  {
   "cell_type": "code",
   "execution_count": 16,
   "id": "4c9a5167-f0bb-4566-9723-3ca9d59c52ff",
   "metadata": {
    "editable": true,
    "slideshow": {
     "slide_type": ""
    },
    "tags": []
   },
   "outputs": [
    {
     "name": "stdout",
     "output_type": "stream",
     "text": [
      "10\n"
     ]
    }
   ],
   "source": [
    "η = 10 # greek letters are allowed!\n",
    "print(η)"
   ]
  },
  {
   "cell_type": "markdown",
   "id": "bf1d7cf1",
   "metadata": {
    "editable": true,
    "slideshow": {
     "slide_type": ""
    },
    "tags": []
   },
   "source": [
    "## Expressions and statements"
   ]
  },
  {
   "cell_type": "markdown",
   "id": "824569b2-3d7f-4fbe-8126-fd4c11912141",
   "metadata": {
    "editable": true,
    "slideshow": {
     "slide_type": ""
    },
    "tags": []
   },
   "source": [
    "- An **expression** is a piece of code that produces a value.  \n",
    "  Examples:  \n",
    "  - `2 + 2`  \n",
    "  - `n`  \n",
    "  - `n + 17`  \n",
    "\n",
    "- A **statement** is a complete instruction for the interpreter.  \n",
    "  Examples:  \n",
    "  - `n = 5`  \n",
    "  - `print(n)`  \n",
    "\n",
    "Every expression can be turned into a statement by placing it on a line by itself.\n"
   ]
  },
  {
   "cell_type": "code",
   "execution_count": 17,
   "id": "1d3dd4b3",
   "metadata": {
    "editable": true,
    "slideshow": {
     "slide_type": ""
    },
    "tags": []
   },
   "outputs": [
    {
     "data": {
      "text/plain": [
       "128"
      ]
     },
     "execution_count": 17,
     "metadata": {},
     "output_type": "execute_result"
    }
   ],
   "source": [
    "x = 111\n",
    "x\n",
    "x + 17"
   ]
  },
  {
   "cell_type": "code",
   "execution_count": 18,
   "id": "169e4ba4-6e91-4110-a626-64a28d2d0221",
   "metadata": {
    "editable": true,
    "slideshow": {
     "slide_type": ""
    },
    "tags": []
   },
   "outputs": [
    {
     "name": "stdout",
     "output_type": "stream",
     "text": [
      "111\n"
     ]
    }
   ],
   "source": [
    "print(x)"
   ]
  },
  {
   "cell_type": "markdown",
   "id": "aded2a33",
   "metadata": {
    "editable": true,
    "slideshow": {
     "slide_type": ""
    },
    "tags": []
   },
   "source": [
    "## Operators"
   ]
  },
  {
   "cell_type": "markdown",
   "id": "d74a76cd",
   "metadata": {
    "editable": true,
    "slideshow": {
     "slide_type": ""
    },
    "tags": []
   },
   "source": [
    "Python includes many operators:\n",
    "\n",
    "- Arithmetic: `+`, `-`, `*`, `/`, `//`, `%`, `**`  \n",
    "- Comparison: `==`, `!=`, `<`, `>`, `<=`, `>=`  \n",
    "- Logical: `and`, `or`, `not`\n",
    "\n",
    "These are combined with values and variables to build more complex expressions.\n"
   ]
  },
  {
   "cell_type": "code",
   "execution_count": 19,
   "id": "6cdf75b8-03d2-44a5-adb0-65db48cfdae6",
   "metadata": {
    "editable": true,
    "slideshow": {
     "slide_type": ""
    },
    "tags": []
   },
   "outputs": [
    {
     "name": "stdout",
     "output_type": "stream",
     "text": [
      "5\n",
      "5\n",
      "50\n",
      "3.3333333333333335\n",
      "3\n",
      "1\n",
      "32\n"
     ]
    }
   ],
   "source": [
    "print(2 + 3)       # addition\n",
    "print(7 - 2)       # subtraction\n",
    "print(10 * 5)      # multiplication\n",
    "print(10 / 3)      # division\n",
    "print(10 // 3)     # integer division\n",
    "print(10 % 3)      # remainder\n",
    "print(2 ** 5)      # power"
   ]
  },
  {
   "cell_type": "markdown",
   "id": "86093cd0",
   "metadata": {
    "editable": true,
    "slideshow": {
     "slide_type": ""
    },
    "tags": []
   },
   "source": [
    "### Exercise 1\n",
    "\n",
    "Predict the result of each expression, then run the code:"
   ]
  },
  {
   "cell_type": "code",
   "execution_count": 21,
   "id": "565ccd02",
   "metadata": {
    "editable": true,
    "slideshow": {
     "slide_type": ""
    },
    "tags": [
     "hide-output"
    ]
   },
   "outputs": [
    {
     "data": {
      "text/plain": [
       "False"
      ]
     },
     "execution_count": 21,
     "metadata": {},
     "output_type": "execute_result"
    }
   ],
   "source": [
    "False and True"
   ]
  },
  {
   "cell_type": "code",
   "execution_count": 22,
   "id": "bb69e506",
   "metadata": {
    "editable": true,
    "slideshow": {
     "slide_type": ""
    },
    "tags": [
     "hide-output"
    ]
   },
   "outputs": [
    {
     "data": {
      "text/plain": [
       "0"
      ]
     },
     "execution_count": 22,
     "metadata": {},
     "output_type": "execute_result"
    }
   ],
   "source": [
    "0 and True"
   ]
  },
  {
   "cell_type": "code",
   "execution_count": 23,
   "id": "e81b4bc5",
   "metadata": {
    "tags": [
     "hide-output"
    ]
   },
   "outputs": [
    {
     "data": {
      "text/plain": [
       "True"
      ]
     },
     "execution_count": 23,
     "metadata": {},
     "output_type": "execute_result"
    }
   ],
   "source": [
    "1 and True"
   ]
  },
  {
   "cell_type": "code",
   "execution_count": 24,
   "id": "76b2362d",
   "metadata": {
    "tags": [
     "hide-output"
    ]
   },
   "outputs": [
    {
     "data": {
      "text/plain": [
       "0"
      ]
     },
     "execution_count": 24,
     "metadata": {},
     "output_type": "execute_result"
    }
   ],
   "source": [
    "1 and 0"
   ]
  },
  {
   "cell_type": "code",
   "execution_count": 25,
   "id": "fd9146d5",
   "metadata": {
    "tags": [
     "hide-output"
    ]
   },
   "outputs": [
    {
     "data": {
      "text/plain": [
       "1"
      ]
     },
     "execution_count": 25,
     "metadata": {},
     "output_type": "execute_result"
    }
   ],
   "source": [
    "1 and 1"
   ]
  },
  {
   "cell_type": "code",
   "execution_count": 26,
   "id": "f229b427",
   "metadata": {
    "tags": [
     "hide-output"
    ]
   },
   "outputs": [
    {
     "data": {
      "text/plain": [
       "3"
      ]
     },
     "execution_count": 26,
     "metadata": {},
     "output_type": "execute_result"
    }
   ],
   "source": [
    "1 and 3"
   ]
  },
  {
   "cell_type": "code",
   "execution_count": 27,
   "id": "3af4de29",
   "metadata": {
    "tags": [
     "hide-output"
    ]
   },
   "outputs": [
    {
     "data": {
      "text/plain": [
       "3"
      ]
     },
     "execution_count": 27,
     "metadata": {},
     "output_type": "execute_result"
    }
   ],
   "source": [
    "True and 3"
   ]
  },
  {
   "cell_type": "code",
   "execution_count": 28,
   "id": "0b38eff7",
   "metadata": {
    "tags": [
     "hide-output"
    ]
   },
   "outputs": [
    {
     "data": {
      "text/plain": [
       "True"
      ]
     },
     "execution_count": 28,
     "metadata": {},
     "output_type": "execute_result"
    }
   ],
   "source": [
    "3 and True"
   ]
  },
  {
   "cell_type": "code",
   "execution_count": 29,
   "id": "be373fdb",
   "metadata": {
    "tags": [
     "hide-output"
    ]
   },
   "outputs": [
    {
     "data": {
      "text/plain": [
       "3"
      ]
     },
     "execution_count": 29,
     "metadata": {},
     "output_type": "execute_result"
    }
   ],
   "source": [
    "5*2//3"
   ]
  },
  {
   "cell_type": "code",
   "execution_count": 30,
   "id": "b286234c",
   "metadata": {
    "tags": [
     "hide-output"
    ]
   },
   "outputs": [
    {
     "data": {
      "text/plain": [
       "0"
      ]
     },
     "execution_count": 30,
     "metadata": {},
     "output_type": "execute_result"
    }
   ],
   "source": [
    "5*(2//3)"
   ]
  },
  {
   "cell_type": "code",
   "execution_count": 31,
   "id": "0c06fe0c",
   "metadata": {
    "tags": [
     "hide-output"
    ]
   },
   "outputs": [
    {
     "data": {
      "text/plain": [
       "3"
      ]
     },
     "execution_count": 31,
     "metadata": {},
     "output_type": "execute_result"
    }
   ],
   "source": [
    "(5*2)//3"
   ]
  },
  {
   "cell_type": "code",
   "execution_count": 9,
   "id": "11c358db",
   "metadata": {
    "tags": [
     "hide-output"
    ]
   },
   "outputs": [
    {
     "data": {
      "text/plain": [
       "847288609443"
      ]
     },
     "execution_count": 9,
     "metadata": {},
     "output_type": "execute_result"
    }
   ],
   "source": [
    "3**5**2"
   ]
  },
  {
   "cell_type": "code",
   "execution_count": 20,
   "id": "b6ec172d",
   "metadata": {
    "tags": [
     "hide-output"
    ]
   },
   "outputs": [
    {
     "data": {
      "text/plain": [
       "847288609443"
      ]
     },
     "execution_count": 20,
     "metadata": {},
     "output_type": "execute_result"
    }
   ],
   "source": [
    "3**(5**2)"
   ]
  },
  {
   "cell_type": "code",
   "execution_count": 10,
   "id": "56280d7c",
   "metadata": {
    "tags": [
     "hide-output"
    ]
   },
   "outputs": [
    {
     "data": {
      "text/plain": [
       "59049"
      ]
     },
     "execution_count": 10,
     "metadata": {},
     "output_type": "execute_result"
    }
   ],
   "source": [
    "(3**5)**2"
   ]
  },
  {
   "cell_type": "code",
   "execution_count": 33,
   "id": "580306bb",
   "metadata": {
    "tags": [
     "hide-output"
    ]
   },
   "outputs": [
    {
     "data": {
      "text/plain": [
       "2"
      ]
     },
     "execution_count": 33,
     "metadata": {},
     "output_type": "execute_result"
    }
   ],
   "source": [
    "2 if 1 < 2 else 3"
   ]
  },
  {
   "cell_type": "code",
   "execution_count": 11,
   "id": "425da214",
   "metadata": {
    "tags": [
     "hide-output"
    ]
   },
   "outputs": [],
   "source": [
    "a = 1"
   ]
  },
  {
   "cell_type": "code",
   "execution_count": 36,
   "id": "5e85460e",
   "metadata": {
    "editable": true,
    "slideshow": {
     "slide_type": ""
    },
    "tags": [
     "hide-output"
    ]
   },
   "outputs": [],
   "source": [
    "b = 1"
   ]
  },
  {
   "cell_type": "code",
   "execution_count": 37,
   "id": "3f554bba",
   "metadata": {
    "tags": [
     "hide-output"
    ]
   },
   "outputs": [
    {
     "data": {
      "text/plain": [
       "True"
      ]
     },
     "execution_count": 37,
     "metadata": {},
     "output_type": "execute_result"
    }
   ],
   "source": [
    "a == b"
   ]
  },
  {
   "cell_type": "code",
   "execution_count": 38,
   "id": "bb5053a2",
   "metadata": {
    "tags": [
     "hide-output"
    ]
   },
   "outputs": [
    {
     "data": {
      "text/plain": [
       "True"
      ]
     },
     "execution_count": 38,
     "metadata": {},
     "output_type": "execute_result"
    }
   ],
   "source": [
    "a is b"
   ]
  },
  {
   "cell_type": "code",
   "execution_count": 39,
   "id": "c1e7bfc8",
   "metadata": {
    "tags": [
     "hide-output"
    ]
   },
   "outputs": [],
   "source": [
    "a = 1000000"
   ]
  },
  {
   "cell_type": "code",
   "execution_count": 40,
   "id": "1f39966b",
   "metadata": {
    "tags": [
     "hide-output"
    ]
   },
   "outputs": [],
   "source": [
    "b = 1000000"
   ]
  },
  {
   "cell_type": "code",
   "execution_count": 41,
   "id": "efd4012b",
   "metadata": {
    "tags": [
     "hide-output"
    ]
   },
   "outputs": [
    {
     "data": {
      "text/plain": [
       "True"
      ]
     },
     "execution_count": 41,
     "metadata": {},
     "output_type": "execute_result"
    }
   ],
   "source": [
    "a == b"
   ]
  },
  {
   "cell_type": "code",
   "execution_count": 42,
   "id": "7cd1cb6d",
   "metadata": {
    "tags": [
     "hide-output"
    ]
   },
   "outputs": [
    {
     "data": {
      "text/plain": [
       "False"
      ]
     },
     "execution_count": 42,
     "metadata": {},
     "output_type": "execute_result"
    }
   ],
   "source": [
    "a is b"
   ]
  },
  {
   "cell_type": "code",
   "execution_count": 43,
   "id": "7c95ec3e",
   "metadata": {
    "tags": [
     "hide-output"
    ]
   },
   "outputs": [
    {
     "data": {
      "text/plain": [
       "True"
      ]
     },
     "execution_count": 43,
     "metadata": {},
     "output_type": "execute_result"
    }
   ],
   "source": [
    "a is not b"
   ]
  },
  {
   "cell_type": "code",
   "execution_count": 44,
   "id": "6d849fed",
   "metadata": {
    "editable": true,
    "slideshow": {
     "slide_type": ""
    },
    "tags": [
     "hide-output"
    ]
   },
   "outputs": [
    {
     "data": {
      "text/plain": [
       "False"
      ]
     },
     "execution_count": 44,
     "metadata": {},
     "output_type": "execute_result"
    }
   ],
   "source": [
    "a is (not b)"
   ]
  },
  {
   "cell_type": "code",
   "execution_count": 20,
   "id": "6460c0cd-87f6-4260-a07a-007ef7187f62",
   "metadata": {
    "editable": true,
    "slideshow": {
     "slide_type": ""
    },
    "tags": [
     "hide-output"
    ]
   },
   "outputs": [
    {
     "name": "stdout",
     "output_type": "stream",
     "text": [
      "hello world\n"
     ]
    }
   ],
   "source": [
    "print(\"hello\" + \" world\")"
   ]
  },
  {
   "cell_type": "code",
   "execution_count": 6,
   "id": "472b4203-44db-456b-bfd9-191cce510d1d",
   "metadata": {},
   "outputs": [
    {
     "name": "stdout",
     "output_type": "stream",
     "text": [
      "136158874994416 136158874994576\n",
      "136158874993200 136158874994384\n"
     ]
    }
   ],
   "source": [
    "a = 257\n",
    "b = 257\n",
    "print(id(a), id(b))  # same\n",
    "\n",
    "a = 1000000\n",
    "b = 1000000\n",
    "print(id(a), id(b))"
   ]
  },
  {
   "cell_type": "code",
   "execution_count": 8,
   "id": "1ee103d7-4f7c-4a16-b419-ac079bac9c6d",
   "metadata": {},
   "outputs": [
    {
     "data": {
      "text/plain": [
       "False"
      ]
     },
     "execution_count": 8,
     "metadata": {},
     "output_type": "execute_result"
    }
   ],
   "source": [
    "1 and "
   ]
  },
  {
   "cell_type": "markdown",
   "id": "47d44d2d",
   "metadata": {
    "editable": true,
    "slideshow": {
     "slide_type": ""
    },
    "tags": []
   },
   "source": [
    "## Rounding and floating-point numbers\n",
    "\n",
    "Non-integer values are stored as **floating-point numbers**.  \n",
    "Because they are stored in binary, results are often *approximate*.  \n",
    "\n",
    "This can lead to small rounding differences.\n"
   ]
  },
  {
   "cell_type": "code",
   "execution_count": 22,
   "id": "dba4bcfa",
   "metadata": {
    "editable": true,
    "slideshow": {
     "slide_type": ""
    },
    "tags": []
   },
   "outputs": [
    {
     "name": "stdout",
     "output_type": "stream",
     "text": [
      "0.9999999999999999\n",
      "1.0\n"
     ]
    }
   ],
   "source": [
    "v1 = 1/49.0*49\n",
    "v2 = 1/51.0*51\n",
    "print(v1)\n",
    "print(v2)"
   ]
  },
  {
   "cell_type": "markdown",
   "id": "78db045d-5ced-4edf-8111-c9fcc6e880c3",
   "metadata": {
    "editable": true,
    "slideshow": {
     "slide_type": ""
    },
    "tags": []
   },
   "source": [
    "Notice that numbers which look equal are not always *exactly* equal in floating-point.  \n",
    "This is why comparing floats with `==` can be unreliable:"
   ]
  },
  {
   "cell_type": "code",
   "execution_count": 23,
   "id": "627ba41c",
   "metadata": {
    "editable": true,
    "slideshow": {
     "slide_type": ""
    },
    "tags": []
   },
   "outputs": [
    {
     "name": "stdout",
     "output_type": "stream",
     "text": [
      "False\n"
     ]
    }
   ],
   "source": [
    "print(v1 == v2) # often False due to tiny rounding differences"
   ]
  },
  {
   "cell_type": "markdown",
   "id": "5949af92-70cb-4c84-8b69-89e6a797bada",
   "metadata": {
    "editable": true,
    "slideshow": {
     "slide_type": ""
    },
    "tags": []
   },
   "source": [
    "## Summary\n",
    "\n",
    "- Values have types: `int`, `float`, `str`, `bool`  \n",
    "- Variables store values under names  \n",
    "- Keywords are reserved and cannot be used as variable names  \n",
    "- Expressions produce values; statements perform actions  \n",
    "- Operators allow arithmetic, comparison, and logical operations  \n",
    "- Floating-point values are approximate, so equality tests can be tricky  \n"
   ]
  },
  {
   "cell_type": "markdown",
   "id": "06caec03-0750-414c-9e97-8af0769cbf27",
   "metadata": {
    "editable": true,
    "slideshow": {
     "slide_type": ""
    },
    "tags": []
   },
   "source": [
    "### Exercise 2\n",
    "\n",
    "1. Assign a number to a variable called `radius`.  \n",
    "2. Compute the area of a circle using `pi * radius ** 2` (`pi = 3.14159`).  \n",
    "3. Print the result in a sentence.  "
   ]
  },
  {
   "cell_type": "code",
   "execution_count": 26,
   "id": "23190696-0f29-4752-97d7-c8ca55fb98a1",
   "metadata": {
    "editable": true,
    "slideshow": {
     "slide_type": ""
    },
    "tags": [
     "hide-output",
     "hide-input"
    ]
   },
   "outputs": [
    {
     "name": "stdout",
     "output_type": "stream",
     "text": [
      "The area of a circle with radius 7 is: 153.93791 .\n"
     ]
    }
   ],
   "source": [
    "radius = 7\n",
    "pi = 3.14159\n",
    "area = pi * radius ** 2\n",
    "\n",
    "print(\"The area of a circle with radius\", radius, \"is:\", area,\".\")"
   ]
  }
 ],
 "metadata": {
  "celltoolbar": "Edit Metadata",
  "kernelspec": {
   "display_name": "Python 3 (ipykernel)",
   "language": "python",
   "name": "python3"
  },
  "language_info": {
   "codemirror_mode": {
    "name": "ipython",
    "version": 3
   },
   "file_extension": ".py",
   "mimetype": "text/x-python",
   "name": "python",
   "nbconvert_exporter": "python",
   "pygments_lexer": "ipython3",
   "version": "3.12.8"
  }
 },
 "nbformat": 4,
 "nbformat_minor": 5
}
