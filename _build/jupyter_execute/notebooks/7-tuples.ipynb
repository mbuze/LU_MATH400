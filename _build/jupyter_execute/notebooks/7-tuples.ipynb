{
 "cells": [
  {
   "cell_type": "markdown",
   "id": "97c52e13-5b79-4d99-961c-488e2d7cd288",
   "metadata": {
    "editable": true,
    "slideshow": {
     "slide_type": ""
    },
    "tags": []
   },
   "source": [
    "# Tuples\n",
    "\n",
    "This chapter covers Python tuples: creation, indexing, immutability, concatenation, unpacking, and common use cases.\n"
   ]
  },
  {
   "cell_type": "markdown",
   "id": "d1c80751-fa8a-425a-bc7d-6f512e1edb9b",
   "metadata": {
    "editable": true,
    "slideshow": {
     "slide_type": ""
    },
    "tags": []
   },
   "source": [
    "## What is a tuple\n",
    "\n",
    "- A tuple is an **ordered, immutable collection** of values.  \n",
    "- Tuples are defined using parentheses `()`.\n",
    "\n",
    "Examples:"
   ]
  },
  {
   "cell_type": "code",
   "execution_count": 1,
   "id": "1af801e3-c150-4d84-8c38-b7b2466e5920",
   "metadata": {
    "editable": true,
    "slideshow": {
     "slide_type": ""
    },
    "tags": []
   },
   "outputs": [
    {
     "name": "stdout",
     "output_type": "stream",
     "text": [
      "('a', 'b', 'c')\n",
      "('a',)\n",
      "(1, 2, (3, 4))\n",
      "()\n"
     ]
    }
   ],
   "source": [
    "t = ('a', 'b', 'c')      # tuple with 3 elements\n",
    "single_item = ('a',)      # tuple with 1 element (note the comma)\n",
    "nested = (1, 2, (3, 4))  # tuple containing another tuple\n",
    "empty = ()                # empty tuple\n",
    "print(t)\n",
    "print(single_item)\n",
    "print(nested)\n",
    "print(empty)"
   ]
  },
  {
   "cell_type": "code",
   "execution_count": 2,
   "id": "6c1aeb09-5070-4dc6-87ee-390ebe706ce2",
   "metadata": {
    "editable": true,
    "slideshow": {
     "slide_type": ""
    },
    "tags": []
   },
   "outputs": [
    {
     "data": {
      "text/plain": [
       "tuple"
      ]
     },
     "execution_count": 2,
     "metadata": {},
     "output_type": "execute_result"
    }
   ],
   "source": [
    "type(t)"
   ]
  },
  {
   "cell_type": "code",
   "execution_count": 3,
   "id": "e2d0db83-e30c-4cd2-b716-4fb644fe4f14",
   "metadata": {
    "editable": true,
    "slideshow": {
     "slide_type": ""
    },
    "tags": []
   },
   "outputs": [
    {
     "data": {
      "text/plain": [
       "str"
      ]
     },
     "execution_count": 3,
     "metadata": {},
     "output_type": "execute_result"
    }
   ],
   "source": [
    "type(t[0])"
   ]
  },
  {
   "cell_type": "markdown",
   "id": "ae070409-e1ea-4d5e-bbf1-8dff9183f6d8",
   "metadata": {
    "editable": true,
    "slideshow": {
     "slide_type": ""
    },
    "tags": []
   },
   "source": [
    "### Exercise 1\n",
    "Create a tuple of three vegetable names: `'carrot'`, `'onion'`, `'parsnip'` and a tuple with a single number `5`. Print both tuples.\n"
   ]
  },
  {
   "cell_type": "code",
   "execution_count": 4,
   "id": "7f66adc9-c6cb-49ad-a981-01437c734c6e",
   "metadata": {
    "editable": true,
    "slideshow": {
     "slide_type": ""
    },
    "tags": [
     "hide-input",
     "hide-output"
    ]
   },
   "outputs": [
    {
     "name": "stdout",
     "output_type": "stream",
     "text": [
      "('carrot', 'onion', 'parsnip')\n",
      "(5,)\n"
     ]
    }
   ],
   "source": [
    "veg = ('carrot', 'onion', 'parsnip')\n",
    "single_number = (5,)\n",
    "\n",
    "print(veg)\n",
    "print(single_number)\n"
   ]
  },
  {
   "cell_type": "markdown",
   "id": "8e6d6c03-846a-49bf-918e-d13189f0a945",
   "metadata": {
    "editable": true,
    "slideshow": {
     "slide_type": ""
    },
    "tags": []
   },
   "source": [
    "## Accessing elements\n",
    "\n",
    "- Accessing elements using **zero-based indexing**:"
   ]
  },
  {
   "cell_type": "code",
   "execution_count": 5,
   "id": "cedad3b7-79ca-4c1f-868d-630644d1c8e7",
   "metadata": {
    "editable": true,
    "slideshow": {
     "slide_type": ""
    },
    "tags": []
   },
   "outputs": [
    {
     "name": "stdout",
     "output_type": "stream",
     "text": [
      "apple\n",
      "cherry\n"
     ]
    }
   ],
   "source": [
    "t = ('apple', 'banana', 'cherry')\n",
    "print(t[0])   # apple\n",
    "print(t[-1])  # cherry"
   ]
  },
  {
   "cell_type": "markdown",
   "id": "18bd7251-80b8-471f-9d12-c480388dc370",
   "metadata": {
    "editable": true,
    "slideshow": {
     "slide_type": ""
    },
    "tags": []
   },
   "source": [
    "- Tuples are immutable:"
   ]
  },
  {
   "cell_type": "code",
   "execution_count": 6,
   "id": "c59992f3-0261-4d63-a9f3-4f49c2b91433",
   "metadata": {
    "editable": true,
    "slideshow": {
     "slide_type": ""
    },
    "tags": []
   },
   "outputs": [
    {
     "ename": "TypeError",
     "evalue": "'tuple' object does not support item assignment",
     "output_type": "error",
     "traceback": [
      "\u001b[0;31m---------------------------------------------------------------------------\u001b[0m",
      "\u001b[0;31mTypeError\u001b[0m                                 Traceback (most recent call last)",
      "Cell \u001b[0;32mIn[6], line 1\u001b[0m\n\u001b[0;32m----> 1\u001b[0m \u001b[43mt\u001b[49m\u001b[43m[\u001b[49m\u001b[38;5;241;43m0\u001b[39;49m\u001b[43m]\u001b[49m \u001b[38;5;241m=\u001b[39m \u001b[38;5;124m'\u001b[39m\u001b[38;5;124morange\u001b[39m\u001b[38;5;124m'\u001b[39m  \u001b[38;5;66;03m# This will raise TypeError\u001b[39;00m\n",
      "\u001b[0;31mTypeError\u001b[0m: 'tuple' object does not support item assignment"
     ]
    }
   ],
   "source": [
    "t[0] = 'orange'  # This will raise TypeError"
   ]
  },
  {
   "cell_type": "markdown",
   "id": "bfceedf1-4432-4319-b812-78699b53d1c7",
   "metadata": {
    "editable": true,
    "slideshow": {
     "slide_type": ""
    },
    "tags": []
   },
   "source": [
    "## Tuple operations\n",
    "\n",
    "- Concatenation: `+`  \n",
    "- Repetition: `*`  \n",
    "- Slicing: `[start:end]`\n"
   ]
  },
  {
   "cell_type": "code",
   "execution_count": 5,
   "id": "36ce63de-2f1b-4f63-81d2-72598538911f",
   "metadata": {
    "editable": true,
    "slideshow": {
     "slide_type": ""
    },
    "tags": []
   },
   "outputs": [
    {
     "name": "stdout",
     "output_type": "stream",
     "text": [
      "('a', 'b', 'c', 'd')\n"
     ]
    }
   ],
   "source": [
    "# Concatenation\n",
    "t1 = ('a', 'b')\n",
    "t2 = ('c', 'd')\n",
    "t3 = t1 + t2\n",
    "print(t3)  # ('a', 'b', 'c', 'd')"
   ]
  },
  {
   "cell_type": "code",
   "execution_count": 6,
   "id": "8ccc8dea-d889-4a72-9eae-dd96d34907ee",
   "metadata": {
    "editable": true,
    "slideshow": {
     "slide_type": ""
    },
    "tags": []
   },
   "outputs": [
    {
     "name": "stdout",
     "output_type": "stream",
     "text": [
      "('x', 'x', 'x')\n"
     ]
    }
   ],
   "source": [
    "# Repetition\n",
    "t = ('x',) * 3\n",
    "print(t)  # ('x', 'x', 'x')"
   ]
  },
  {
   "cell_type": "code",
   "execution_count": 7,
   "id": "a160d7ae-8d27-40ee-af82-3d152431dc1a",
   "metadata": {
    "editable": true,
    "scrolled": true,
    "slideshow": {
     "slide_type": ""
    },
    "tags": []
   },
   "outputs": [
    {
     "name": "stdout",
     "output_type": "stream",
     "text": [
      "('b', 'c', 'd')\n",
      "('a', 'b', 'c')\n",
      "('c', 'd', 'e')\n"
     ]
    }
   ],
   "source": [
    "# Slicing\n",
    "t = ('a', 'b', 'c', 'd', 'e')\n",
    "print(t[1:4])  # ('b', 'c', 'd')\n",
    "print(t[:3])   # ('a', 'b', 'c')\n",
    "print(t[2:])   # ('c', 'd', 'e')"
   ]
  },
  {
   "cell_type": "markdown",
   "id": "9756086c-583a-438b-ab95-fa422381471e",
   "metadata": {
    "editable": true,
    "slideshow": {
     "slide_type": ""
    },
    "tags": []
   },
   "source": [
    "### Exercise 2\n",
    "Concatenate `(1, 2)` and `(3, 4)` into a new tuple.  Create a tuple  by repeating `(0,)` three times.  Concatenate both into a single tuple. Print the 4th element of the final tuple."
   ]
  },
  {
   "cell_type": "code",
   "execution_count": 25,
   "id": "9cd1b92e-c96a-48e5-a01e-518ffe605fc5",
   "metadata": {
    "editable": true,
    "slideshow": {
     "slide_type": ""
    },
    "tags": [
     "hide-input",
     "hide-output"
    ]
   },
   "outputs": [
    {
     "name": "stdout",
     "output_type": "stream",
     "text": [
      "4\n"
     ]
    }
   ],
   "source": [
    "t1 = (1, 2)\n",
    "t2 = (3, 4)\n",
    "\n",
    "concatenated = t1 + t2\n",
    "repeated = (0,) * 3\n",
    "\n",
    "print((concatenated + repeated)[3])"
   ]
  },
  {
   "cell_type": "markdown",
   "id": "2e65b979-5897-4cad-a272-b1e5526b6673",
   "metadata": {
    "editable": true,
    "slideshow": {
     "slide_type": ""
    },
    "tags": []
   },
   "source": [
    "## Tuple unpacking\n",
    "\n",
    "- Assigning elements of a tuple to variables:"
   ]
  },
  {
   "cell_type": "code",
   "execution_count": 9,
   "id": "36184c80-b11f-474e-9db9-746dac085821",
   "metadata": {
    "editable": true,
    "slideshow": {
     "slide_type": ""
    },
    "tags": []
   },
   "outputs": [
    {
     "name": "stdout",
     "output_type": "stream",
     "text": [
      "4\n",
      "5\n"
     ]
    }
   ],
   "source": [
    "coordinates = (4, 5)\n",
    "x, y = coordinates\n",
    "print(x)  # 4\n",
    "print(y)  # 5"
   ]
  },
  {
   "cell_type": "code",
   "execution_count": 8,
   "id": "f5f2177a-a97e-4c96-9abc-a974398752b2",
   "metadata": {
    "editable": true,
    "slideshow": {
     "slide_type": ""
    },
    "tags": []
   },
   "outputs": [
    {
     "name": "stdout",
     "output_type": "stream",
     "text": [
      "1 2 [3, 4]\n"
     ]
    }
   ],
   "source": [
    "# Unpacking with multiple elements\n",
    "t = (1, 2, 3, 4)\n",
    "a, b, *rest = t\n",
    "print(a, b, rest)  # 1 2 [3, 4]"
   ]
  },
  {
   "cell_type": "markdown",
   "id": "2dd40906",
   "metadata": {
    "editable": true,
    "slideshow": {
     "slide_type": ""
    },
    "tags": []
   },
   "source": [
    "- Functions can take a variable number of arguments by gathering arguments into a tuple. This is done using `*` as follows:"
   ]
  },
  {
   "cell_type": "code",
   "execution_count": 13,
   "id": "e99c138a",
   "metadata": {
    "editable": true,
    "slideshow": {
     "slide_type": ""
    },
    "tags": []
   },
   "outputs": [
    {
     "name": "stdout",
     "output_type": "stream",
     "text": [
      "1\n",
      "2\n",
      "hello\n"
     ]
    }
   ],
   "source": [
    "def f(*vals) :\n",
    "    for val in vals :\n",
    "        print(val)\n",
    "        \n",
    "f(1,2,\"hello\")"
   ]
  },
  {
   "cell_type": "markdown",
   "id": "20522967",
   "metadata": {
    "editable": true,
    "slideshow": {
     "slide_type": ""
    },
    "tags": []
   },
   "source": [
    "- The complement of gathering is scattering:"
   ]
  },
  {
   "cell_type": "code",
   "execution_count": 16,
   "id": "b8769437",
   "metadata": {
    "editable": true,
    "slideshow": {
     "slide_type": ""
    },
    "tags": []
   },
   "outputs": [
    {
     "data": {
      "text/plain": [
       "4"
      ]
     },
     "execution_count": 16,
     "metadata": {},
     "output_type": "execute_result"
    }
   ],
   "source": [
    "def g(a,b) :\n",
    "    return a + b\n",
    "\n",
    "t = (1,3)\n",
    "g(*t)"
   ]
  },
  {
   "cell_type": "markdown",
   "id": "5822b09c",
   "metadata": {
    "editable": true,
    "slideshow": {
     "slide_type": ""
    },
    "tags": []
   },
   "source": [
    "- Many of the built-in functions use variable-length argument tuples.  For example, `max`  and `min` can take any number of arguments:"
   ]
  },
  {
   "cell_type": "code",
   "execution_count": 12,
   "id": "3c90ecab",
   "metadata": {
    "editable": true,
    "slideshow": {
     "slide_type": ""
    },
    "tags": []
   },
   "outputs": [
    {
     "data": {
      "text/plain": [
       "7"
      ]
     },
     "execution_count": 12,
     "metadata": {},
     "output_type": "execute_result"
    }
   ],
   "source": [
    "max(1,2,3,2,-1)\n",
    "max(7,-3)"
   ]
  },
  {
   "cell_type": "markdown",
   "id": "8fdd1971",
   "metadata": {
    "editable": true,
    "jp-MarkdownHeadingCollapsed": true,
    "slideshow": {
     "slide_type": ""
    },
    "tags": []
   },
   "source": [
    "### Exercise 3\n",
    "Write a function that takes an arbitary number of numerical values and returns both the maximim and minimum value of the arguments."
   ]
  },
  {
   "cell_type": "code",
   "execution_count": 13,
   "id": "d3b8f12c",
   "metadata": {
    "editable": true,
    "slideshow": {
     "slide_type": ""
    },
    "tags": [
     "hide-input",
     "hide-output"
    ]
   },
   "outputs": [
    {
     "data": {
      "text/plain": [
       "(5, -9)"
      ]
     },
     "execution_count": 13,
     "metadata": {},
     "output_type": "execute_result"
    }
   ],
   "source": [
    "def maxmin(*vals) :\n",
    "    return max(vals),min(vals)\n",
    "\n",
    "maxmin(1,2,3,2,5,0,-9)"
   ]
  },
  {
   "cell_type": "markdown",
   "id": "5e8f485e-f92b-47b4-9143-f4ac626b9976",
   "metadata": {
    "editable": true,
    "slideshow": {
     "slide_type": ""
    },
    "tags": []
   },
   "source": [
    "- Tuples are used for **heterogeneous data** and can be used as dictionary keys:"
   ]
  },
  {
   "cell_type": "code",
   "execution_count": 10,
   "id": "8dd4967d-bdbc-4f84-a4b9-3ba1c9fb95ce",
   "metadata": {
    "editable": true,
    "slideshow": {
     "slide_type": ""
    },
    "tags": []
   },
   "outputs": [
    {
     "name": "stdout",
     "output_type": "stream",
     "text": [
      "Park\n"
     ]
    }
   ],
   "source": [
    "point = (10, 20)       # coordinates\n",
    "rgb = (255, 0, 128)    # colour values\n",
    "\n",
    "locations = {(10, 20): \"Park\", (5, 8): \"School\"}\n",
    "print(locations[(10, 20)])  # Park"
   ]
  },
  {
   "cell_type": "markdown",
   "id": "49fa187e-b7f0-4bbf-8abe-97f310887ffc",
   "metadata": {
    "editable": true,
    "slideshow": {
     "slide_type": ""
    },
    "tags": []
   },
   "source": [
    "## Distinction between lists and tuples\n",
    "\n",
    "We have already learnt about lists, which are in many ways similar to tuples, so it is worth for us to discuss the differences:\n",
    "| Feature            | List                 | Tuple                |\n",
    "|-------------------|--------------------|-------------------|\n",
    "| **Mutable**       | Yes, elements can be changed | No, elements cannot be changed |\n",
    "| **Syntax**        | `[1, 2, 3]`        | `(1, 2, 3)`       |\n",
    "| **Use Case**      | Homogeneous data, frequently modified | Heterogeneous data, fixed structure, dictionary keys |\n",
    "| **Performance**   | Slightly slower due to mutability | Slightly faster due to immutability |\n"
   ]
  },
  {
   "cell_type": "markdown",
   "id": "eb3f8608",
   "metadata": {
    "editable": true,
    "slideshow": {
     "slide_type": ""
    },
    "tags": []
   },
   "source": [
    "### `zip` function\n",
    "`zip` is a built-in function that takes two or more sequences and \"zips\" them into a *iterator* of tuples where each tuple contains one element from each sequence:"
   ]
  },
  {
   "cell_type": "code",
   "execution_count": 26,
   "id": "21346c88",
   "metadata": {
    "editable": true,
    "slideshow": {
     "slide_type": ""
    },
    "tags": []
   },
   "outputs": [
    {
     "name": "stdout",
     "output_type": "stream",
     "text": [
      "<zip object at 0x73e2d1aa9240>\n"
     ]
    }
   ],
   "source": [
    "x = [1,2,3,4]\n",
    "y = [\"a\",\"b\",\"c\",\"d\"]\n",
    "z = zip(x,y)\n",
    "print(z)"
   ]
  },
  {
   "cell_type": "markdown",
   "id": "78a7a4f2",
   "metadata": {
    "editable": true,
    "slideshow": {
     "slide_type": ""
    },
    "tags": []
   },
   "source": [
    "The iterator can be converted to a list using `list` function:"
   ]
  },
  {
   "cell_type": "code",
   "execution_count": 18,
   "id": "a2c30f97",
   "metadata": {
    "editable": true,
    "slideshow": {
     "slide_type": ""
    },
    "tags": []
   },
   "outputs": [
    {
     "data": {
      "text/plain": [
       "[(1, 'a'), (2, 'b'), (3, 'c'), (4, 'd')]"
      ]
     },
     "execution_count": 18,
     "metadata": {},
     "output_type": "execute_result"
    }
   ],
   "source": [
    "list(z)"
   ]
  },
  {
   "cell_type": "markdown",
   "id": "15ba4259",
   "metadata": {
    "editable": true,
    "slideshow": {
     "slide_type": ""
    },
    "tags": []
   },
   "source": [
    "An **iterator** can be used in a loop directly though."
   ]
  },
  {
   "cell_type": "code",
   "execution_count": 27,
   "id": "63683a0d",
   "metadata": {
    "editable": true,
    "slideshow": {
     "slide_type": ""
    },
    "tags": []
   },
   "outputs": [
    {
     "name": "stdout",
     "output_type": "stream",
     "text": [
      "(1, 'a')\n",
      "(2, 'b')\n",
      "(3, 'c')\n",
      "(4, 'd')\n"
     ]
    }
   ],
   "source": [
    "for val in z:\n",
    "    print(val)"
   ]
  },
  {
   "cell_type": "markdown",
   "id": "573f3a2a",
   "metadata": {
    "editable": true,
    "slideshow": {
     "slide_type": ""
    },
    "tags": []
   },
   "source": [
    "Notice though that, as it stands, the above code does not work. That is because the **iterator** has already been \n",
    "consumed by the **list** function. "
   ]
  },
  {
   "cell_type": "code",
   "execution_count": 28,
   "id": "17ec227f",
   "metadata": {
    "editable": true,
    "slideshow": {
     "slide_type": ""
    },
    "tags": []
   },
   "outputs": [
    {
     "name": "stdout",
     "output_type": "stream",
     "text": [
      "(1, 'a')\n",
      "(2, 'b')\n",
      "(3, 'c')\n",
      "(4, 'd')\n"
     ]
    }
   ],
   "source": [
    "z = zip(x,y)\n",
    "for val in z:\n",
    "    print(val)"
   ]
  },
  {
   "cell_type": "markdown",
   "id": "66e7b993",
   "metadata": {
    "editable": true,
    "slideshow": {
     "slide_type": ""
    },
    "tags": []
   },
   "source": [
    "**zip** can be useful in conjunction with list comprehensions."
   ]
  },
  {
   "cell_type": "markdown",
   "id": "8526577e",
   "metadata": {
    "editable": true,
    "slideshow": {
     "slide_type": ""
    },
    "tags": []
   },
   "source": [
    "### Exercise 4\n",
    "\n",
    "Guess the output of the following code:"
   ]
  },
  {
   "cell_type": "code",
   "execution_count": 21,
   "id": "71e6ebef",
   "metadata": {
    "editable": true,
    "slideshow": {
     "slide_type": ""
    },
    "tags": [
     "hide-output"
    ]
   },
   "outputs": [
    {
     "name": "stdout",
     "output_type": "stream",
     "text": [
      "[15, 18, 21, 24]\n"
     ]
    }
   ],
   "source": [
    "X = [1,2,3,4]\n",
    "Y = [5,6,7,8]\n",
    "Z = [9,10,11,12]\n",
    "S = [x + y + z for x,y,z in zip(X,Y,Z)]\n",
    "print(S)"
   ]
  },
  {
   "cell_type": "markdown",
   "id": "c9769855-7453-4836-b1b3-b31e7e647ad8",
   "metadata": {
    "editable": true,
    "slideshow": {
     "slide_type": ""
    },
    "tags": []
   },
   "source": [
    "## Summary\n",
    "\n",
    "- Tuples are **ordered, immutable collections** of values, defined with parentheses `()`.  \n",
    "- **Single-element tuples** require a trailing comma.  \n",
    "- Access elements using **indexing** and **slicing**.  \n",
    "- Tuples support **concatenation**, **repetition**, and **unpacking**.  \n",
    "- They can contain **nested tuples** and can be used as **dictionary keys**.  \n",
    "- Tuples are **immutable**, which makes them faster and safer for fixed data compared to lists.  \n",
    "- Use tuples when you need **heterogeneous or fixed data**, and lists when you need **mutable sequences**.\n"
   ]
  },
  {
   "cell_type": "markdown",
   "id": "47df16bf-eb3f-482a-aafe-0c9a895e11a9",
   "metadata": {
    "editable": true,
    "slideshow": {
     "slide_type": ""
    },
    "tags": []
   },
   "source": [
    "### Exercise 5\n",
    "\n",
    "You are given a tuple of students' scores for a test:"
   ]
  },
  {
   "cell_type": "code",
   "execution_count": 30,
   "id": "ff88b180-106e-43ef-af8b-dcec78190ff0",
   "metadata": {
    "editable": true,
    "slideshow": {
     "slide_type": ""
    },
    "tags": []
   },
   "outputs": [],
   "source": [
    "students = ((\"Alice\", 75), (\"Bob\", 82), (\"Charlie\", 91))"
   ]
  },
  {
   "cell_type": "markdown",
   "id": "343321ad-0c4f-46d1-b092-160665d80ee7",
   "metadata": {
    "editable": true,
    "slideshow": {
     "slide_type": ""
    },
    "tags": []
   },
   "source": [
    "- Print the first student's name and score.\n",
    "- Add a new student (\"Diana\", 60) to create a new tuple `updated_students`.\n",
    "- Unpack the first two students into `first` and `second` and print their names.\n",
    "- Create a tuple scores containing only the student scores.\n",
    "- Write a function gather_scores(*args) to collect scores from any number of student tuples.\n",
    "- Use scatter `*` to pass the gathered scores to a function that prints them individually."
   ]
  },
  {
   "cell_type": "code",
   "execution_count": 32,
   "id": "8e06042e-a390-4dfa-b303-46ed04cc83ea",
   "metadata": {
    "editable": true,
    "slideshow": {
     "slide_type": ""
    },
    "tags": [
     "hide-input",
     "hide-output"
    ]
   },
   "outputs": [
    {
     "name": "stdout",
     "output_type": "stream",
     "text": [
      "First student: ('Alice', 75)\n",
      "Updated students: (('Alice', 75), ('Bob', 82), ('Charlie', 91), ('Diana', 60))\n",
      "First student's name: Alice\n",
      "Second student's name: Bob\n",
      "Scores: (75, 82, 91, 60)\n",
      "Gathered scores: (75, 82, 91, 60)\n",
      "Scores: 75 82 91 60\n"
     ]
    }
   ],
   "source": [
    "print(\"First student:\", students[0])\n",
    "\n",
    "\n",
    "updated_students = students + ((\"Diana\", 60),)\n",
    "print(\"Updated students:\", updated_students)\n",
    "\n",
    "first, second, *rest = updated_students\n",
    "print(\"First student's name:\", first[0])\n",
    "print(\"Second student's name:\", second[0])\n",
    "\n",
    "scores = tuple(student[1] for student in updated_students)\n",
    "print(\"Scores:\", scores)\n",
    "\n",
    "def gather_scores(*args):\n",
    "    return tuple(score for name, score in args)\n",
    "\n",
    "gathered = gather_scores(*updated_students)\n",
    "print(\"Gathered scores:\", gathered)\n",
    "\n",
    "def print_scores(a, b, c, d):\n",
    "    print(\"Scores:\", a, b, c, d)\n",
    "\n",
    "print_scores(*gathered)"
   ]
  }
 ],
 "metadata": {
  "celltoolbar": "Edit Metadata",
  "kernelspec": {
   "display_name": "Python 3 (ipykernel)",
   "language": "python",
   "name": "python3"
  },
  "language_info": {
   "codemirror_mode": {
    "name": "ipython",
    "version": 3
   },
   "file_extension": ".py",
   "mimetype": "text/x-python",
   "name": "python",
   "nbconvert_exporter": "python",
   "pygments_lexer": "ipython3",
   "version": "3.12.8"
  }
 },
 "nbformat": 4,
 "nbformat_minor": 5
}