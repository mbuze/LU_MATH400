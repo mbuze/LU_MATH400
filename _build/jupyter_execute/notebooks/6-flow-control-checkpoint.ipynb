{
 "cells": [
  {
   "cell_type": "markdown",
   "metadata": {
    "editable": true,
    "slideshow": {
     "slide_type": ""
    },
    "tags": []
   },
   "source": [
    "# Flow control\n",
    "\n",
    "This chapter covers conditional statements, iteration, and boolean expressions in Python."
   ]
  },
  {
   "cell_type": "markdown",
   "metadata": {
    "editable": true,
    "slideshow": {
     "slide_type": ""
    },
    "tags": []
   },
   "source": [
    "## Conditional statements\n",
    "\n",
    "Python uses `if`, `elif`, and `else` blocks to execute code conditionally.\n",
    "\n",
    "**Syntax:**\n",
    "\n",
    "```python\n",
    "if <condition>:\n",
    "    <code block>\n",
    "elif <condition>:\n",
    "    <code block>\n",
    "else:\n",
    "    <code block>\n"
   ]
  },
  {
   "cell_type": "code",
   "execution_count": 1,
   "metadata": {
    "editable": true,
    "slideshow": {
     "slide_type": ""
    },
    "tags": []
   },
   "outputs": [
    {
     "name": "stdout",
     "output_type": "stream",
     "text": [
      "Normal\n"
     ]
    }
   ],
   "source": [
    "temp = 23\n",
    "\n",
    "if temp < 0:\n",
    "    print('Freezing...')\n",
    "elif 0 <= temp <= 20:\n",
    "    print('Cold')\n",
    "elif 21 <= temp <= 25:\n",
    "    print('Normal')\n",
    "elif 26 <= temp <= 35:\n",
    "    print('Hot')\n",
    "else:\n",
    "    print('Very Hot!')\n"
   ]
  },
  {
   "cell_type": "markdown",
   "metadata": {
    "editable": true,
    "slideshow": {
     "slide_type": ""
    },
    "tags": []
   },
   "source": [
    "### Exercise 1\n",
    "\n",
    "Create a programme that assigns a grade based on a numeric score:\n",
    "\n",
    "- 90–100 → \"A\"  \n",
    "- 80–89 → \"B\"  \n",
    "- 70–79 → \"C\"  \n",
    "- 60–69 → \"D\"  \n",
    "- Below 60 → \"F\"\n",
    "\n",
    "Test it with different scores."
   ]
  },
  {
   "cell_type": "code",
   "execution_count": 2,
   "metadata": {
    "editable": true,
    "slideshow": {
     "slide_type": ""
    },
    "tags": [
     "hide-output",
     "hide-input"
    ]
   },
   "outputs": [
    {
     "name": "stdout",
     "output_type": "stream",
     "text": [
      "Score: 87, Grade: B\n"
     ]
    }
   ],
   "source": [
    "score = 87\n",
    "\n",
    "if 90 <= score <= 100:\n",
    "    grade = 'A'\n",
    "elif 80 <= score < 90:\n",
    "    grade = 'B'\n",
    "elif 70 <= score < 80:\n",
    "    grade = 'C'\n",
    "elif 60 <= score < 70:\n",
    "    grade = 'D'\n",
    "else:\n",
    "    grade = 'F'\n",
    "\n",
    "print(f\"Score: {score}, Grade: {grade}\")"
   ]
  },
  {
   "cell_type": "markdown",
   "metadata": {
    "editable": true,
    "slideshow": {
     "slide_type": ""
    },
    "tags": []
   },
   "source": [
    "### Ternary conditional expression\n",
    "\n",
    "Assign a value based on a condition in a single line:\n",
    "\n",
    "```python\n",
    "<variable> = <value1> if <condition> else <value2>\n"
   ]
  },
  {
   "cell_type": "code",
   "execution_count": 3,
   "metadata": {
    "editable": true,
    "slideshow": {
     "slide_type": ""
    },
    "tags": []
   },
   "outputs": [
    {
     "name": "stdout",
     "output_type": "stream",
     "text": [
      "Warm\n"
     ]
    }
   ],
   "source": [
    "status = 'Warm' if temp > 20 else 'Cold'\n",
    "print(status)"
   ]
  },
  {
   "cell_type": "markdown",
   "metadata": {
    "editable": true,
    "jp-MarkdownHeadingCollapsed": true,
    "slideshow": {
     "slide_type": ""
    },
    "tags": []
   },
   "source": [
    "## For loops\n",
    "\n",
    "Iterate over a sequence (list, range, etc.):\n",
    "\n",
    "- `continue`: Skip to the next iteration.  \n",
    "- `break`: Exit the loop immediately.  \n",
    "- `else`: Executes if the loop completes without encountering `break`.\n"
   ]
  },
  {
   "cell_type": "code",
   "execution_count": 4,
   "metadata": {
    "editable": true,
    "slideshow": {
     "slide_type": ""
    },
    "tags": []
   },
   "outputs": [
    {
     "name": "stdout",
     "output_type": "stream",
     "text": [
      "4950\n"
     ]
    }
   ],
   "source": [
    "# Sum numbers from 1 to 99\n",
    "s = 0\n",
    "for x in range(1, 100):\n",
    "    s += x\n",
    "print(s)  # 4950"
   ]
  },
  {
   "cell_type": "markdown",
   "metadata": {
    "editable": true,
    "slideshow": {
     "slide_type": ""
    },
    "tags": []
   },
   "source": [
    "### Nested for loop example"
   ]
  },
  {
   "cell_type": "code",
   "execution_count": 5,
   "metadata": {
    "editable": true,
    "slideshow": {
     "slide_type": ""
    },
    "tags": []
   },
   "outputs": [
    {
     "name": "stdout",
     "output_type": "stream",
     "text": [
      "i=0, j=0\n",
      "i=0, j=1\n",
      "i=1, j=0\n",
      "i=1, j=1\n",
      "i=2, j=0\n",
      "i=2, j=1\n"
     ]
    }
   ],
   "source": [
    "for i in range(3):\n",
    "    for j in range(2):\n",
    "        print(f'i={i}, j={j}')"
   ]
  },
  {
   "cell_type": "markdown",
   "metadata": {
    "editable": true,
    "slideshow": {
     "slide_type": ""
    },
    "tags": []
   },
   "source": [
    "### Exercise 2\n",
    "\n",
    "Use a `for` loop and conditional statements to print all prime numbers between 2 and 20.\n",
    "\n",
    "A number is prime if it is greater than 1 and divisible only by 1 and itself."
   ]
  },
  {
   "cell_type": "code",
   "execution_count": 6,
   "metadata": {
    "editable": true,
    "slideshow": {
     "slide_type": ""
    },
    "tags": [
     "hide-input",
     "hide-output"
    ]
   },
   "outputs": [
    {
     "name": "stdout",
     "output_type": "stream",
     "text": [
      "2\n",
      "3\n",
      "5\n",
      "7\n",
      "11\n",
      "13\n",
      "17\n",
      "19\n"
     ]
    }
   ],
   "source": [
    "for num in range(2, 21):\n",
    "    is_prime = True\n",
    "    for divisor in range(2, num):\n",
    "        if num % divisor == 0:\n",
    "            is_prime = False\n",
    "            break\n",
    "    if is_prime:\n",
    "        print(num)"
   ]
  },
  {
   "cell_type": "markdown",
   "metadata": {
    "editable": true,
    "jp-MarkdownHeadingCollapsed": true,
    "slideshow": {
     "slide_type": ""
    },
    "tags": []
   },
   "source": [
    "## While loops\n",
    "\n",
    "Repeat a block of code while a condition is true."
   ]
  },
  {
   "cell_type": "code",
   "execution_count": 7,
   "metadata": {
    "editable": true,
    "slideshow": {
     "slide_type": ""
    },
    "tags": []
   },
   "outputs": [
    {
     "name": "stdout",
     "output_type": "stream",
     "text": [
      "4950\n"
     ]
    }
   ],
   "source": [
    "s = 0\n",
    "x = 1\n",
    "while x < 100:\n",
    "    s += x\n",
    "    x += 1\n",
    "print(s)  # 4950"
   ]
  },
  {
   "cell_type": "markdown",
   "metadata": {
    "editable": true,
    "slideshow": {
     "slide_type": ""
    },
    "tags": []
   },
   "source": [
    "### Exercise 3\n",
    "\n",
    "Write a programme to compute the factorial of a given number using a `while` loop.\n",
    "\n",
    "The **factorial** of a number `n` (written as `n!`) is the product of all positive integers from 1 up to `n`.  For example: \n",
    "\n",
    "- `5! = 1 × 2 × 3 × 4 × 5 = 120`  \n",
    "- `3! = 1 × 2 × 3 = 6`  "
   ]
  },
  {
   "cell_type": "code",
   "execution_count": 8,
   "metadata": {
    "editable": true,
    "slideshow": {
     "slide_type": ""
    },
    "tags": [
     "hide-input",
     "hide-output"
    ]
   },
   "outputs": [
    {
     "name": "stdout",
     "output_type": "stream",
     "text": [
      "6! = 720\n"
     ]
    }
   ],
   "source": [
    "n = 6\n",
    "factorial = 1\n",
    "i = 1\n",
    "\n",
    "while i <= n:\n",
    "    factorial *= i\n",
    "    i += 1\n",
    "\n",
    "print(f\"{n}! = {factorial}\")\n"
   ]
  },
  {
   "cell_type": "markdown",
   "metadata": {
    "editable": true,
    "jp-MarkdownHeadingCollapsed": true,
    "slideshow": {
     "slide_type": ""
    },
    "tags": []
   },
   "source": [
    "## Boolean expressions\n",
    "\n",
    "Used in conditions and loops.  \n",
    "\n",
    "- Comparison operators: `==`, `!=`, `<`, `>`, `<=`, `>=`  \n",
    "- Logical operators: `and`, `or`, `not`"
   ]
  },
  {
   "cell_type": "code",
   "execution_count": 9,
   "metadata": {
    "editable": true,
    "slideshow": {
     "slide_type": ""
    },
    "tags": []
   },
   "outputs": [
    {
     "name": "stdout",
     "output_type": "stream",
     "text": [
      "x is less than y and y is less than 30\n"
     ]
    }
   ],
   "source": [
    "x = 10\n",
    "y = 20\n",
    "if x < y and y < 30:\n",
    "    print(\"x is less than y and y is less than 30\")"
   ]
  },
  {
   "cell_type": "markdown",
   "metadata": {
    "editable": true,
    "jp-MarkdownHeadingCollapsed": true,
    "slideshow": {
     "slide_type": ""
    },
    "tags": []
   },
   "source": [
    "## List comprehensions\n",
    "\n",
    "Concise way to create lists:  \n",
    "\n",
    "```python\n",
    "[<expression> for <item> in <iterable> if <condition>]\n"
   ]
  },
  {
   "cell_type": "code",
   "execution_count": 10,
   "metadata": {
    "editable": true,
    "slideshow": {
     "slide_type": ""
    },
    "tags": []
   },
   "outputs": [
    {
     "name": "stdout",
     "output_type": "stream",
     "text": [
      "[0, 1, 4, 9, 16, 25, 36, 49, 64, 81]\n"
     ]
    }
   ],
   "source": [
    "# Squares from 0 to 9\n",
    "squares = [x**2 for x in range(10)]\n",
    "print(squares)"
   ]
  },
  {
   "cell_type": "code",
   "execution_count": 11,
   "metadata": {
    "editable": true,
    "slideshow": {
     "slide_type": ""
    },
    "tags": []
   },
   "outputs": [
    {
     "name": "stdout",
     "output_type": "stream",
     "text": [
      "[0, 4, 16, 36, 64, 100, 144, 196, 256, 324, 400]\n"
     ]
    }
   ],
   "source": [
    "# Squares of even numbers from 0 to 20\n",
    "even_squares = [x**2 for x in range(21) if x % 2 == 0]\n",
    "print(even_squares)"
   ]
  },
  {
   "cell_type": "code",
   "execution_count": 12,
   "metadata": {
    "editable": true,
    "slideshow": {
     "slide_type": ""
    },
    "tags": []
   },
   "outputs": [
    {
     "name": "stdout",
     "output_type": "stream",
     "text": [
      "['apple', 'avocado', 'apricot']\n"
     ]
    }
   ],
   "source": [
    "# Words starting with 'a' from a list\n",
    "words = ['apple', 'banana', 'avocado', 'cherry', 'apricot']\n",
    "a_words = [w for w in words if w.startswith('a')]\n",
    "print(a_words)\n"
   ]
  },
  {
   "cell_type": "markdown",
   "metadata": {
    "editable": true,
    "slideshow": {
     "slide_type": ""
    },
    "tags": []
   },
   "source": [
    "### Exercise 4\n",
    "\n",
    "Given a list of numbers, use a list comprehension to create a new list containing only the numbers that are divisible by 4 but not by 8.\n"
   ]
  },
  {
   "cell_type": "code",
   "execution_count": 13,
   "metadata": {
    "editable": true,
    "slideshow": {
     "slide_type": ""
    },
    "tags": [
     "hide-output",
     "hide-input"
    ]
   },
   "outputs": [
    {
     "name": "stdout",
     "output_type": "stream",
     "text": [
      "[4, 12, 20, 28]\n"
     ]
    }
   ],
   "source": [
    "numbers = list(range(1, 31))\n",
    "filtered = [x for x in numbers if x % 4 == 0 and x % 8 != 0]\n",
    "print(filtered)"
   ]
  },
  {
   "cell_type": "markdown",
   "metadata": {
    "editable": true,
    "slideshow": {
     "slide_type": ""
    },
    "tags": []
   },
   "source": [
    "## Summary\n",
    "\n",
    "- **Conditional statements (`if`, `elif`, `else`)** allow you to execute code depending on a condition.  \n",
    "- **Loops** (`for` and `while`) let you repeat code multiple times.  \n",
    "  - `for` loops iterate over sequences like lists or ranges.  \n",
    "  - `while` loops continue as long as a condition is true.  \n",
    "  - `break` exits a loop early; `continue` skips the rest of the current iteration.  \n",
    "- **Boolean expressions** evaluate to `True` or `False` and are used in conditions and loops.  \n",
    "- **List comprehensions** provide a concise way to create new lists from existing iterables, optionally using a condition.  \n",
    "- Combining these features allows you to write efficient and readable programs that process data dynamically.\n"
   ]
  },
  {
   "cell_type": "markdown",
   "metadata": {
    "editable": true,
    "slideshow": {
     "slide_type": ""
    },
    "tags": []
   },
   "source": [
    "### Exercise 5\n",
    "\n",
    "You have a list of items in a shopping cart with their prices:  "
   ]
  },
  {
   "cell_type": "code",
   "execution_count": 14,
   "metadata": {
    "editable": true,
    "slideshow": {
     "slide_type": ""
    },
    "tags": []
   },
   "outputs": [
    {
     "name": "stdout",
     "output_type": "stream",
     "text": [
      "apple: £1.2\n",
      "banana: £0.5\n",
      "chocolate: £2.5\n",
      "bread: £1.8\n",
      "milk: £1.5\n",
      "eggs: £2.0\n",
      "cheese: £3.0\n"
     ]
    }
   ],
   "source": [
    "cart = [(\"apple\", 1.20), (\"banana\", 0.50), (\"chocolate\", 2.50),\n",
    "        (\"bread\", 1.80), (\"milk\", 1.50), (\"eggs\", 2.00), (\"cheese\", 3.00)]\n",
    "\n",
    "for name, price in cart:\n",
    "    print(f\"{name}: £{price}\")"
   ]
  },
  {
   "cell_type": "markdown",
   "metadata": {
    "editable": true,
    "slideshow": {
     "slide_type": ""
    },
    "tags": []
   },
   "source": [
    "Write a programme that:\n",
    "\n",
    "- creates a new list containing only items costing more than £1.50\n",
    "- for each item in the new list:\n",
    "   - print the item name and price;\n",
    "   - indicate if it is expensive (> £2.50) or affordable (≤ £2.50);\n",
    "   - calculate and print the total cost of the filtered items;\n",
    "- identify and print the most expensive item.\n",
    "\n",
    "Silly \"manual\" piece of data analysis: does this look more like an Aldi shopping cart or a Booths shopping cart? :-)"
   ]
  },
  {
   "cell_type": "code",
   "execution_count": 15,
   "metadata": {
    "editable": true,
    "slideshow": {
     "slide_type": ""
    },
    "tags": [
     "hide-output",
     "hide-input"
    ]
   },
   "outputs": [
    {
     "name": "stdout",
     "output_type": "stream",
     "text": [
      "Filtered items: [('chocolate', 2.5), ('bread', 1.8), ('eggs', 2.0), ('cheese', 3.0)]\n",
      "chocolate: £2.5 (affordable)\n",
      "bread: £1.8 (affordable)\n",
      "eggs: £2.0 (affordable)\n",
      "cheese: £3.0 (expensive)\n",
      "Total cost of filtered items: £ 9.3\n",
      "Most expensive item: cheese (£3.0)\n"
     ]
    }
   ],
   "source": [
    "filtered_cart = [item for item in cart if item[1] > 1.50]\n",
    "print(\"Filtered items:\", filtered_cart)\n",
    "\n",
    "for name, price in filtered_cart:\n",
    "    category = \"expensive\" if price > 2.50 else \"affordable\"\n",
    "    print(f\"{name}: £{price} ({category})\")\n",
    "\n",
    "total_cost = sum(price for name, price in filtered_cart)\n",
    "print(\"Total cost of filtered items: £\", total_cost)\n",
    "\n",
    "# Step 4: most expensive item\n",
    "most_expensive = max(filtered_cart, key=lambda x: x[1])\n",
    "print(f\"Most expensive item: {most_expensive[0]} (£{most_expensive[1]})\")\n"
   ]
  }
 ],
 "metadata": {
  "celltoolbar": "Edit Metadata",
  "kernelspec": {
   "display_name": "Python 3 (ipykernel)",
   "language": "python",
   "name": "python3"
  },
  "language_info": {
   "codemirror_mode": {
    "name": "ipython",
    "version": 3
   },
   "file_extension": ".py",
   "mimetype": "text/x-python",
   "name": "python",
   "nbconvert_exporter": "python",
   "pygments_lexer": "ipython3",
   "version": "3.12.8"
  }
 },
 "nbformat": 4,
 "nbformat_minor": 4
}