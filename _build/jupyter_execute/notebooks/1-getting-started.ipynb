{
 "cells": [
  {
   "cell_type": "markdown",
   "id": "8685fda2",
   "metadata": {
    "editable": true,
    "slideshow": {
     "slide_type": ""
    },
    "tags": []
   },
   "source": [
    "# Getting started"
   ]
  },
  {
   "cell_type": "markdown",
   "id": "33586d09",
   "metadata": {
    "editable": true,
    "slideshow": {
     "slide_type": ""
    },
    "tags": []
   },
   "source": [
    "To undertake this course you need access to a system with a suitable Python system installed and access to Jupyter Notebook. You will also need to download the [data files](https://github.com/mbuze/LU_MATH400/raw/refs/heads/main/data/data.zip) used in the examples, exercises, and assessment."
   ]
  },
  {
   "cell_type": "markdown",
   "id": "8da61b88",
   "metadata": {
    "editable": true,
    "slideshow": {
     "slide_type": ""
    },
    "tags": []
   },
   "source": [
    "## Installing Python and Jupyter Notebook"
   ]
  },
  {
   "cell_type": "markdown",
   "id": "4cca7344",
   "metadata": {},
   "source": [
    "Python and Jupyter notebook can be installed on a LU Windows 10 PC using your LU account. Alternatively, you can install the software on your own Windows PC using your university account and AppsAnywhere."
   ]
  },
  {
   "cell_type": "markdown",
   "id": "873ce218",
   "metadata": {},
   "source": [
    "### Start AppsAnywhere"
   ]
  },
  {
   "cell_type": "code",
   "execution_count": 1,
   "id": "93f46511",
   "metadata": {
    "editable": true,
    "slideshow": {
     "slide_type": ""
    },
    "tags": [
     "hide-input"
    ]
   },
   "outputs": [
    {
     "data": {
      "text/html": [
       "<img src=\"../_static/windows-start-apps-anywhere.jpeg\">\n"
      ],
      "text/plain": [
       "<IPython.core.display.HTML object>"
      ]
     },
     "metadata": {},
     "output_type": "display_data"
    }
   ],
   "source": [
    "%%HTML\n",
    "<img src=\"../_static/windows-start-apps-anywhere.jpeg\">"
   ]
  },
  {
   "cell_type": "code",
   "execution_count": 2,
   "id": "5e276189",
   "metadata": {
    "editable": true,
    "slideshow": {
     "slide_type": ""
    },
    "tags": [
     "hide-input"
    ]
   },
   "outputs": [
    {
     "data": {
      "text/html": [
       "<img src=\"../_static/apps-anywhere-windows.jpeg\">\n"
      ],
      "text/plain": [
       "<IPython.core.display.HTML object>"
      ]
     },
     "metadata": {},
     "output_type": "display_data"
    }
   ],
   "source": [
    "%%HTML\n",
    "<img src=\"../_static/apps-anywhere-windows.jpeg\">"
   ]
  },
  {
   "cell_type": "markdown",
   "id": "c98a484d",
   "metadata": {
    "editable": true,
    "slideshow": {
     "slide_type": ""
    },
    "tags": []
   },
   "source": [
    "### Install Anaconda"
   ]
  },
  {
   "cell_type": "code",
   "execution_count": 3,
   "id": "eeaf445b",
   "metadata": {
    "editable": true,
    "slideshow": {
     "slide_type": ""
    },
    "tags": [
     "hide-input"
    ]
   },
   "outputs": [
    {
     "data": {
      "text/html": [
       "<img src=\"../_static/apps-anywhere-anaconda.jpeg\">\n"
      ],
      "text/plain": [
       "<IPython.core.display.HTML object>"
      ]
     },
     "metadata": {},
     "output_type": "display_data"
    }
   ],
   "source": [
    "%%HTML\n",
    "<img src=\"../_static/apps-anywhere-anaconda.jpeg\">"
   ]
  },
  {
   "cell_type": "markdown",
   "id": "036d47e2",
   "metadata": {
    "editable": true,
    "slideshow": {
     "slide_type": ""
    },
    "tags": []
   },
   "source": [
    "### Start Jupyter Notebook"
   ]
  },
  {
   "cell_type": "code",
   "execution_count": 4,
   "id": "051bf831",
   "metadata": {
    "editable": true,
    "slideshow": {
     "slide_type": ""
    },
    "tags": [
     "hide-input"
    ]
   },
   "outputs": [
    {
     "data": {
      "text/html": [
       "<img src=\"../_static/windows-menu-anaconda.jpeg\">\n"
      ],
      "text/plain": [
       "<IPython.core.display.HTML object>"
      ]
     },
     "metadata": {},
     "output_type": "display_data"
    }
   ],
   "source": [
    "%%HTML\n",
    "<img src=\"../_static/windows-menu-anaconda.jpeg\">"
   ]
  },
  {
   "cell_type": "code",
   "execution_count": 5,
   "id": "d21f95e1",
   "metadata": {
    "editable": true,
    "slideshow": {
     "slide_type": ""
    },
    "tags": [
     "hide-input"
    ]
   },
   "outputs": [
    {
     "data": {
      "text/html": [
       "<img src=\"../_static/anaconda-jupyter-notebook.jpeg\">\n"
      ],
      "text/plain": [
       "<IPython.core.display.HTML object>"
      ]
     },
     "metadata": {},
     "output_type": "display_data"
    }
   ],
   "source": [
    "%%HTML\n",
    "<img src=\"../_static/anaconda-jupyter-notebook.jpeg\">"
   ]
  }
 ],
 "metadata": {
  "celltoolbar": "Edit Metadata",
  "kernelspec": {
   "display_name": "Python 3 (ipykernel)",
   "language": "python",
   "name": "python3"
  },
  "language_info": {
   "codemirror_mode": {
    "name": "ipython",
    "version": 3
   },
   "file_extension": ".py",
   "mimetype": "text/x-python",
   "name": "python",
   "nbconvert_exporter": "python",
   "pygments_lexer": "ipython3",
   "version": "3.12.8"
  }
 },
 "nbformat": 4,
 "nbformat_minor": 5
}