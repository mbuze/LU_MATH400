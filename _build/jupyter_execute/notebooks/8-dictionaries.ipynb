{
 "cells": [
  {
   "cell_type": "markdown",
   "id": "5cb00747-e834-4d00-a598-165118236fc5",
   "metadata": {
    "editable": true,
    "slideshow": {
     "slide_type": ""
    },
    "tags": []
   },
   "source": [
    "# Dictionaries\n",
    "\n",
    "Dictionaries are **unordered, mutable collections** of key-value pairs.  \n",
    "They are used to store data where each **key** maps to a **value**, like a real-life dictionary.\n"
   ]
  },
  {
   "cell_type": "markdown",
   "id": "21fc3aee-d81c-4351-a442-2d505d3aa7b2",
   "metadata": {
    "editable": true,
    "slideshow": {
     "slide_type": ""
    },
    "tags": []
   },
   "source": [
    "## Creating dictionaries\n",
    "\n",
    "- Use curly braces `{}` with key-value pairs separated by a colon `:`.  \n",
    "- Keys must be **immutable** (strings, numbers, tuples).  \n",
    "- Values can be **any data type**."
   ]
  },
  {
   "cell_type": "code",
   "execution_count": 1,
   "id": "9d90055d-52c5-47ae-be77-e91e7296982d",
   "metadata": {
    "editable": true,
    "slideshow": {
     "slide_type": ""
    },
    "tags": []
   },
   "outputs": [
    {
     "name": "stdout",
     "output_type": "stream",
     "text": [
      "{'name': 'Alice', 'age': 25}\n",
      "{'name': 'Bob', 'scores': [75, 82, 91], 'passed': True}\n",
      "{}\n"
     ]
    }
   ],
   "source": [
    "# Simple dictionary\n",
    "person = {\"name\": \"Alice\", \"age\": 25}\n",
    "\n",
    "# Mixed value types\n",
    "student = {\"name\": \"Bob\", \"scores\": [75, 82, 91], \"passed\": True}\n",
    "\n",
    "# Empty dictionary\n",
    "empty_dict = {}\n",
    "\n",
    "print(person)\n",
    "print(student)\n",
    "print(empty_dict)"
   ]
  },
  {
   "cell_type": "markdown",
   "id": "dedb2506-948e-4d18-8c7b-f57423c9e2b7",
   "metadata": {
    "editable": true,
    "slideshow": {
     "slide_type": ""
    },
    "tags": []
   },
   "source": [
    "## Accessing values\n",
    "\n",
    "- Use square brackets `[]` or the `get()` method to access values by key."
   ]
  },
  {
   "cell_type": "code",
   "execution_count": 2,
   "id": "d9e0e9fd-6117-4b70-ba48-b39797083235",
   "metadata": {
    "editable": true,
    "slideshow": {
     "slide_type": ""
    },
    "tags": []
   },
   "outputs": [],
   "source": [
    "person = {\"name\": \"Alice\", \"age\": 25}"
   ]
  },
  {
   "cell_type": "code",
   "execution_count": 3,
   "id": "a51ca3f7-6b61-4b13-8925-8d71e5cedb02",
   "metadata": {
    "editable": true,
    "slideshow": {
     "slide_type": ""
    },
    "tags": []
   },
   "outputs": [
    {
     "name": "stdout",
     "output_type": "stream",
     "text": [
      "Alice\n"
     ]
    }
   ],
   "source": [
    "# Access using key\n",
    "print(person[\"name\"])  # Alice"
   ]
  },
  {
   "cell_type": "code",
   "execution_count": 4,
   "id": "384eaf14-2509-4efa-81c2-2a22c9574065",
   "metadata": {
    "editable": true,
    "slideshow": {
     "slide_type": ""
    },
    "tags": []
   },
   "outputs": [
    {
     "name": "stdout",
     "output_type": "stream",
     "text": [
      "25\n"
     ]
    }
   ],
   "source": [
    "# Using get()\n",
    "print(person.get(\"age\"))  # 25"
   ]
  },
  {
   "cell_type": "code",
   "execution_count": 5,
   "id": "d69344f4-fc6c-4531-8829-95c35fc90baf",
   "metadata": {
    "editable": true,
    "slideshow": {
     "slide_type": ""
    },
    "tags": []
   },
   "outputs": [
    {
     "name": "stdout",
     "output_type": "stream",
     "text": [
      "Not available\n"
     ]
    }
   ],
   "source": [
    "# Access with a non-existing key using get()\n",
    "print(person.get(\"height\", \"Not available\"))  # Not available"
   ]
  },
  {
   "cell_type": "markdown",
   "id": "edbbfbb8-0f67-4545-9941-0ce12dd57845",
   "metadata": {
    "editable": true,
    "slideshow": {
     "slide_type": ""
    },
    "tags": []
   },
   "source": [
    "## Modifying dictionaries\n",
    "\n",
    "- Add or update key-value pairs using assignment.\n"
   ]
  },
  {
   "cell_type": "code",
   "execution_count": 6,
   "id": "bd64232c-38d2-4f10-94fa-5b2a5f84bf0d",
   "metadata": {
    "editable": true,
    "slideshow": {
     "slide_type": ""
    },
    "tags": []
   },
   "outputs": [
    {
     "data": {
      "text/plain": [
       "{'name': 'Alice', 'age': 25}"
      ]
     },
     "execution_count": 6,
     "metadata": {},
     "output_type": "execute_result"
    }
   ],
   "source": [
    "person"
   ]
  },
  {
   "cell_type": "code",
   "execution_count": 7,
   "id": "daf92245-54a6-41e2-ba38-30293444250a",
   "metadata": {
    "editable": true,
    "slideshow": {
     "slide_type": ""
    },
    "tags": []
   },
   "outputs": [
    {
     "name": "stdout",
     "output_type": "stream",
     "text": [
      "{'name': 'Alice', 'age': 26, 'height': 165}\n"
     ]
    }
   ],
   "source": [
    "# Update age\n",
    "person[\"age\"] = 26\n",
    "\n",
    "# Add a new key\n",
    "person[\"height\"] = 165\n",
    "\n",
    "print(person)"
   ]
  },
  {
   "cell_type": "markdown",
   "id": "0c41d4e3-3182-4912-a8ad-515f8087cc3e",
   "metadata": {
    "editable": true,
    "slideshow": {
     "slide_type": ""
    },
    "tags": []
   },
   "source": [
    "### Exercise 1\n",
    "Create a dictionary of three friends and their favourite colours.  \n",
    "Then:  \n",
    "- Print one friend’s favourite colour.  \n",
    "- Change one colour to something else.  \n",
    "- Add a new friend to the dictionary.\n"
   ]
  },
  {
   "cell_type": "code",
   "execution_count": 8,
   "id": "c3e42af6-ff1f-428e-85d1-db661e951664",
   "metadata": {
    "editable": true,
    "slideshow": {
     "slide_type": ""
    },
    "tags": [
     "hide-input",
     "hide-output"
    ]
   },
   "outputs": [
    {
     "name": "stdout",
     "output_type": "stream",
     "text": [
      "blue\n",
      "{'Alice': 'blue', 'Bob': 'green', 'Charlie': 'yellow', 'Diana': 'purple'}\n"
     ]
    }
   ],
   "source": [
    "colours = {\"Alice\": \"blue\", \"Bob\": \"green\", \"Charlie\": \"red\"}\n",
    "\n",
    "print(colours[\"Alice\"])\n",
    "colours[\"Charlie\"] = \"yellow\"\n",
    "colours[\"Diana\"] = \"purple\"\n",
    "\n",
    "print(colours)"
   ]
  },
  {
   "cell_type": "markdown",
   "id": "6f827ab4-484d-4c3d-9812-b860a84da9ce",
   "metadata": {
    "editable": true,
    "slideshow": {
     "slide_type": ""
    },
    "tags": []
   },
   "source": [
    "## Removing entries\n",
    "\n",
    "- Use `del`, `pop()`, or `popitem()` to remove elements.\n"
   ]
  },
  {
   "cell_type": "code",
   "execution_count": 9,
   "id": "f4f6fb68-d2a5-4ff6-a778-fed43dcaa913",
   "metadata": {
    "editable": true,
    "slideshow": {
     "slide_type": ""
    },
    "tags": []
   },
   "outputs": [
    {
     "data": {
      "text/plain": [
       "{'name': 'Alice', 'age': 26, 'height': 165}"
      ]
     },
     "execution_count": 9,
     "metadata": {},
     "output_type": "execute_result"
    }
   ],
   "source": [
    "person"
   ]
  },
  {
   "cell_type": "code",
   "execution_count": 10,
   "id": "570a9b32-d774-4b61-9e60-bc704e9e6d40",
   "metadata": {
    "editable": true,
    "slideshow": {
     "slide_type": ""
    },
    "tags": []
   },
   "outputs": [
    {
     "data": {
      "text/plain": [
       "{'name': 'Alice', 'age': 26}"
      ]
     },
     "execution_count": 10,
     "metadata": {},
     "output_type": "execute_result"
    }
   ],
   "source": [
    "# Remove by key\n",
    "del person[\"height\"]\n",
    "\n",
    "person"
   ]
  },
  {
   "cell_type": "code",
   "execution_count": 11,
   "id": "0810f6d3-8da6-4701-8120-a00d83d9056f",
   "metadata": {
    "editable": true,
    "slideshow": {
     "slide_type": ""
    },
    "tags": []
   },
   "outputs": [
    {
     "name": "stdout",
     "output_type": "stream",
     "text": [
      "Removed age: 26\n"
     ]
    }
   ],
   "source": [
    "# Remove and return a value\n",
    "age = person.pop(\"age\")\n",
    "print(\"Removed age:\", age)"
   ]
  },
  {
   "cell_type": "code",
   "execution_count": 12,
   "id": "7aff4532-3672-4752-bb72-7bc7c591efcf",
   "metadata": {
    "editable": true,
    "slideshow": {
     "slide_type": ""
    },
    "tags": []
   },
   "outputs": [
    {
     "name": "stdout",
     "output_type": "stream",
     "text": [
      "Removed: name Alice\n"
     ]
    }
   ],
   "source": [
    "# Remove last inserted item\n",
    "key, value = person.popitem()\n",
    "print(\"Removed:\", key, value)"
   ]
  },
  {
   "cell_type": "code",
   "execution_count": 13,
   "id": "d31cc181-db75-4949-83b9-92bd68e36f9c",
   "metadata": {
    "editable": true,
    "slideshow": {
     "slide_type": ""
    },
    "tags": []
   },
   "outputs": [
    {
     "data": {
      "text/plain": [
       "{}"
      ]
     },
     "execution_count": 13,
     "metadata": {},
     "output_type": "execute_result"
    }
   ],
   "source": [
    "person"
   ]
  },
  {
   "cell_type": "markdown",
   "id": "a207b4b4-0dc6-4a74-a474-8ef8818f3aca",
   "metadata": {
    "editable": true,
    "slideshow": {
     "slide_type": ""
    },
    "tags": []
   },
   "source": [
    "## Dictionary operations\n",
    "\n",
    "- Check if a key exists using `in`.  \n",
    "- Get all keys, values, or items using `keys()`, `values()`, `items()`.  \n",
    "- Merge dictionaries using `update()`.\n"
   ]
  },
  {
   "cell_type": "code",
   "execution_count": 14,
   "id": "7a02acb6-351d-4c96-a39d-3e3505736da5",
   "metadata": {
    "editable": true,
    "slideshow": {
     "slide_type": ""
    },
    "tags": []
   },
   "outputs": [
    {
     "name": "stdout",
     "output_type": "stream",
     "text": [
      "{'name': 'Bob', 'score': 82}\n"
     ]
    }
   ],
   "source": [
    "student = {\"name\": \"Bob\", \"score\": 82}\n",
    "print(student)"
   ]
  },
  {
   "cell_type": "code",
   "execution_count": 15,
   "id": "8a909542-8449-440d-b814-f53903c53ddd",
   "metadata": {
    "editable": true,
    "slideshow": {
     "slide_type": ""
    },
    "tags": []
   },
   "outputs": [
    {
     "name": "stdout",
     "output_type": "stream",
     "text": [
      "True\n"
     ]
    }
   ],
   "source": [
    "# Check key\n",
    "print(\"score\" in student)  # True"
   ]
  },
  {
   "cell_type": "code",
   "execution_count": 16,
   "id": "9e10023e-fba4-443d-a0ba-8a0b5fc752d4",
   "metadata": {
    "editable": true,
    "slideshow": {
     "slide_type": ""
    },
    "tags": []
   },
   "outputs": [
    {
     "name": "stdout",
     "output_type": "stream",
     "text": [
      "dict_keys(['name', 'score'])\n",
      "dict_values(['Bob', 82])\n",
      "dict_items([('name', 'Bob'), ('score', 82)])\n"
     ]
    }
   ],
   "source": [
    "# Keys, values, items\n",
    "print(student.keys())    # dict_keys(['name', 'score'])\n",
    "print(student.values())  # dict_values(['Bob', 82])\n",
    "print(student.items())   # dict_items([('name', 'Bob'), ('score', 82)])"
   ]
  },
  {
   "cell_type": "code",
   "execution_count": 17,
   "id": "4c1029f1-6573-49c8-9905-eb30e4ea6cb7",
   "metadata": {
    "editable": true,
    "slideshow": {
     "slide_type": ""
    },
    "tags": []
   },
   "outputs": [
    {
     "name": "stdout",
     "output_type": "stream",
     "text": [
      "{'name': 'Bob', 'score': 82, 'passed': True, 'grade': 'B'}\n"
     ]
    }
   ],
   "source": [
    "# Merge dictionaries\n",
    "extra_info = {\"passed\": True, \"grade\": \"B\"}\n",
    "student.update(extra_info)\n",
    "print(student)"
   ]
  },
  {
   "cell_type": "markdown",
   "id": "31225c54-aa15-4701-a6e3-3da29646bfef",
   "metadata": {
    "editable": true,
    "slideshow": {
     "slide_type": ""
    },
    "tags": []
   },
   "source": [
    "### Exercise 2\n",
    "Given a list of words, build a dictionary where each word is the key and its length is the value.  \n",
    "Use the list:"
   ]
  },
  {
   "cell_type": "code",
   "execution_count": 18,
   "id": "00c7506a-e899-4fd4-a0eb-28bfc875beb1",
   "metadata": {
    "editable": true,
    "slideshow": {
     "slide_type": ""
    },
    "tags": []
   },
   "outputs": [],
   "source": [
    "words = [\"cat\", \"elephant\", \"dog\"]"
   ]
  },
  {
   "cell_type": "code",
   "execution_count": 19,
   "id": "ea465460-52b9-4b5b-9a6c-3a5e87a10356",
   "metadata": {
    "editable": true,
    "slideshow": {
     "slide_type": ""
    },
    "tags": [
     "hide-input",
     "hide-output"
    ]
   },
   "outputs": [
    {
     "name": "stdout",
     "output_type": "stream",
     "text": [
      "{'cat': 3, 'elephant': 8, 'dog': 3}\n"
     ]
    }
   ],
   "source": [
    "word_lengths = {word: len(word) for word in words}\n",
    "print(word_lengths)"
   ]
  },
  {
   "cell_type": "markdown",
   "id": "68532b0a-32dc-4f8a-a7d4-c06aeb0886b7",
   "metadata": {
    "editable": true,
    "slideshow": {
     "slide_type": ""
    },
    "tags": []
   },
   "source": [
    "## Nested dictionaries\n",
    "\n",
    "- Dictionaries can contain **other dictionaries** as values."
   ]
  },
  {
   "cell_type": "code",
   "execution_count": 20,
   "id": "c79a470c-0136-4438-9e1e-41dc30dd9ea9",
   "metadata": {
    "editable": true,
    "slideshow": {
     "slide_type": ""
    },
    "tags": []
   },
   "outputs": [
    {
     "name": "stdout",
     "output_type": "stream",
     "text": [
      "{'score': 75, 'passed': True}\n",
      "75\n"
     ]
    }
   ],
   "source": [
    "students = {\n",
    "    \"Alice\": {\"score\": 75, \"passed\": True},\n",
    "    \"Bob\": {\"score\": 82, \"passed\": True}\n",
    "}\n",
    "\n",
    "print(students[\"Alice\"])          # {'score': 75, 'passed': True}\n",
    "print(students[\"Alice\"][\"score\"]) # 75\n"
   ]
  },
  {
   "cell_type": "markdown",
   "id": "e6d33673-4e01-4d1a-a4c0-6b7021a0523b",
   "metadata": {
    "editable": true,
    "slideshow": {
     "slide_type": ""
    },
    "tags": []
   },
   "source": [
    "## Dictionary functions\n",
    "\n",
    "Useful functions:\n",
    "\n",
    "- `len(dictionary)` – number of items  \n",
    "- `dict()` – convert iterable of key-value pairs to dictionary  \n",
    "- `sorted(dictionary)` – returns sorted list of keys\n"
   ]
  },
  {
   "cell_type": "code",
   "execution_count": 21,
   "id": "d4babaf4-64c4-4952-871d-667d138995e7",
   "metadata": {
    "editable": true,
    "slideshow": {
     "slide_type": ""
    },
    "tags": []
   },
   "outputs": [
    {
     "data": {
      "text/plain": [
       "{'name': 'Bob', 'score': 82, 'passed': True, 'grade': 'B'}"
      ]
     },
     "execution_count": 21,
     "metadata": {},
     "output_type": "execute_result"
    }
   ],
   "source": [
    "student"
   ]
  },
  {
   "cell_type": "code",
   "execution_count": 22,
   "id": "41cb1790-6126-4a93-b9f2-924167950a49",
   "metadata": {
    "editable": true,
    "slideshow": {
     "slide_type": ""
    },
    "tags": []
   },
   "outputs": [
    {
     "name": "stdout",
     "output_type": "stream",
     "text": [
      "4\n"
     ]
    }
   ],
   "source": [
    "print(len(student))       # 4"
   ]
  },
  {
   "cell_type": "code",
   "execution_count": 23,
   "id": "ee0036aa-109a-4c9f-9ed7-674fcb992aac",
   "metadata": {
    "editable": true,
    "slideshow": {
     "slide_type": ""
    },
    "tags": []
   },
   "outputs": [
    {
     "name": "stdout",
     "output_type": "stream",
     "text": [
      "{'a': 1, 'b': 2}\n"
     ]
    }
   ],
   "source": [
    "# Convert list of tuples to dictionary\n",
    "pairs = [(\"a\", 1), (\"b\", 2)]\n",
    "d = dict(pairs)\n",
    "print(d)  # {'a': 1, 'b': 2}"
   ]
  },
  {
   "cell_type": "code",
   "execution_count": 24,
   "id": "2fc3e645-abf1-4772-9a9b-209848767815",
   "metadata": {
    "editable": true,
    "slideshow": {
     "slide_type": ""
    },
    "tags": []
   },
   "outputs": [
    {
     "name": "stdout",
     "output_type": "stream",
     "text": [
      "['grade', 'name', 'passed', 'score']\n"
     ]
    }
   ],
   "source": [
    "# Sorted keys (alphabetically)\n",
    "print(sorted(student))"
   ]
  },
  {
   "cell_type": "markdown",
   "id": "ba28d332-45f6-4ebf-9836-ecc8c6071f62",
   "metadata": {
    "editable": true,
    "slideshow": {
     "slide_type": ""
    },
    "tags": []
   },
   "source": [
    "## Gathering and scattering in dictionaries\n",
    "\n",
    "- Use `**kwargs` in function definitions to collect key-value pairs.  \n",
    "- Use `**` to unpack a dictionary into function arguments."
   ]
  },
  {
   "cell_type": "code",
   "execution_count": 25,
   "id": "b615c996-1dfb-4fd7-b989-fdad585bbb1e",
   "metadata": {
    "editable": true,
    "slideshow": {
     "slide_type": ""
    },
    "tags": []
   },
   "outputs": [
    {
     "name": "stdout",
     "output_type": "stream",
     "text": [
      "{'name': 'Alice', 'age': 25}\n",
      "Bob scored 82\n"
     ]
    }
   ],
   "source": [
    "# Gather\n",
    "def print_info(**kwargs):\n",
    "    print(kwargs)\n",
    "\n",
    "print_info(name=\"Alice\", age=25)\n",
    "# {'name': 'Alice', 'age': 25}\n",
    "\n",
    "# Scatter\n",
    "def show_student(name, score):\n",
    "    print(f\"{name} scored {score}\")\n",
    "\n",
    "student_info = {\"name\": \"Bob\", \"score\": 82}\n",
    "show_student(**student_info)"
   ]
  },
  {
   "cell_type": "markdown",
   "id": "2e702b9a-248c-4658-8ca0-9d928ecd13ac",
   "metadata": {
    "editable": true,
    "slideshow": {
     "slide_type": ""
    },
    "tags": []
   },
   "source": [
    "### Exercise 3\n",
    "Write a function that gathers any number of keyword arguments into a dictionary. Then, scatter a dictionary of your choice into a function that prints two arguments."
   ]
  },
  {
   "cell_type": "code",
   "execution_count": 26,
   "id": "1ffced30-0193-452d-ab24-35cb0262bf1d",
   "metadata": {
    "editable": true,
    "slideshow": {
     "slide_type": ""
    },
    "tags": [
     "hide-input",
     "hide-output"
    ]
   },
   "outputs": [
    {
     "name": "stdout",
     "output_type": "stream",
     "text": [
      "Gathered: {'name': 'Alice', 'age': 25}\n",
      "Bob is 30 years old.\n"
     ]
    }
   ],
   "source": [
    "# Gather\n",
    "def gather_info(**kwargs):\n",
    "    print(\"Gathered:\", kwargs)\n",
    "\n",
    "gather_info(name=\"Alice\", age=25)\n",
    "\n",
    "# Scatter\n",
    "def show_person(name, age):\n",
    "    print(f\"{name} is {age} years old.\")\n",
    "\n",
    "person = {\"name\": \"Bob\", \"age\": 30}\n",
    "show_person(**person)\n"
   ]
  },
  {
   "cell_type": "markdown",
   "id": "0d531f6f-40ea-4a11-a03c-53d37557fe1b",
   "metadata": {
    "editable": true,
    "slideshow": {
     "slide_type": ""
    },
    "tags": []
   },
   "source": [
    "## Comparing dictionaries, tuples, and lists\n",
    "\n",
    "Dictionaries can feel a lot like tuples and lists we discussed in previous chapters. Here is how they compare:\n",
    "| Feature            | List                        | Tuple                       | Dictionary                         |\n",
    "|--------------------|----------------------------|-----------------------------|------------------------------------|\n",
    "| **Mutability**     | Mutable (can change items)  | Immutable (cannot change)   | Mutable (can change keys/values)   |\n",
    "| **Syntax**         | `[1, 2, 3]`                | `(1, 2, 3)`                 | `{\"a\": 1, \"b\": 2}`                 |\n",
    "| **Access by**      | Index (`lst[0]`)            | Index (`tpl[0]`)            | Key (`d[\"a\"]`)                     |\n",
    "| **Use case**       | Ordered collection, dynamic | Fixed collection, safe keys | Key-value mapping, structured data |\n"
   ]
  },
  {
   "cell_type": "code",
   "execution_count": 27,
   "id": "3b9f84e6-4572-4838-8906-d63fe3b2b024",
   "metadata": {
    "editable": true,
    "slideshow": {
     "slide_type": ""
    },
    "tags": []
   },
   "outputs": [
    {
     "name": "stdout",
     "output_type": "stream",
     "text": [
      "List: ['pear', 'banana', 'cherry']\n"
     ]
    }
   ],
   "source": [
    "# List (mutable, indexed)\n",
    "fruits = [\"apple\", \"banana\", \"cherry\"]\n",
    "fruits[0] = \"pear\"\n",
    "print(\"List:\", fruits)"
   ]
  },
  {
   "cell_type": "code",
   "execution_count": 28,
   "id": "8aa027a4-c8b4-42fb-acd2-c778f098df69",
   "metadata": {
    "editable": true,
    "slideshow": {
     "slide_type": ""
    },
    "tags": []
   },
   "outputs": [
    {
     "name": "stdout",
     "output_type": "stream",
     "text": [
      "Tuple: (10, 20)\n"
     ]
    }
   ],
   "source": [
    "# Tuple (immutable, indexed)\n",
    "coordinates = (10, 20)\n",
    "print(\"Tuple:\", coordinates)"
   ]
  },
  {
   "cell_type": "code",
   "execution_count": 29,
   "id": "3ee525a7-1680-44da-99fe-1a710a2f4240",
   "metadata": {
    "editable": true,
    "slideshow": {
     "slide_type": ""
    },
    "tags": []
   },
   "outputs": [
    {
     "ename": "TypeError",
     "evalue": "'tuple' object does not support item assignment",
     "output_type": "error",
     "traceback": [
      "\u001b[0;31m---------------------------------------------------------------------------\u001b[0m",
      "\u001b[0;31mTypeError\u001b[0m                                 Traceback (most recent call last)",
      "Cell \u001b[0;32mIn[29], line 1\u001b[0m\n\u001b[0;32m----> 1\u001b[0m \u001b[43mcoordinates\u001b[49m\u001b[43m[\u001b[49m\u001b[38;5;241;43m0\u001b[39;49m\u001b[43m]\u001b[49m \u001b[38;5;241m=\u001b[39m \u001b[38;5;241m15\u001b[39m  \u001b[38;5;66;03m# raises TypeError\u001b[39;00m\n",
      "\u001b[0;31mTypeError\u001b[0m: 'tuple' object does not support item assignment"
     ]
    }
   ],
   "source": [
    "coordinates[0] = 15  # raises TypeError"
   ]
  },
  {
   "cell_type": "code",
   "execution_count": 30,
   "id": "5804aec4-2812-4848-ab6c-b54796234aed",
   "metadata": {
    "editable": true,
    "slideshow": {
     "slide_type": ""
    },
    "tags": []
   },
   "outputs": [
    {
     "name": "stdout",
     "output_type": "stream",
     "text": [
      "Dictionary: {'name': 'Alice', 'score': 90}\n"
     ]
    }
   ],
   "source": [
    "# Dictionary (mutable, key-value)\n",
    "student = {\"name\": \"Alice\", \"score\": 85}\n",
    "student[\"score\"] = 90\n",
    "print(\"Dictionary:\", student)"
   ]
  },
  {
   "cell_type": "markdown",
   "id": "f6313d3d-cbde-4300-8988-3d9d6d463c06",
   "metadata": {
    "editable": true,
    "slideshow": {
     "slide_type": ""
    },
    "tags": []
   },
   "source": [
    "## Summary\n",
    "\n",
    "- Dictionaries are **unordered, mutable collections** of key–value pairs.  \n",
    "- Keys must be **immutable** (e.g., strings, numbers, tuples), while values can be of any type.  \n",
    "- Access values by their key using `[]` or `.get()`.  \n",
    "- Add or update items with assignment (`d[key] = value`).  \n",
    "- Remove items with `del`, `pop()`, or `popitem()`.  \n",
    "- Common methods:  \n",
    "  - `keys()` → all keys  \n",
    "  - `values()` → all values  \n",
    "  - `items()` → all key–value pairs  \n",
    "- Dictionaries can be **nested**, allowing structured data storage.  \n",
    "- Built-in functions include `len()`, `dict()`, and `sorted()`.  \n",
    "- **Gather (`**kwargs`)** collects keyword arguments into a dictionary.  \n",
    "- **Scatter (`**`)** unpacks a dictionary into function arguments.  \n",
    "- Use dictionaries when you need to **map keys to values** or organise data in a structured way.\n"
   ]
  },
  {
   "cell_type": "markdown",
   "id": "7e18dce5-aa39-4a08-bd48-baf91b88d508",
   "metadata": {
    "editable": true,
    "slideshow": {
     "slide_type": ""
    },
    "tags": []
   },
   "source": [
    "### Exercise 4\n",
    "You are given the following dictionary representing books and the number of copies available:"
   ]
  },
  {
   "cell_type": "code",
   "execution_count": 35,
   "id": "3173e19e-d058-4d58-a115-80646f88e50b",
   "metadata": {
    "editable": true,
    "slideshow": {
     "slide_type": ""
    },
    "tags": []
   },
   "outputs": [],
   "source": [
    "library = {\n",
    "    \"1984\": 4,\n",
    "    \"To Kill a Mockingbird\": 2,\n",
    "    \"The Great Gatsby\": 5\n",
    "}"
   ]
  },
  {
   "cell_type": "markdown",
   "id": "69754840-3328-4603-bcfc-a8ffa92200af",
   "metadata": {
    "editable": true,
    "slideshow": {
     "slide_type": ""
    },
    "tags": []
   },
   "source": [
    "- Print the number of copies of \"1984\".\n",
    "- A student borrows one copy of \"The Great Gatsby\" (reduce its count by 1).\n",
    "- Print the total number of books available (sum of all values).\n",
    "- Create a new dictionary availability where each book maps to True if at least one copy is available, otherwise False."
   ]
  },
  {
   "cell_type": "code",
   "execution_count": 36,
   "id": "441d862d-dfa2-4301-8f86-7dd15045915a",
   "metadata": {
    "editable": true,
    "slideshow": {
     "slide_type": ""
    },
    "tags": [
     "hide-input",
     "hide-output"
    ]
   },
   "outputs": [
    {
     "name": "stdout",
     "output_type": "stream",
     "text": [
      "Copies of 1984: 4\n",
      "Total books available: 10\n",
      "Availability: {'1984': True, 'To Kill a Mockingbird': True, 'The Great Gatsby': True}\n"
     ]
    }
   ],
   "source": [
    "print(\"Copies of 1984:\", library[\"1984\"])\n",
    "\n",
    "library[\"The Great Gatsby\"] -= 1\n",
    "\n",
    "total_books = sum(library.values())\n",
    "print(\"Total books available:\", total_books)\n",
    "\n",
    "availability = {title: count > 0 for title, count in library.items()}\n",
    "print(\"Availability:\", availability)"
   ]
  }
 ],
 "metadata": {
  "celltoolbar": "Edit Metadata",
  "kernelspec": {
   "display_name": "Python 3 (ipykernel)",
   "language": "python",
   "name": "python3"
  },
  "language_info": {
   "codemirror_mode": {
    "name": "ipython",
    "version": 3
   },
   "file_extension": ".py",
   "mimetype": "text/x-python",
   "name": "python",
   "nbconvert_exporter": "python",
   "pygments_lexer": "ipython3",
   "version": "3.12.8"
  }
 },
 "nbformat": 4,
 "nbformat_minor": 5
}