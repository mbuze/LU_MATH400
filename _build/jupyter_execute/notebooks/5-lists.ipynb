{
 "cells": [
  {
   "cell_type": "markdown",
   "id": "5cfdfa1e",
   "metadata": {
    "editable": true,
    "slideshow": {
     "slide_type": ""
    },
    "tags": []
   },
   "source": [
    "# Lists\n",
    "\n",
    "This chapter covers Python lists: creation, indexing, operations, methods, and aliasing. Lists are ordered, mutable sequences."
   ]
  },
  {
   "cell_type": "markdown",
   "id": "20e1af7f-0e9e-448e-ad98-b67694ffdfe0",
   "metadata": {
    "editable": true,
    "slideshow": {
     "slide_type": ""
    },
    "tags": []
   },
   "source": [
    "## What is a list\n",
    "\n",
    "- A **list** is an ordered sequence of values, called elements.  \n",
    "- Elements can be of mixed types, including numbers, strings, booleans, or other lists (nested lists).  \n",
    "- Lists are created with square brackets `[]`.  \n",
    "\n",
    "Examples:"
   ]
  },
  {
   "cell_type": "code",
   "execution_count": 1,
   "id": "823c7976-4096-49f2-84ae-39184b84f334",
   "metadata": {
    "editable": true,
    "slideshow": {
     "slide_type": ""
    },
    "tags": []
   },
   "outputs": [],
   "source": [
    "numbers = [10, 20, 30, 40]\n",
    "strings = ['crunchy frog', 'ram bladder', 'lark vomit']\n",
    "mixed = [\"hello\", 3.14, 42, [True, 2.71]]  # nested list\n",
    "empty = []  # empty list"
   ]
  },
  {
   "cell_type": "code",
   "execution_count": 2,
   "id": "d41b4fd9-f3cf-469a-beb9-13d652cbfff2",
   "metadata": {
    "editable": true,
    "slideshow": {
     "slide_type": ""
    },
    "tags": []
   },
   "outputs": [
    {
     "name": "stdout",
     "output_type": "stream",
     "text": [
      "[10, 20, 30, 40]\n",
      "['crunchy frog', 'ram bladder', 'lark vomit']\n",
      "['hello', 3.14, 42, [True, 2.71]]\n",
      "[]\n"
     ]
    }
   ],
   "source": [
    "print(numbers)\n",
    "print(strings)\n",
    "print(mixed)\n",
    "print(empty)"
   ]
  },
  {
   "cell_type": "markdown",
   "id": "466c9966",
   "metadata": {
    "editable": true,
    "slideshow": {
     "slide_type": ""
    },
    "tags": []
   },
   "source": [
    "## Accessing and modifying lists\n",
    "\n",
    "- Access elements with zero-based indices using square brackets.  \n",
    "- Negative indices count from the end of the list.  \n",
    "- Lists are **mutable**; you can reassign elements.  \n",
    "- Strings, by contrast, are **immutable**.  \n",
    "- Use the `in` operator to check membership.\n"
   ]
  },
  {
   "cell_type": "code",
   "execution_count": 3,
   "id": "369d9257-8805-4a6d-9010-74d518fb3618",
   "metadata": {
    "editable": true,
    "slideshow": {
     "slide_type": ""
    },
    "tags": []
   },
   "outputs": [
    {
     "name": "stdout",
     "output_type": "stream",
     "text": [
      "['Cheddar', 'Edam', 'Gouda']\n"
     ]
    }
   ],
   "source": [
    "cheeses = ['Cheddar', 'Edam', 'Gouda']\n",
    "print(cheeses)"
   ]
  },
  {
   "cell_type": "code",
   "execution_count": 4,
   "id": "f6bde4b5-5d1f-4190-a5a8-c38f641c9702",
   "metadata": {
    "editable": true,
    "slideshow": {
     "slide_type": ""
    },
    "tags": []
   },
   "outputs": [
    {
     "name": "stdout",
     "output_type": "stream",
     "text": [
      "Cheddar\n",
      "Gouda\n"
     ]
    }
   ],
   "source": [
    "# Access first and last element\n",
    "print(cheeses[0])   # Cheddar\n",
    "print(cheeses[-1])  # Gouda"
   ]
  },
  {
   "cell_type": "code",
   "execution_count": 5,
   "id": "3f72bdd0-c665-4dd3-9505-640d96849203",
   "metadata": {
    "editable": true,
    "slideshow": {
     "slide_type": ""
    },
    "tags": []
   },
   "outputs": [
    {
     "name": "stdout",
     "output_type": "stream",
     "text": [
      "['Cheddar', 'Brie', 'Gouda']\n",
      "True\n",
      "False\n"
     ]
    }
   ],
   "source": [
    "# Modify a list\n",
    "cheeses[1] = 'Brie'\n",
    "print(cheeses)       # ['Cheddar', 'Brie', 'Gouda']\n",
    "\n",
    "# Membership check\n",
    "print('Brie' in cheeses)  # True\n",
    "print('Feta' in cheeses)  # False\n",
    "\n",
    "# Strings are immutable\n",
    "msg = \"hello\"\n",
    "# msg[2] = 'a'  # This would raise TypeError"
   ]
  },
  {
   "cell_type": "markdown",
   "id": "35bac872-6e43-4c87-9c55-e5dec12ab09e",
   "metadata": {
    "editable": true,
    "slideshow": {
     "slide_type": ""
    },
    "tags": []
   },
   "source": [
    "### Exercise 1\n",
    "\n",
    "Assign a string to a variable, then create a new string by concatenating it with additional text and store the result in a separate variable"
   ]
  },
  {
   "cell_type": "code",
   "execution_count": 6,
   "id": "5d04f005",
   "metadata": {
    "editable": true,
    "slideshow": {
     "slide_type": ""
    },
    "tags": [
     "hide-input",
     "hide-output"
    ]
   },
   "outputs": [
    {
     "name": "stdout",
     "output_type": "stream",
     "text": [
      "hello world\n"
     ]
    }
   ],
   "source": [
    "s1 = \"hello\"\n",
    "s2 = s1 + \" world\"\n",
    "print(s2)"
   ]
  },
  {
   "cell_type": "markdown",
   "id": "0bdd5c1e-1b7d-4562-b69e-a3bf9bee370f",
   "metadata": {
    "editable": true,
    "slideshow": {
     "slide_type": ""
    },
    "tags": []
   },
   "source": [
    "## List operations\n",
    "\n",
    "- Concatenate lists with `+`.  \n",
    "- Repeat lists with `*`.  \n",
    "- Slice lists with `[start:end]` to obtain sublists. Omitting `start` or `end` defaults to the beginning or end.  \n",
    "- Slice assignment can insert or remove elements.\n"
   ]
  },
  {
   "cell_type": "code",
   "execution_count": 7,
   "id": "cc5044f8-a458-4e27-888c-eb974a81f9fa",
   "metadata": {
    "editable": true,
    "slideshow": {
     "slide_type": ""
    },
    "tags": []
   },
   "outputs": [
    {
     "name": "stdout",
     "output_type": "stream",
     "text": [
      "[1, 2, 3]\n",
      "[4, 5, 6]\n"
     ]
    }
   ],
   "source": [
    "a = [1, 2, 3]\n",
    "b = [4, 5, 6]\n",
    "\n",
    "print(a)\n",
    "print(b)"
   ]
  },
  {
   "cell_type": "code",
   "execution_count": 8,
   "id": "7732b979-7bea-49d8-a202-090c959d6773",
   "metadata": {
    "editable": true,
    "slideshow": {
     "slide_type": ""
    },
    "tags": []
   },
   "outputs": [
    {
     "name": "stdout",
     "output_type": "stream",
     "text": [
      "[1, 2, 3, 4, 5, 6]\n"
     ]
    }
   ],
   "source": [
    "# Concatenate\n",
    "c = a + b\n",
    "print(c)  # [1, 2, 3, 4, 5, 6]"
   ]
  },
  {
   "cell_type": "markdown",
   "id": "ef20dc08-21f3-4f56-92a4-749e8fb5468c",
   "metadata": {
    "editable": true,
    "slideshow": {
     "slide_type": ""
    },
    "tags": []
   },
   "source": [
    "### Exercise 2\n",
    "\n",
    "Guess the output of the following:"
   ]
  },
  {
   "cell_type": "code",
   "execution_count": 9,
   "id": "6d1cd1f7-f53b-4f64-9c90-f0af02a51a65",
   "metadata": {
    "editable": true,
    "slideshow": {
     "slide_type": ""
    },
    "tags": [
     "hide-output"
    ]
   },
   "outputs": [
    {
     "name": "stdout",
     "output_type": "stream",
     "text": [
      "[0, 0, 0]\n"
     ]
    }
   ],
   "source": [
    "print([0] * 3)"
   ]
  },
  {
   "cell_type": "code",
   "execution_count": 10,
   "id": "65547cd7-3fa6-49fc-a787-c9592ad029e9",
   "metadata": {
    "editable": true,
    "slideshow": {
     "slide_type": ""
    },
    "tags": [
     "hide-output"
    ]
   },
   "outputs": [
    {
     "name": "stdout",
     "output_type": "stream",
     "text": [
      "[1, 2, 3, 1, 2, 3]\n"
     ]
    }
   ],
   "source": [
    "print([1, 2, 3] * 2)"
   ]
  },
  {
   "cell_type": "code",
   "execution_count": 11,
   "id": "7ad6278a-2e63-46fc-8ca2-e0f08c1341d4",
   "metadata": {
    "editable": true,
    "slideshow": {
     "slide_type": ""
    },
    "tags": []
   },
   "outputs": [
    {
     "name": "stdout",
     "output_type": "stream",
     "text": [
      "['b', 'c', 'd']\n",
      "['a', 'b', 'c']\n",
      "['d', 'e', 'f']\n",
      "['a', 'b', 'c', 'd', 'e', 'f']\n"
     ]
    }
   ],
   "source": [
    "# Slicing\n",
    "t = ['a', 'b', 'c', 'd', 'e', 'f']\n",
    "print(t[1:4])  # ['b', 'c', 'd']\n",
    "print(t[:3])   # ['a', 'b', 'c']\n",
    "print(t[3:])   # ['d', 'e', 'f']\n",
    "print(t[:])    # ['a', 'b', 'c', 'd', 'e', 'f']  # copy"
   ]
  },
  {
   "cell_type": "code",
   "execution_count": 12,
   "id": "3362488e-f67d-4e10-bb1c-34ed3248fc6f",
   "metadata": {
    "editable": true,
    "slideshow": {
     "slide_type": ""
    },
    "tags": []
   },
   "outputs": [
    {
     "name": "stdout",
     "output_type": "stream",
     "text": [
      "['a', 'x', 'y', 'd', 'e', 'f']\n"
     ]
    }
   ],
   "source": [
    "# Slice assignment\n",
    "t[1:3] = ['x', 'y']\n",
    "print(t)       # ['a', 'x', 'y', 'd', 'e', 'f']"
   ]
  },
  {
   "cell_type": "code",
   "execution_count": 13,
   "id": "45ed179a-85e1-4d46-b582-f46fffac829c",
   "metadata": {
    "editable": true,
    "slideshow": {
     "slide_type": ""
    },
    "tags": []
   },
   "outputs": [
    {
     "name": "stdout",
     "output_type": "stream",
     "text": [
      "['a', 'b', 'c', 'x', 'y', 'd', 'e', 'f']\n"
     ]
    }
   ],
   "source": [
    "# Insert elements using slices\n",
    "t[1:1] = ['b', 'c']\n",
    "print(t)       # ['a', 'b', 'c', 'x', 'y', 'd', 'e', 'f']"
   ]
  },
  {
   "cell_type": "code",
   "execution_count": 14,
   "id": "3f659fb4-6cca-4ec8-b1f6-87713b5e3c00",
   "metadata": {
    "editable": true,
    "slideshow": {
     "slide_type": ""
    },
    "tags": []
   },
   "outputs": [
    {
     "name": "stdout",
     "output_type": "stream",
     "text": [
      "['a', 'x', 'y', 'd', 'e', 'f']\n"
     ]
    }
   ],
   "source": [
    "# Remove elements using slices\n",
    "t[1:3] = []\n",
    "print(t)       # ['a', 'x', 'y', 'd', 'e', 'f']"
   ]
  },
  {
   "cell_type": "markdown",
   "id": "a549979c-3136-4446-8109-a4e1b9cc7fe9",
   "metadata": {
    "editable": true,
    "slideshow": {
     "slide_type": ""
    },
    "tags": []
   },
   "source": [
    "## List methods\n",
    "\n",
    "- `append(x)` adds an element to the end.  \n",
    "- `extend(list2)` adds all elements of another list.  \n",
    "- `sort()` orders elements in place.  \n",
    "- Methods that modify a list return `None`.\n"
   ]
  },
  {
   "cell_type": "code",
   "execution_count": 15,
   "id": "6da1a7a9-0fd0-4977-b4bb-45f9a94cd921",
   "metadata": {
    "editable": true,
    "slideshow": {
     "slide_type": ""
    },
    "tags": []
   },
   "outputs": [
    {
     "name": "stdout",
     "output_type": "stream",
     "text": [
      "['a', 'b', 'c']\n"
     ]
    }
   ],
   "source": [
    "t = ['a', 'b', 'c']\n",
    "print(t)"
   ]
  },
  {
   "cell_type": "code",
   "execution_count": 16,
   "id": "c0a0d720-3993-4b9c-a026-ec73b7047d33",
   "metadata": {
    "editable": true,
    "slideshow": {
     "slide_type": ""
    },
    "tags": []
   },
   "outputs": [
    {
     "name": "stdout",
     "output_type": "stream",
     "text": [
      "['a', 'b', 'c', 'd']\n"
     ]
    }
   ],
   "source": [
    "# Append\n",
    "t.append('d')\n",
    "print(t)  # ['a', 'b', 'c', 'd']"
   ]
  },
  {
   "cell_type": "code",
   "execution_count": 17,
   "id": "da02bc99-ab81-40d9-9d11-7be7261867c5",
   "metadata": {
    "editable": true,
    "slideshow": {
     "slide_type": ""
    },
    "tags": []
   },
   "outputs": [
    {
     "name": "stdout",
     "output_type": "stream",
     "text": [
      "['a', 'b', 'c', 'd', 'e']\n",
      "['d', 'e']\n"
     ]
    }
   ],
   "source": [
    "# Extend\n",
    "t1 = ['a', 'b', 'c']\n",
    "t2 = ['d', 'e']\n",
    "t1.extend(t2)\n",
    "print(t1)  # ['a', 'b', 'c', 'd', 'e']\n",
    "print(t2)  # ['d', 'e']"
   ]
  },
  {
   "cell_type": "markdown",
   "id": "16242c93-ce37-491d-b16e-215e0f5bd969",
   "metadata": {
    "editable": true,
    "slideshow": {
     "slide_type": ""
    },
    "tags": []
   },
   "source": [
    "### Exercise 3\n",
    "\n",
    "What does the following code achieve?"
   ]
  },
  {
   "cell_type": "code",
   "execution_count": 18,
   "id": "ab112fd1-f101-4bb1-b568-0b82309e5cdf",
   "metadata": {
    "editable": true,
    "slideshow": {
     "slide_type": ""
    },
    "tags": []
   },
   "outputs": [],
   "source": [
    "nums = [5, 2, 9, 1]\n",
    "nums.sort()"
   ]
  },
  {
   "cell_type": "markdown",
   "id": "0bb3a2c6-1166-4081-b04b-f1c9215bd4f8",
   "metadata": {
    "editable": true,
    "slideshow": {
     "slide_type": ""
    },
    "tags": []
   },
   "source": [
    "## Aliasing\n",
    "\n",
    "- Assigning `b = a` makes `b` an **alias** of `a`. Changes affect both.\n"
   ]
  },
  {
   "cell_type": "code",
   "execution_count": 19,
   "id": "71e85e8b-6f18-4b4d-aaba-a78a2601c739",
   "metadata": {
    "editable": true,
    "slideshow": {
     "slide_type": ""
    },
    "tags": []
   },
   "outputs": [
    {
     "name": "stdout",
     "output_type": "stream",
     "text": [
      "[99, 2, 3]\n"
     ]
    }
   ],
   "source": [
    "a = [1, 2, 3]\n",
    "b = a\n",
    "b[0] = 99\n",
    "print(a)  # [99, 2, 3]"
   ]
  },
  {
   "cell_type": "code",
   "execution_count": 20,
   "id": "af5bf776-9795-401d-a2a3-bce293879779",
   "metadata": {
    "editable": true,
    "slideshow": {
     "slide_type": ""
    },
    "tags": []
   },
   "outputs": [
    {
     "data": {
      "text/plain": [
       "True"
      ]
     },
     "execution_count": 20,
     "metadata": {},
     "output_type": "execute_result"
    }
   ],
   "source": [
    "b is a"
   ]
  },
  {
   "cell_type": "markdown",
   "id": "40688600-0e66-40ab-9f43-8f59b599d925",
   "metadata": {
    "editable": true,
    "slideshow": {
     "slide_type": ""
    },
    "tags": []
   },
   "source": [
    "### Exercise 4\n",
    "\n",
    "Suppose we define"
   ]
  },
  {
   "cell_type": "code",
   "execution_count": 21,
   "id": "a34c066f-b5b6-4359-9578-70a9db23ec3f",
   "metadata": {
    "editable": true,
    "slideshow": {
     "slide_type": ""
    },
    "tags": []
   },
   "outputs": [
    {
     "name": "stdout",
     "output_type": "stream",
     "text": [
      "[1, 2, 3]\n",
      "[1, 2, 3]\n"
     ]
    }
   ],
   "source": [
    "a = [1, 2, 3]\n",
    "b = [1, 2, 3]\n",
    "print(a)\n",
    "print(b)"
   ]
  },
  {
   "cell_type": "markdown",
   "id": "699bb4d8-ea8d-49ac-b2b3-5f3e6d5d8c8c",
   "metadata": {
    "editable": true,
    "slideshow": {
     "slide_type": ""
    },
    "tags": []
   },
   "source": [
    "What is the output of the following code:"
   ]
  },
  {
   "cell_type": "code",
   "execution_count": 22,
   "id": "32d05765-0741-4363-855c-59076185119b",
   "metadata": {
    "editable": true,
    "slideshow": {
     "slide_type": ""
    },
    "tags": [
     "hide-output"
    ]
   },
   "outputs": [
    {
     "name": "stdout",
     "output_type": "stream",
     "text": [
      "True\n",
      "False\n"
     ]
    }
   ],
   "source": [
    "print(b == a)\n",
    "print(b is a)"
   ]
  },
  {
   "cell_type": "markdown",
   "id": "da9bc08c-7a41-4143-b575-022e30580a42",
   "metadata": {
    "editable": true,
    "slideshow": {
     "slide_type": ""
    },
    "tags": []
   },
   "source": [
    "## Functions and aliasing\n",
    "\n",
    "- Passing a list to a function passes a reference.  \n",
    "- Modifications inside the function persist outside.\n"
   ]
  },
  {
   "cell_type": "code",
   "execution_count": 23,
   "id": "e01629e2-a171-44b2-8d94-07eb5d413846",
   "metadata": {
    "editable": true,
    "slideshow": {
     "slide_type": ""
    },
    "tags": []
   },
   "outputs": [
    {
     "name": "stdout",
     "output_type": "stream",
     "text": [
      "[100, 2, 3]\n"
     ]
    }
   ],
   "source": [
    "def modify(lst):\n",
    "    lst[0] = 100\n",
    "\n",
    "numbers = [1, 2, 3]\n",
    "modify(numbers)\n",
    "print(numbers)  # [100, 2, 3]\n"
   ]
  },
  {
   "cell_type": "markdown",
   "id": "0031ff2a-1456-41fb-8f9a-5d85d8d90e68",
   "metadata": {
    "editable": true,
    "slideshow": {
     "slide_type": ""
    },
    "tags": []
   },
   "source": [
    "## Style recommendation\n",
    "\n",
    "- Multiple idioms exist for operations (`pop`, `remove`, `del`, or even `slice` assignment).\n",
    "- Choose one approach and stick with it for readability and maintainability."
   ]
  },
  {
   "cell_type": "markdown",
   "id": "3c112482-9462-4e55-b425-a7038abbc792",
   "metadata": {
    "editable": true,
    "slideshow": {
     "slide_type": ""
    },
    "tags": []
   },
   "source": [
    "## Summary\n",
    "\n",
    "- **Lists** are ordered, mutable sequences that can contain elements of any type, including other lists.  \n",
    "- Elements are accessed via **zero-based indexing**; negative indices count from the end.  \n",
    "- Lists support operations such as **concatenation (`+`)**, **repetition (`*`)**, and **slicing**.  \n",
    "- **Slice assignment** allows insertion or removal of elements.  \n",
    "- Common methods include `append()`, `extend()`, and `sort()`. Methods that modify a list return `None`.  \n",
    "- **Aliasing** occurs when multiple variables reference the same list; modifications via one variable affect all aliases.  \n",
    "- Passing lists to functions also passes references, so changes inside functions persist outside.  \n",
    "- For clarity and maintainability, **choose one idiom for operations** and apply it consistently.  \n"
   ]
  },
  {
   "cell_type": "markdown",
   "id": "e539cb0a",
   "metadata": {
    "editable": true,
    "slideshow": {
     "slide_type": ""
    },
    "tags": []
   },
   "source": [
    "Part of the problem with lists is that there are too many\n",
    "ways to do things.  For example, to remove an element from\n",
    "a list, you can use **pop**, **remove**, **del**,\n",
    "or even a **slice** assignment."
   ]
  },
  {
   "cell_type": "markdown",
   "id": "ec80b6d2",
   "metadata": {
    "editable": true,
    "slideshow": {
     "slide_type": ""
    },
    "tags": []
   },
   "source": [
    "### Exercise 5\n",
    "\n",
    "1. Create a list containing at least five elements of different types (e.g., strings, numbers, booleans).  \n",
    "2. Access the second and last elements and print them.  \n",
    "3. Change the third element to a new value.  \n",
    "4. Append a new element to the end of the list.  \n",
    "5. Create a sublist containing the second through fourth elements and print it.  \n",
    "6. Check whether a particular value exists in the list and print the result.  "
   ]
  },
  {
   "cell_type": "code",
   "execution_count": 24,
   "id": "bc647845",
   "metadata": {
    "editable": true,
    "slideshow": {
     "slide_type": ""
    },
    "tags": [
     "hide-output",
     "hide-input"
    ]
   },
   "outputs": [
    {
     "name": "stdout",
     "output_type": "stream",
     "text": [
      "42\n",
      "banana\n",
      "['apple', 42, False, 3.14, 'banana']\n",
      "['apple', 42, False, 3.14, 'banana', 'cherry']\n",
      "[42, False, 3.14]\n",
      "True\n",
      "False\n"
     ]
    }
   ],
   "source": [
    "my_list = ['apple', 42, True, 3.14, 'banana']\n",
    "\n",
    "# Access elements\n",
    "print(my_list[1])   # 42\n",
    "print(my_list[-1])  # 'banana'\n",
    "\n",
    "# Modify element\n",
    "my_list[2] = False\n",
    "print(my_list)\n",
    "\n",
    "# Append new element\n",
    "my_list.append('cherry')\n",
    "print(my_list)\n",
    "\n",
    "# Slice sublist\n",
    "sublist = my_list[1:4]\n",
    "print(sublist)\n",
    "\n",
    "# Check membership\n",
    "print('apple' in my_list)   # True\n",
    "print('orange' in my_list)  # False\n"
   ]
  }
 ],
 "metadata": {
  "celltoolbar": "Edit Metadata",
  "kernelspec": {
   "display_name": "Python 3 (ipykernel)",
   "language": "python",
   "name": "python3"
  },
  "language_info": {
   "codemirror_mode": {
    "name": "ipython",
    "version": 3
   },
   "file_extension": ".py",
   "mimetype": "text/x-python",
   "name": "python",
   "nbconvert_exporter": "python",
   "pygments_lexer": "ipython3",
   "version": "3.12.8"
  }
 },
 "nbformat": 4,
 "nbformat_minor": 5
}