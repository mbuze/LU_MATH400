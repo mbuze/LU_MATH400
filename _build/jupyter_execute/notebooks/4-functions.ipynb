{
 "cells": [
  {
   "cell_type": "markdown",
   "id": "ee2f5537",
   "metadata": {
    "editable": true,
    "slideshow": {
     "slide_type": ""
    },
    "tags": []
   },
   "source": [
    "# Functions"
   ]
  },
  {
   "cell_type": "markdown",
   "id": "f14ad26f-344a-4c9d-b567-848b61250124",
   "metadata": {
    "editable": true,
    "slideshow": {
     "slide_type": ""
    },
    "tags": []
   },
   "source": [
    "This section covers how to define and use functions to organise code, perform reusable computations, and encapsulate logic."
   ]
  },
  {
   "cell_type": "markdown",
   "id": "37587973",
   "metadata": {
    "editable": true,
    "slideshow": {
     "slide_type": ""
    },
    "tags": []
   },
   "source": [
    "## Function calls\n",
    "\n",
    "A **function** is a named sequence of statements that performs a computation.  \n",
    "- When you call a function, you provide its **arguments** in parentheses.  \n",
    "- The function processes those arguments and produces a **return value**.\n",
    "\n",
    "Example:\n"
   ]
  },
  {
   "cell_type": "code",
   "execution_count": 1,
   "id": "f35fcaff",
   "metadata": {
    "editable": true,
    "slideshow": {
     "slide_type": ""
    },
    "tags": []
   },
   "outputs": [
    {
     "data": {
      "text/plain": [
       "int"
      ]
     },
     "execution_count": 1,
     "metadata": {},
     "output_type": "execute_result"
    }
   ],
   "source": [
    "type(32)"
   ]
  },
  {
   "cell_type": "markdown",
   "id": "9d5de4fb",
   "metadata": {
    "editable": true,
    "slideshow": {
     "slide_type": ""
    },
    "tags": []
   },
   "source": [
    "Here:\n",
    "- `type` is the function name  \n",
    "- `32` is the argument  \n",
    "- The result is the type of the argument"
   ]
  },
  {
   "cell_type": "markdown",
   "id": "2ac05e37",
   "metadata": {
    "editable": true,
    "slideshow": {
     "slide_type": ""
    },
    "tags": []
   },
   "source": [
    "## Conversion functions "
   ]
  },
  {
   "cell_type": "markdown",
   "id": "5564fb16",
   "metadata": {
    "editable": true,
    "slideshow": {
     "slide_type": ""
    },
    "tags": []
   },
   "source": [
    "Python provides functions to convert values between types:"
   ]
  },
  {
   "cell_type": "code",
   "execution_count": 2,
   "id": "1702e4fe",
   "metadata": {
    "editable": true,
    "slideshow": {
     "slide_type": ""
    },
    "tags": []
   },
   "outputs": [
    {
     "name": "stdout",
     "output_type": "stream",
     "text": [
      "17.584\n"
     ]
    }
   ],
   "source": [
    "# Example 1\n",
    "x = 3.14\n",
    "y = \"5.6\"\n",
    "\n",
    "# y must be converted before multiplying\n",
    "y = float(y)\n",
    "print(x * y)"
   ]
  },
  {
   "cell_type": "code",
   "execution_count": 3,
   "id": "9f6ecd97-106d-44de-8b17-8066ee90c6ff",
   "metadata": {
    "editable": true,
    "slideshow": {
     "slide_type": ""
    },
    "tags": []
   },
   "outputs": [
    {
     "name": "stdout",
     "output_type": "stream",
     "text": [
      "pi = 3.14159\n"
     ]
    }
   ],
   "source": [
    "# Example 2\n",
    "z = \"pi = \" + str(3.14159)\n",
    "print(z)"
   ]
  },
  {
   "cell_type": "code",
   "execution_count": 4,
   "id": "7ede32aa-d291-4150-9e92-66e04c138367",
   "metadata": {
    "editable": true,
    "slideshow": {
     "slide_type": ""
    },
    "tags": []
   },
   "outputs": [
    {
     "name": "stdout",
     "output_type": "stream",
     "text": [
      "(1+2j)\n",
      "(-3+4j)\n"
     ]
    }
   ],
   "source": [
    "# Example 3\n",
    "z1 = complex(1, 2)\n",
    "print(z1)\n",
    "print(z1 * z1)"
   ]
  },
  {
   "cell_type": "code",
   "execution_count": 5,
   "id": "ae15acd5",
   "metadata": {
    "editable": true,
    "slideshow": {
     "slide_type": ""
    },
    "tags": []
   },
   "outputs": [
    {
     "name": "stdout",
     "output_type": "stream",
     "text": [
      "pi = 3.14159\n"
     ]
    }
   ],
   "source": [
    "z = \"pi = \" + str(3.14159)\n",
    "print(z)"
   ]
  },
  {
   "cell_type": "code",
   "execution_count": 6,
   "id": "ac372e88",
   "metadata": {
    "editable": true,
    "slideshow": {
     "slide_type": ""
    },
    "tags": []
   },
   "outputs": [
    {
     "name": "stdout",
     "output_type": "stream",
     "text": [
      "(1+2j)\n",
      "(-3+4j)\n"
     ]
    }
   ],
   "source": [
    "z1 = complex(1,2)\n",
    "print(z1)\n",
    "print(z1*z1)"
   ]
  },
  {
   "cell_type": "markdown",
   "id": "e0b84fd5",
   "metadata": {},
   "source": [
    "As example 3 demonstrates, the conversion functions also provide a way of __\"initialising\"__ some of the more complex python type. "
   ]
  },
  {
   "cell_type": "markdown",
   "id": "8954f722-9cfa-451f-9aa9-19973a26070a",
   "metadata": {
    "editable": true,
    "slideshow": {
     "slide_type": ""
    },
    "tags": []
   },
   "source": [
    "## Defining new functions\n",
    "\n",
    "We define new functions with `def`, followed by the function name, parameters in parentheses, and an indented body. Use `return` to specify the result.\n"
   ]
  },
  {
   "cell_type": "code",
   "execution_count": 7,
   "id": "debdd7d4",
   "metadata": {
    "editable": true,
    "slideshow": {
     "slide_type": ""
    },
    "tags": []
   },
   "outputs": [
    {
     "name": "stdout",
     "output_type": "stream",
     "text": [
      "0.003492943259127733\n"
     ]
    }
   ],
   "source": [
    "def f(x):\n",
    "    y = 1 / (1 + x)\n",
    "    return y\n",
    "\n",
    "def g(x, n):\n",
    "    y = 1 / ((1 + x) ** n)\n",
    "    return y\n",
    "\n",
    "print(g(2.1, 5))"
   ]
  },
  {
   "cell_type": "markdown",
   "id": "b4bc572d-4901-46c2-8b62-e8447f5d3622",
   "metadata": {
    "editable": true,
    "slideshow": {
     "slide_type": ""
    },
    "tags": []
   },
   "source": [
    "### Exercise 1\n",
    "What is the type of `g`?"
   ]
  },
  {
   "cell_type": "code",
   "execution_count": 8,
   "id": "ba3a87f3",
   "metadata": {
    "editable": true,
    "slideshow": {
     "slide_type": ""
    },
    "tags": [
     "hide-output",
     "hide-input"
    ]
   },
   "outputs": [
    {
     "data": {
      "text/plain": [
       "function"
      ]
     },
     "execution_count": 8,
     "metadata": {},
     "output_type": "execute_result"
    }
   ],
   "source": [
    "type(g)"
   ]
  },
  {
   "cell_type": "markdown",
   "id": "4fcc2423",
   "metadata": {
    "editable": true,
    "slideshow": {
     "slide_type": ""
    },
    "tags": []
   },
   "source": [
    "### Exercise 2\n",
    "\n",
    "Predict the results of these function calls:"
   ]
  },
  {
   "cell_type": "code",
   "execution_count": 9,
   "id": "77be3759-8190-44f2-8db0-8c77346c168b",
   "metadata": {
    "editable": true,
    "slideshow": {
     "slide_type": ""
    },
    "tags": [
     "hide-output"
    ]
   },
   "outputs": [],
   "source": [
    "def f(a, b, c):\n",
    "    return (a + 2*b + 3*c)"
   ]
  },
  {
   "cell_type": "code",
   "execution_count": 10,
   "id": "b010c74a-7969-4680-83ee-7422df674287",
   "metadata": {
    "editable": true,
    "slideshow": {
     "slide_type": ""
    },
    "tags": [
     "hide-output"
    ]
   },
   "outputs": [
    {
     "name": "stdout",
     "output_type": "stream",
     "text": [
      "14\n"
     ]
    }
   ],
   "source": [
    "print(f(1, 2, 3))"
   ]
  },
  {
   "cell_type": "code",
   "execution_count": 11,
   "id": "d17d567d-d7d7-47a1-a360-e35ac54aa8f2",
   "metadata": {
    "editable": true,
    "slideshow": {
     "slide_type": ""
    },
    "tags": [
     "hide-output"
    ]
   },
   "outputs": [
    {
     "name": "stdout",
     "output_type": "stream",
     "text": [
      "14\n"
     ]
    }
   ],
   "source": [
    "print(f(a=1, b=2, c=3))"
   ]
  },
  {
   "cell_type": "code",
   "execution_count": 12,
   "id": "68e4be8f-6e04-4b0a-95cf-4a0042148534",
   "metadata": {
    "editable": true,
    "slideshow": {
     "slide_type": ""
    },
    "tags": [
     "hide-output"
    ]
   },
   "outputs": [
    {
     "name": "stdout",
     "output_type": "stream",
     "text": [
      "14\n"
     ]
    }
   ],
   "source": [
    "print(f(a=1, c=3, b=2))"
   ]
  },
  {
   "cell_type": "code",
   "execution_count": 13,
   "id": "2e7f16ea-78b5-4f08-8f26-7ef92ff22bf1",
   "metadata": {
    "editable": true,
    "slideshow": {
     "slide_type": ""
    },
    "tags": [
     "hide-output"
    ]
   },
   "outputs": [
    {
     "name": "stdout",
     "output_type": "stream",
     "text": [
      "14\n"
     ]
    }
   ],
   "source": [
    "print(f(1, 2, c=3))"
   ]
  },
  {
   "cell_type": "code",
   "execution_count": 14,
   "id": "73d4b66f-2eaa-4ca3-833a-13861b48c361",
   "metadata": {
    "editable": true,
    "slideshow": {
     "slide_type": ""
    },
    "tags": [
     "hide-output"
    ]
   },
   "outputs": [
    {
     "ename": "SyntaxError",
     "evalue": "positional argument follows keyword argument (2750023345.py, line 1)",
     "output_type": "error",
     "traceback": [
      "\u001b[0;36m  Cell \u001b[0;32mIn[14], line 1\u001b[0;36m\u001b[0m\n\u001b[0;31m    print(f(1, c=3, 2))\u001b[0m\n\u001b[0m                     ^\u001b[0m\n\u001b[0;31mSyntaxError\u001b[0m\u001b[0;31m:\u001b[0m positional argument follows keyword argument\n"
     ]
    }
   ],
   "source": [
    "print(f(1, c=3, 2))"
   ]
  },
  {
   "cell_type": "markdown",
   "id": "6da55999",
   "metadata": {
    "editable": true,
    "slideshow": {
     "slide_type": ""
    },
    "tags": []
   },
   "source": [
    "## Functions and scope\n",
    "\n",
    "Variables defined inside a function are **local** to that function. They cannot be accessed outside it.\n"
   ]
  },
  {
   "cell_type": "code",
   "execution_count": 12,
   "id": "ef2f4eb5",
   "metadata": {
    "editable": true,
    "slideshow": {
     "slide_type": ""
    },
    "tags": []
   },
   "outputs": [
    {
     "name": "stdout",
     "output_type": "stream",
     "text": [
      "14\n"
     ]
    }
   ],
   "source": [
    "def f(x, y, z):\n",
    "    a = 1\n",
    "    b = 2\n",
    "    c = 3\n",
    "    return (a*x + b*y + c*z)\n",
    "\n",
    "print(f(1, 2, 3))"
   ]
  },
  {
   "cell_type": "code",
   "execution_count": 13,
   "id": "eff8bd8e-afac-4ff6-be26-f03cb43cecad",
   "metadata": {
    "editable": true,
    "slideshow": {
     "slide_type": ""
    },
    "tags": []
   },
   "outputs": [
    {
     "ename": "NameError",
     "evalue": "name 'a' is not defined",
     "output_type": "error",
     "traceback": [
      "\u001b[0;31m---------------------------------------------------------------------------\u001b[0m",
      "\u001b[0;31mNameError\u001b[0m                                 Traceback (most recent call last)",
      "Cell \u001b[0;32mIn[13], line 1\u001b[0m\n\u001b[0;32m----> 1\u001b[0m \u001b[38;5;28mprint\u001b[39m(\u001b[43ma\u001b[49m)  \u001b[38;5;66;03m# error: a is local to f\u001b[39;00m\n",
      "\u001b[0;31mNameError\u001b[0m: name 'a' is not defined"
     ]
    }
   ],
   "source": [
    "print(a)  # error: a is local to f"
   ]
  },
  {
   "cell_type": "markdown",
   "id": "f98414e0",
   "metadata": {
    "editable": true,
    "slideshow": {
     "slide_type": ""
    },
    "tags": []
   },
   "source": [
    "However, the following will work:"
   ]
  },
  {
   "cell_type": "code",
   "execution_count": 15,
   "id": "acb9c4fa",
   "metadata": {
    "editable": true,
    "slideshow": {
     "slide_type": ""
    },
    "tags": []
   },
   "outputs": [
    {
     "name": "stdout",
     "output_type": "stream",
     "text": [
      "14\n",
      "5\n"
     ]
    }
   ],
   "source": [
    "aa = 5\n",
    "def f(x,y,z):\n",
    "    aa = 1\n",
    "    b = 2\n",
    "    c = 3\n",
    "    return(aa*x+b*y+c*z)\n",
    "print(f(1,2,3))\n",
    "print(aa)"
   ]
  },
  {
   "cell_type": "markdown",
   "id": "d4d17f74",
   "metadata": {
    "editable": true,
    "slideshow": {
     "slide_type": ""
    },
    "tags": []
   },
   "source": [
    "### Exercise 3\n",
    "What does the following code print?"
   ]
  },
  {
   "cell_type": "code",
   "execution_count": 52,
   "id": "f2b80e33",
   "metadata": {
    "editable": true,
    "slideshow": {
     "slide_type": ""
    },
    "tags": [
     "hide-output"
    ]
   },
   "outputs": [
    {
     "name": "stdout",
     "output_type": "stream",
     "text": [
      "False\n",
      "False\n"
     ]
    }
   ],
   "source": [
    "val = False\n",
    "\n",
    "def exercise3():\n",
    "    val = True\n",
    "    \n",
    "print(val)\n",
    "exercise3()\n",
    "print(val)"
   ]
  },
  {
   "cell_type": "code",
   "execution_count": 16,
   "id": "661fde8d",
   "metadata": {
    "editable": true,
    "slideshow": {
     "slide_type": ""
    },
    "tags": [
     "hide-output"
    ]
   },
   "outputs": [
    {
     "name": "stdout",
     "output_type": "stream",
     "text": [
      "False\n",
      "True\n"
     ]
    }
   ],
   "source": [
    "def exercise3_2():\n",
    "    global val\n",
    "    val = True\n",
    "\n",
    "val = False\n",
    "print(val)\n",
    "exercise3_2()\n",
    "print(val)"
   ]
  },
  {
   "cell_type": "markdown",
   "id": "3929c257",
   "metadata": {
    "editable": true,
    "slideshow": {
     "slide_type": ""
    },
    "tags": []
   },
   "source": [
    "### <u>Exercise 4</u>\n",
    "\n",
    "The following code shows one way of obtaining the real and imaginary parts of a complex number. \n",
    "\n"
   ]
  },
  {
   "cell_type": "code",
   "execution_count": 17,
   "id": "2ff36995",
   "metadata": {
    "editable": true,
    "slideshow": {
     "slide_type": ""
    },
    "tags": []
   },
   "outputs": [
    {
     "name": "stdout",
     "output_type": "stream",
     "text": [
      "2.0\n",
      "3.0\n"
     ]
    }
   ],
   "source": [
    "z = 2 + 3j\n",
    "print(z.real)\n",
    "print(z.imag)"
   ]
  },
  {
   "cell_type": "markdown",
   "id": "c4b75aa9",
   "metadata": {
    "editable": true,
    "slideshow": {
     "slide_type": ""
    },
    "tags": []
   },
   "source": [
    "Write a function that returns the conjugate of a complex number."
   ]
  },
  {
   "cell_type": "code",
   "execution_count": 32,
   "id": "2187110a",
   "metadata": {
    "editable": true,
    "slideshow": {
     "slide_type": ""
    },
    "tags": [
     "hide-input",
     "hide-output"
    ]
   },
   "outputs": [
    {
     "name": "stdout",
     "output_type": "stream",
     "text": [
      "(2-3j)\n"
     ]
    }
   ],
   "source": [
    "def conjugate(z):\n",
    "    return(z.real - z.imag*(0+1j))\n",
    "print(conjugate(z))"
   ]
  },
  {
   "cell_type": "markdown",
   "id": "483c0bb4",
   "metadata": {
    "editable": true,
    "slideshow": {
     "slide_type": ""
    },
    "tags": []
   },
   "source": [
    "## Higher order functions\n",
    "\n",
    "Functions not only act on values, but are considered values themselves in Python:\n",
    "- They can be assigned to variables  \n",
    "- They can be passed as arguments  \n",
    "- They can be returned from other functions"
   ]
  },
  {
   "cell_type": "code",
   "execution_count": 17,
   "id": "6539fadd",
   "metadata": {
    "editable": true,
    "slideshow": {
     "slide_type": ""
    },
    "tags": []
   },
   "outputs": [
    {
     "name": "stdout",
     "output_type": "stream",
     "text": [
      "14\n",
      "<class 'function'>\n",
      "<class 'function'>\n",
      "True\n"
     ]
    }
   ],
   "source": [
    "def f(x,y,z) :\n",
    "    return(x+2*y+3*z)\n",
    "\n",
    "g = f\n",
    "print(g(1,2,3))\n",
    "print(type(f))\n",
    "print(type(g))\n",
    "print(g==f)"
   ]
  },
  {
   "cell_type": "code",
   "execution_count": 18,
   "id": "effa56b9",
   "metadata": {
    "editable": true,
    "slideshow": {
     "slide_type": ""
    },
    "tags": []
   },
   "outputs": [],
   "source": [
    "# A function taking another function as an argument\n",
    "def h(x, func):\n",
    "    return 3 * func(2*x, 2, 3)"
   ]
  },
  {
   "cell_type": "markdown",
   "id": "aeaf6488",
   "metadata": {
    "editable": true,
    "slideshow": {
     "slide_type": ""
    },
    "tags": []
   },
   "source": [
    "### Exercise 5\n",
    "What is the output of:"
   ]
  },
  {
   "cell_type": "code",
   "execution_count": 15,
   "id": "fc00c77b",
   "metadata": {
    "editable": true,
    "slideshow": {
     "slide_type": ""
    },
    "tags": [
     "hide-output"
    ]
   },
   "outputs": [
    {
     "name": "stdout",
     "output_type": "stream",
     "text": [
      "57\n"
     ]
    }
   ],
   "source": [
    "print(h(3,f))"
   ]
  },
  {
   "cell_type": "markdown",
   "id": "36f0c4ba",
   "metadata": {
    "editable": true,
    "slideshow": {
     "slide_type": ""
    },
    "tags": []
   },
   "source": [
    "## Importing libraries\n",
    "\n",
    "Libraries are collections of modules and functions.  \n",
    "Use `import` to access them."
   ]
  },
  {
   "cell_type": "code",
   "execution_count": 19,
   "id": "5eff9557-078d-40d6-826a-7b92eac11ffe",
   "metadata": {
    "editable": true,
    "slideshow": {
     "slide_type": ""
    },
    "tags": []
   },
   "outputs": [
    {
     "name": "stdout",
     "output_type": "stream",
     "text": [
      "0.9356160015533859\n"
     ]
    }
   ],
   "source": [
    "import math\n",
    "\n",
    "x = 1.21\n",
    "y = math.sin(x)\n",
    "print(y)"
   ]
  },
  {
   "cell_type": "code",
   "execution_count": 20,
   "id": "2ed872c2-b4f3-41a4-96bb-5010317ca68d",
   "metadata": {
    "editable": true,
    "slideshow": {
     "slide_type": ""
    },
    "tags": []
   },
   "outputs": [
    {
     "name": "stdout",
     "output_type": "stream",
     "text": [
      "2.650324594970601\n"
     ]
    }
   ],
   "source": [
    "# Import only one function\n",
    "from math import tan\n",
    "print(tan(1.21))"
   ]
  },
  {
   "cell_type": "code",
   "execution_count": 21,
   "id": "2e488aa4-3c4d-4be2-8a81-fb2c9a27f45c",
   "metadata": {
    "editable": true,
    "slideshow": {
     "slide_type": ""
    },
    "tags": []
   },
   "outputs": [
    {
     "name": "stdout",
     "output_type": "stream",
     "text": [
      "0.88013633141332\n"
     ]
    }
   ],
   "source": [
    "# Import with an alias\n",
    "from math import atan as arctan\n",
    "print(arctan(1.21))"
   ]
  },
  {
   "cell_type": "markdown",
   "id": "4601e8dd",
   "metadata": {
    "editable": true,
    "slideshow": {
     "slide_type": ""
    },
    "tags": []
   },
   "source": [
    "### Exercise 7\n",
    "Import the `random` library.  \n",
    "Use `help(random)` to explore its functions.  \n",
    "Try at least two and test them.\n"
   ]
  },
  {
   "cell_type": "markdown",
   "id": "f14297e8",
   "metadata": {
    "editable": true,
    "slideshow": {
     "slide_type": ""
    },
    "tags": []
   },
   "source": [
    "## Installing packages with pip\n",
    "\n",
    "The standard library is built into Python. Other packages must be installed.\n",
    "\n",
    "Example:"
   ]
  },
  {
   "cell_type": "code",
   "execution_count": 22,
   "id": "ee870551",
   "metadata": {
    "editable": true,
    "slideshow": {
     "slide_type": ""
    },
    "tags": [
     "hide-output"
    ]
   },
   "outputs": [
    {
     "name": "stdout",
     "output_type": "stream",
     "text": [
      "Requirement already satisfied: matplotlib in /home/buze/miniforge3/lib/python3.12/site-packages (3.10.0)\n",
      "Requirement already satisfied: contourpy>=1.0.1 in /home/buze/miniforge3/lib/python3.12/site-packages (from matplotlib) (1.3.1)\n",
      "Requirement already satisfied: cycler>=0.10 in /home/buze/miniforge3/lib/python3.12/site-packages (from matplotlib) (0.12.1)\n",
      "Requirement already satisfied: fonttools>=4.22.0 in /home/buze/miniforge3/lib/python3.12/site-packages (from matplotlib) (4.56.0)\n",
      "Requirement already satisfied: kiwisolver>=1.3.1 in /home/buze/miniforge3/lib/python3.12/site-packages (from matplotlib) (1.4.8)\n",
      "Requirement already satisfied: numpy>=1.23 in /home/buze/miniforge3/lib/python3.12/site-packages (from matplotlib) (2.2.3)\n",
      "Requirement already satisfied: packaging>=20.0 in /home/buze/miniforge3/lib/python3.12/site-packages (from matplotlib) (24.2)\n",
      "Requirement already satisfied: pillow>=8 in /home/buze/miniforge3/lib/python3.12/site-packages (from matplotlib) (11.1.0)\n",
      "Requirement already satisfied: pyparsing>=2.3.1 in /home/buze/miniforge3/lib/python3.12/site-packages (from matplotlib) (3.2.1)\n",
      "Requirement already satisfied: python-dateutil>=2.7 in /home/buze/miniforge3/lib/python3.12/site-packages (from matplotlib) (2.9.0.post0)\n",
      "Requirement already satisfied: six>=1.5 in /home/buze/miniforge3/lib/python3.12/site-packages (from python-dateutil>=2.7->matplotlib) (1.17.0)\n"
     ]
    }
   ],
   "source": [
    "!python -m pip install matplotlib"
   ]
  },
  {
   "cell_type": "markdown",
   "id": "c9300971",
   "metadata": {
    "editable": true,
    "slideshow": {
     "slide_type": ""
    },
    "tags": []
   },
   "source": [
    "Here:\n",
    "- `!` instructs Jupyter to run the programme\n",
    "with the name after `!` (`python3` in this case)\n",
    "- The `-m` flag instructs Python to run another programme, in this case, the Python utility `pip`.\n",
    "- `install`, instructs `pip` to install the library from the \"python package index\", which is often\n",
    "referred to as **PyPI**. Finally, the name of the package to be installed is provided. In this case, `matplotlib`.\n",
    "\n",
    "Note, if you already have `matplotlib` installed, running this command will not have any negative effects.\n",
    "\n",
    "Functions from the matplotlib library can now be used:"
   ]
  },
  {
   "cell_type": "code",
   "execution_count": 68,
   "id": "cbf973ee",
   "metadata": {
    "editable": true,
    "slideshow": {
     "slide_type": ""
    },
    "tags": []
   },
   "outputs": [],
   "source": [
    "from matplotlib import pyplot as plt\n"
   ]
  },
  {
   "cell_type": "code",
   "execution_count": 69,
   "id": "24b96756",
   "metadata": {},
   "outputs": [
    {
     "data": {
      "image/png": "[encoded data removed]",
      "text/plain": [
       "<Figure size 432x288 with 1 Axes>"
      ]
     },
     "metadata": {
      "needs_background": "light"
     },
     "output_type": "display_data"
    }
   ],
   "source": [
    "plt.plot([0,1,4,9,16])\n",
    "plt.show()"
   ]
  },
  {
   "cell_type": "markdown",
   "id": "600901fb",
   "metadata": {
    "editable": true,
    "slideshow": {
     "slide_type": ""
    },
    "tags": []
   },
   "source": [
    "## Closures\n",
    "\n",
    "A **closure** is a function defined inside another function that uses variables from the outer function.\n"
   ]
  },
  {
   "cell_type": "code",
   "execution_count": 23,
   "id": "58d62f10",
   "metadata": {
    "editable": true,
    "slideshow": {
     "slide_type": ""
    },
    "tags": [
     "hide-output"
    ]
   },
   "outputs": [
    {
     "name": "stdout",
     "output_type": "stream",
     "text": [
      "6\n"
     ]
    }
   ],
   "source": [
    "def f():\n",
    "    def g(x):\n",
    "        return 2 * x\n",
    "    return g\n",
    "\n",
    "h = f()\n",
    "print(h(3))\n"
   ]
  },
  {
   "cell_type": "markdown",
   "id": "6ef50744",
   "metadata": {
    "editable": true,
    "slideshow": {
     "slide_type": ""
    },
    "tags": []
   },
   "source": [
    "Here is an example of using closure to define an important function used in the modelling of population growth:"
   ]
  },
  {
   "cell_type": "code",
   "execution_count": 24,
   "id": "ad3f6299",
   "metadata": {
    "editable": true,
    "slideshow": {
     "slide_type": ""
    },
    "tags": [
     "hide-output"
    ]
   },
   "outputs": [
    {
     "name": "stdout",
     "output_type": "stream",
     "text": [
      "0.9525741268224334\n"
     ]
    }
   ],
   "source": [
    "import math\n",
    "\n",
    "def logistic_function(k, x0, L):\n",
    "    def logistic(x):\n",
    "        res = math.exp(-k*(x - x0))\n",
    "        res = 1 + res\n",
    "        res = L / res\n",
    "        return res\n",
    "    return logistic\n",
    "\n",
    "f = logistic_function(1, 0, 1)\n",
    "print(f(3))"
   ]
  },
  {
   "cell_type": "markdown",
   "id": "19f19aa5-dfdd-4736-99f7-62212461fc68",
   "metadata": {
    "editable": true,
    "slideshow": {
     "slide_type": ""
    },
    "tags": []
   },
   "source": [
    "## Summary\n",
    "\n",
    "- Functions group reusable code  \n",
    "- Conversion functions change types (`int()`, `float()`, `str()`, `complex()`)  \n",
    "- Variables inside functions are local (scope)  \n",
    "- Functions can be assigned, passed, and returned (higher-order functions)  \n",
    "- `import` gives access to library functions  \n",
    "- `pip` installs external packages  \n",
    "- Closures let functions “remember” values from their defining scope  \n"
   ]
  },
  {
   "cell_type": "markdown",
   "id": "ea4f2e51-9aa9-4981-bc32-a3285c9ba6b5",
   "metadata": {
    "editable": true,
    "slideshow": {
     "slide_type": ""
    },
    "tags": []
   },
   "source": [
    "### Exercise 8\n",
    "\n",
    "1. Write a function `square(x)` that returns `x*x`.  \n",
    "2. Write a function `linear(a, b, x)` that computes `a*x + b`.  \n",
    "3. Write a function `safe_divide(x, y)` that converts inputs to floats and divides.  \n",
    "4. Write a function `apply_twice(f, x)` that applies a function twice.  \n",
    "5. Write `make_multiplier(m)` that returns a closure multiplying inputs by `m`.\n"
   ]
  },
  {
   "cell_type": "code",
   "execution_count": 1,
   "id": "81593e9d-7a6d-470e-848a-547a4d46113f",
   "metadata": {
    "editable": true,
    "slideshow": {
     "slide_type": ""
    },
    "tags": [
     "hide-output",
     "hide-input"
    ]
   },
   "outputs": [],
   "source": [
    "def square(x):\n",
    "    return x * x\n",
    "\n",
    "def linear(a, b, x):\n",
    "    return a * x + b\n",
    "\n",
    "def safe_divide(x, y):\n",
    "    return float(x) / float(y)\n",
    "\n",
    "def apply_twice(f, x):\n",
    "    return f(f(x))\n",
    "\n",
    "def make_multiplier(m):\n",
    "    def multiplier(x):\n",
    "        return m * x\n",
    "    return multiplier\n"
   ]
  },
  {
   "cell_type": "code",
   "execution_count": null,
   "id": "ee50be40-01f7-4705-bab8-336b5b905f24",
   "metadata": {
    "editable": true,
    "slideshow": {
     "slide_type": ""
    },
    "tags": []
   },
   "outputs": [],
   "source": []
  }
 ],
 "metadata": {
  "celltoolbar": "Edit Metadata",
  "kernelspec": {
   "display_name": "Python 3 (ipykernel)",
   "language": "python",
   "name": "python3"
  },
  "language_info": {
   "codemirror_mode": {
    "name": "ipython",
    "version": 3
   },
   "file_extension": ".py",
   "mimetype": "text/x-python",
   "name": "python",
   "nbconvert_exporter": "python",
   "pygments_lexer": "ipython3",
   "version": "3.12.8"
  }
 },
 "nbformat": 4,
 "nbformat_minor": 5
}