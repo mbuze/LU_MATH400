{
 "cells": [
  {
   "cell_type": "markdown",
   "id": "c9b834a6-1d95-40b7-9978-b9e73874e4b5",
   "metadata": {
    "editable": true,
    "slideshow": {
     "slide_type": ""
    },
    "tags": []
   },
   "source": [
    "# NumPy\n",
    "\n",
    "`NumPy` [(Numerical Python)](https://numpy.org/) is a core library for scientific computing in Python. It provides the `ndarray` type: an efficient, multi-dimensional, homogeneous array. `NumPy` arrays are much faster and more compact than Python lists, and they support “vectorised” operations—applying an operation to an entire array without writing explicit loops.\n",
    "\n",
    "The content of this section is derived from the book \"Python data science hanbdbook\". Details of this book can be found in the further reading section.\n"
   ]
  },
  {
   "cell_type": "code",
   "execution_count": 1,
   "id": "e82aafba-162a-4d84-bb93-648a62623885",
   "metadata": {
    "editable": true,
    "slideshow": {
     "slide_type": ""
    },
    "tags": [
     "hide-output"
    ]
   },
   "outputs": [
    {
     "name": "stdout",
     "output_type": "stream",
     "text": [
      "Requirement already satisfied: numpy in /home/buze/miniforge3/lib/python3.12/site-packages (2.2.3)\r\n"
     ]
    }
   ],
   "source": [
    "# install NumPy\n",
    "!python -m pip install numpy"
   ]
  },
  {
   "cell_type": "code",
   "execution_count": 2,
   "id": "4e71dd12-2c70-4428-a9e9-250e9dbd11f2",
   "metadata": {
    "editable": true,
    "slideshow": {
     "slide_type": ""
    },
    "tags": []
   },
   "outputs": [],
   "source": [
    "# load the library\n",
    "import numpy as np"
   ]
  },
  {
   "cell_type": "markdown",
   "id": "54905a60-2466-42d6-a910-3332b845abde",
   "metadata": {
    "editable": true,
    "jp-MarkdownHeadingCollapsed": true,
    "slideshow": {
     "slide_type": ""
    },
    "tags": []
   },
   "source": [
    "## Creating arrays\n",
    "\n",
    "You can create NumPy arrays in several ways:\n",
    "\n",
    "1. **From a Python list or nested list**:\n"
   ]
  },
  {
   "cell_type": "code",
   "execution_count": 3,
   "id": "3997a032-7751-42b1-9df6-37477b3b9fb5",
   "metadata": {
    "editable": true,
    "slideshow": {
     "slide_type": ""
    },
    "tags": []
   },
   "outputs": [
    {
     "name": "stdout",
     "output_type": "stream",
     "text": [
      "1D array: [1 2 3]\n",
      "2D array: [[1 2 3]\n",
      " [4 5 6]]\n"
     ]
    }
   ],
   "source": [
    "A = np.array([1, 2, 3])\n",
    "print(\"1D array:\", A)\n",
    "\n",
    "B = np.array([[1, 2, 3], [4, 5, 6]])\n",
    "print(\"2D array:\", B)"
   ]
  },
  {
   "cell_type": "markdown",
   "id": "be50c9b2-b6f1-4db9-902f-db2621705d35",
   "metadata": {
    "editable": true,
    "slideshow": {
     "slide_type": ""
    },
    "tags": []
   },
   "source": [
    "2. **With built-in initialisers**:"
   ]
  },
  {
   "cell_type": "code",
   "execution_count": 4,
   "id": "8e051149-c1e5-475e-8c5c-f9055054922b",
   "metadata": {
    "editable": true,
    "slideshow": {
     "slide_type": ""
    },
    "tags": []
   },
   "outputs": [
    {
     "name": "stdout",
     "output_type": "stream",
     "text": [
      "Zeros:\n",
      " [[0. 0. 0.]\n",
      " [0. 0. 0.]]\n",
      "Ones:\n",
      " [[1. 1. 1.]\n",
      " [1. 1. 1.]]\n",
      "Empty:\n",
      " [[1. 1. 1.]\n",
      " [1. 1. 1.]]\n",
      "Range:\n",
      " [0 2 4 6 8]\n",
      "Linspace:\n",
      " [0.   0.25 0.5  0.75 1.  ]\n"
     ]
    }
   ],
   "source": [
    "print(\"Zeros:\\n\", np.zeros((2, 3)))\n",
    "print(\"Ones:\\n\", np.ones((2, 3)))\n",
    "print(\"Empty:\\n\", np.empty((2, 3)))  # values not initialised\n",
    "print(\"Range:\\n\", np.arange(0, 10, 2))\n",
    "print(\"Linspace:\\n\", np.linspace(0, 1, 5))"
   ]
  },
  {
   "cell_type": "markdown",
   "id": "8b5590db-1d25-4d3c-936d-0a97fd50fc11",
   "metadata": {
    "editable": true,
    "jp-MarkdownHeadingCollapsed": true,
    "slideshow": {
     "slide_type": ""
    },
    "tags": []
   },
   "source": [
    "## Inspecting arrays\n",
    "\n",
    "Useful attributes:\n",
    "- `shape`: dimensions of the array\n",
    "- `dtype`: data type of elements\n",
    "- `ndim`: number of dimensions\n",
    "- `size`: total number of elements\n"
   ]
  },
  {
   "cell_type": "code",
   "execution_count": 5,
   "id": "e296d0d2-81e2-4d5e-8b0f-3e87eae17e28",
   "metadata": {
    "editable": true,
    "slideshow": {
     "slide_type": ""
    },
    "tags": []
   },
   "outputs": [
    {
     "name": "stdout",
     "output_type": "stream",
     "text": [
      "Shape: (2, 2)\n",
      "Data type: float64\n",
      "Dimensions: 2\n",
      "Size: 4\n"
     ]
    }
   ],
   "source": [
    "C = np.array([[1.0, 2.0], [3.0, 4.0]])\n",
    "print(\"Shape:\", C.shape)\n",
    "print(\"Data type:\", C.dtype)\n",
    "print(\"Dimensions:\", C.ndim)\n",
    "print(\"Size:\", C.size)"
   ]
  },
  {
   "cell_type": "markdown",
   "id": "2bc9e357-05b7-4335-8355-844fdd62bb6c",
   "metadata": {
    "editable": true,
    "slideshow": {
     "slide_type": ""
    },
    "tags": []
   },
   "source": [
    "## Indexing and slicing\n",
    "\n",
    "Array indexing is similar to lists, but extended to multiple dimensions."
   ]
  },
  {
   "cell_type": "code",
   "execution_count": 6,
   "id": "2263f15c-c43a-4c45-9341-be942061d89a",
   "metadata": {
    "editable": true,
    "slideshow": {
     "slide_type": ""
    },
    "tags": []
   },
   "outputs": [
    {
     "name": "stdout",
     "output_type": "stream",
     "text": [
      "Element at row 1, col 2: 60\n",
      "First row: [10 20 30]\n",
      "Last column: [30 60 90]\n"
     ]
    }
   ],
   "source": [
    "M = np.array([[10, 20, 30],\n",
    "              [40, 50, 60],\n",
    "              [70, 80, 90]])\n",
    "\n",
    "print(\"Element at row 1, col 2:\", M[1, 2])   # 60\n",
    "print(\"First row:\", M[0])\n",
    "print(\"Last column:\", M[:, -1])              # all rows, last column"
   ]
  },
  {
   "cell_type": "markdown",
   "id": "5eb0de9d-0020-41e6-8729-6b222b06167d",
   "metadata": {
    "editable": true,
    "slideshow": {
     "slide_type": ""
    },
    "tags": []
   },
   "source": [
    "Slicing syntax is `[start:stop:step]` for each axis:"
   ]
  },
  {
   "cell_type": "code",
   "execution_count": 7,
   "id": "85ade847-fd13-49a5-aabb-d17da05b060e",
   "metadata": {
    "editable": true,
    "scrolled": true,
    "slideshow": {
     "slide_type": ""
    },
    "tags": []
   },
   "outputs": [
    {
     "name": "stdout",
     "output_type": "stream",
     "text": [
      "Middle block:\n",
      " [[20 30]\n",
      " [50 60]]\n",
      "Every other element in row 2: [70 90]\n"
     ]
    }
   ],
   "source": [
    "print(\"Middle block:\\n\", M[0:2, 1:3])   # rows 0–1, cols 1–2\n",
    "print(\"Every other element in row 2:\", M[2, ::2])"
   ]
  },
  {
   "cell_type": "markdown",
   "id": "9ffade8d-c6f2-4cac-a027-3fed3bf923b4",
   "metadata": {
    "editable": true,
    "slideshow": {
     "slide_type": ""
    },
    "tags": []
   },
   "source": [
    "### Exercise 1\n",
    "Create a 3×3 array with values from 1 to 9.  \n",
    "- Print the second row.  \n",
    "- Print the diagonal (top-left to bottom-right)."
   ]
  },
  {
   "cell_type": "code",
   "execution_count": 8,
   "id": "ccdae5a9-40bf-404a-860c-3bda114a7d39",
   "metadata": {
    "editable": true,
    "slideshow": {
     "slide_type": ""
    },
    "tags": [
     "hide-output",
     "hide-input"
    ]
   },
   "outputs": [
    {
     "name": "stdout",
     "output_type": "stream",
     "text": [
      "Array:\n",
      " [[1 2 3]\n",
      " [4 5 6]\n",
      " [7 8 9]]\n",
      "Second row: [4 5 6]\n",
      "Diagonal: [1 5 9]\n"
     ]
    }
   ],
   "source": [
    "arr = np.arange(1, 10).reshape(3, 3)\n",
    "print(\"Array:\\n\", arr)\n",
    "\n",
    "print(\"Second row:\", arr[1])\n",
    "print(\"Diagonal:\", arr.diagonal())\n"
   ]
  },
  {
   "cell_type": "markdown",
   "id": "d7f95f12-ff5c-4564-b6a6-f54f81212476",
   "metadata": {
    "editable": true,
    "slideshow": {
     "slide_type": ""
    },
    "tags": []
   },
   "source": [
    "## Views vs copies\n",
    "\n",
    "Important: **slices are views**, not copies. Modifying a slice changes the original.\n"
   ]
  },
  {
   "cell_type": "code",
   "execution_count": 9,
   "id": "f4bd6799-18bf-4b98-b0db-32d3afb011f9",
   "metadata": {
    "editable": true,
    "slideshow": {
     "slide_type": ""
    },
    "tags": []
   },
   "outputs": [
    {
     "name": "stdout",
     "output_type": "stream",
     "text": [
      "Modified view:\n",
      " [[99  3]\n",
      " [ 6  7]]\n",
      "Original X also changed:\n",
      " [[ 1 99  3  4]\n",
      " [ 5  6  7  8]\n",
      " [ 9 10 11 12]]\n"
     ]
    }
   ],
   "source": [
    "X = np.array([[1, 2, 3, 4],\n",
    "              [5, 6, 7, 8],\n",
    "              [9, 10, 11, 12]])\n",
    "\n",
    "Y = X[0:2, 1:3]   # view\n",
    "Y[0, 0] = 99\n",
    "print(\"Modified view:\\n\", Y)\n",
    "print(\"Original X also changed:\\n\", X)"
   ]
  },
  {
   "cell_type": "markdown",
   "id": "03067195-32a2-48bd-aacf-c04842716df5",
   "metadata": {
    "editable": true,
    "slideshow": {
     "slide_type": ""
    },
    "tags": []
   },
   "source": [
    "To avoid this behaviour, we can make an explicit copy:"
   ]
  },
  {
   "cell_type": "code",
   "execution_count": 10,
   "id": "d7d9a971-3f8a-463d-8b25-ce320cb710c2",
   "metadata": {
    "editable": true,
    "slideshow": {
     "slide_type": ""
    },
    "tags": []
   },
   "outputs": [
    {
     "name": "stdout",
     "output_type": "stream",
     "text": [
      "Copied block:\n",
      " [[-1  3]\n",
      " [ 6  7]]\n",
      "Original X remains unchanged:\n",
      " [[ 1 99  3  4]\n",
      " [ 5  6  7  8]\n",
      " [ 9 10 11 12]]\n"
     ]
    }
   ],
   "source": [
    "Z = X[0:2, 1:3].copy()\n",
    "Z[0, 0] = -1\n",
    "print(\"Copied block:\\n\", Z)\n",
    "print(\"Original X remains unchanged:\\n\", X)"
   ]
  },
  {
   "cell_type": "markdown",
   "id": "f157bc49-f54e-451a-b284-1edd5c3aaab3",
   "metadata": {
    "editable": true,
    "slideshow": {
     "slide_type": ""
    },
    "tags": []
   },
   "source": [
    "## Array operations\n",
    "\n",
    "`NumPy` supports **elementwise** arithmetic and universal functions (ufuncs)."
   ]
  },
  {
   "cell_type": "code",
   "execution_count": 11,
   "id": "23bb3246-2aac-4026-8d7f-d6d5969eba9f",
   "metadata": {
    "editable": true,
    "slideshow": {
     "slide_type": ""
    },
    "tags": []
   },
   "outputs": [
    {
     "name": "stdout",
     "output_type": "stream",
     "text": [
      "Addition: [11 22 33]\n",
      "Multiplication: [10 40 90]\n",
      "Sine of a: [0.84147098 0.90929743 0.14112001]\n",
      "Dot product: 140\n"
     ]
    }
   ],
   "source": [
    "a = np.array([1, 2, 3])\n",
    "b = np.array([10, 20, 30])\n",
    "\n",
    "print(\"Addition:\", a + b)\n",
    "print(\"Multiplication:\", a * b)\n",
    "print(\"Sine of a:\", np.sin(a))\n",
    "print(\"Dot product:\", np.dot(a, b))"
   ]
  },
  {
   "cell_type": "markdown",
   "id": "6ea55d1f-9e3b-40b6-b3d2-4c21d2255475",
   "metadata": {
    "editable": true,
    "slideshow": {
     "slide_type": ""
    },
    "tags": []
   },
   "source": [
    "Broadcasting allows operations on arrays of different shapes when compatible."
   ]
  },
  {
   "cell_type": "code",
   "execution_count": 12,
   "id": "7aae8ae3-a132-4d9a-88d4-d0d8fc76743a",
   "metadata": {
    "editable": true,
    "slideshow": {
     "slide_type": ""
    },
    "tags": []
   },
   "outputs": [
    {
     "name": "stdout",
     "output_type": "stream",
     "text": [
      "Broadcasted addition: [[11 12 13]\n",
      " [21 22 23]\n",
      " [31 32 33]]\n"
     ]
    }
   ],
   "source": [
    "x = np.array([1, 2, 3])\n",
    "M = np.array([[10], [20], [30]])\n",
    "print(\"Broadcasted addition:\", M + x)"
   ]
  },
  {
   "cell_type": "markdown",
   "id": "8544a206-dc8d-4c28-b6ce-0b4c1783b5ef",
   "metadata": {
    "editable": true,
    "slideshow": {
     "slide_type": ""
    },
    "tags": []
   },
   "source": [
    "### Exercise 2 \n",
    "Create an array `x = np.linspace(0, 2*np.pi, 100)`.  \n",
    "- Compute `sin(x)` and `cos(x)` using `NumPy`.  \n",
    "- Verify the trigonometric identity `sin²(x) + cos²(x) ≈ 1` by checking the maximum difference.\n"
   ]
  },
  {
   "cell_type": "code",
   "execution_count": 13,
   "id": "11b98ed9-0c46-4298-b922-c2f03e0efb7b",
   "metadata": {
    "editable": true,
    "slideshow": {
     "slide_type": ""
    },
    "tags": [
     "hide-output",
     "hide-input"
    ]
   },
   "outputs": [
    {
     "name": "stdout",
     "output_type": "stream",
     "text": [
      "Max difference from 1: 2.220446049250313e-16\n"
     ]
    }
   ],
   "source": [
    "x = np.linspace(0, 2*np.pi, 100)\n",
    "sin_x = np.sin(x)\n",
    "cos_x = np.cos(x)\n",
    "\n",
    "identity = sin_x**2 + cos_x**2\n",
    "max_diff = np.max(np.abs(identity - 1))\n",
    "print(\"Max difference from 1:\", max_diff)"
   ]
  },
  {
   "cell_type": "markdown",
   "id": "3682ba31-6511-4c79-a7fc-c2c49ef2a10d",
   "metadata": {
    "editable": true,
    "slideshow": {
     "slide_type": ""
    },
    "tags": []
   },
   "source": [
    "## Concatenation, stacking, and splitting\n",
    "\n",
    "`NumPy` provides functions to join and split arrays.\n",
    "\n",
    "### Concatenation\n",
    "Use `np.concatenate` to join arrays along an existing axis."
   ]
  },
  {
   "cell_type": "code",
   "execution_count": 14,
   "id": "9cddd3ae-e2a7-48da-a469-7159a9abade3",
   "metadata": {
    "editable": true,
    "slideshow": {
     "slide_type": ""
    },
    "tags": []
   },
   "outputs": [
    {
     "name": "stdout",
     "output_type": "stream",
     "text": [
      "Concatenate 1D: [1 2 3 4 5 6]\n"
     ]
    }
   ],
   "source": [
    "a = np.array([1, 2, 3])\n",
    "b = np.array([4, 5, 6])\n",
    "\n",
    "print(\"Concatenate 1D:\", np.concatenate([a, b]))"
   ]
  },
  {
   "cell_type": "code",
   "execution_count": 15,
   "id": "192d50aa-e234-42cc-a7b6-8063ffd5c91b",
   "metadata": {
    "editable": true,
    "slideshow": {
     "slide_type": ""
    },
    "tags": []
   },
   "outputs": [
    {
     "name": "stdout",
     "output_type": "stream",
     "text": [
      "Concatenate along axis 0: [[1 2]\n",
      " [3 4]\n",
      " [5 6]]\n"
     ]
    }
   ],
   "source": [
    "A = np.array([[1, 2], [3, 4]])\n",
    "B = np.array([[5, 6]])\n",
    "print(\"Concatenate along axis 0:\", np.concatenate([A, B], axis=0))"
   ]
  },
  {
   "cell_type": "markdown",
   "id": "2b337a40-79b8-4617-9653-45857c857588",
   "metadata": {
    "editable": true,
    "slideshow": {
     "slide_type": ""
    },
    "tags": []
   },
   "source": [
    "### Stacking\n",
    "Use `np.vstack` and `np.hstack` for vertical and horizontal stacking.  `np.stack` can join along a **new axis**.\n"
   ]
  },
  {
   "cell_type": "code",
   "execution_count": 16,
   "id": "5e8456f4-3e53-4fe3-b715-a01d6b95a952",
   "metadata": {
    "editable": true,
    "slideshow": {
     "slide_type": ""
    },
    "tags": []
   },
   "outputs": [
    {
     "name": "stdout",
     "output_type": "stream",
     "text": [
      "Vertical stack: [[1 2 3]\n",
      " [4 5 6]]\n",
      "Horizontal stack: [1 2 3 4 5 6]\n",
      "Stack along new axis: [[1 4]\n",
      " [2 5]\n",
      " [3 6]]\n"
     ]
    }
   ],
   "source": [
    "a = np.array([1, 2, 3])\n",
    "b = np.array([4, 5, 6])\n",
    "\n",
    "print(\"Vertical stack:\", np.vstack([a, b]))\n",
    "print(\"Horizontal stack:\", np.hstack([a, b]))\n",
    "\n",
    "print(\"Stack along new axis:\", np.stack([a, b], axis=1))\n"
   ]
  },
  {
   "cell_type": "markdown",
   "id": "cd66c327-1fc2-46d5-a6aa-1f8e5f499733",
   "metadata": {
    "editable": true,
    "slideshow": {
     "slide_type": ""
    },
    "tags": []
   },
   "source": [
    "### Splitting\n",
    "Use `np.split`, `np.hsplit`, or `np.vsplit` to divide arrays into parts."
   ]
  },
  {
   "cell_type": "code",
   "execution_count": 17,
   "id": "76ca7a8b-b336-4af7-a3d8-e3377c4c4685",
   "metadata": {
    "editable": true,
    "slideshow": {
     "slide_type": ""
    },
    "tags": []
   },
   "outputs": [
    {
     "name": "stdout",
     "output_type": "stream",
     "text": [
      "Original array: [[ 0  1  2  3]\n",
      " [ 4  5  6  7]\n",
      " [ 8  9 10 11]\n",
      " [12 13 14 15]]\n"
     ]
    }
   ],
   "source": [
    "X = np.arange(16).reshape(4, 4)\n",
    "print(\"Original array:\", X)"
   ]
  },
  {
   "cell_type": "code",
   "execution_count": 18,
   "id": "66b20dee-6337-4e3b-b10b-93da530e1169",
   "metadata": {
    "editable": true,
    "slideshow": {
     "slide_type": ""
    },
    "tags": []
   },
   "outputs": [
    {
     "name": "stdout",
     "output_type": "stream",
     "text": [
      "Left half: [[ 0  1]\n",
      " [ 4  5]\n",
      " [ 8  9]\n",
      " [12 13]]\n",
      "Right half: [[ 2  3]\n",
      " [ 6  7]\n",
      " [10 11]\n",
      " [14 15]]\n"
     ]
    }
   ],
   "source": [
    "# Split into 2 equal parts along axis 1 (columns)\n",
    "left, right = np.hsplit(X, 2)\n",
    "print(\"Left half:\", left)\n",
    "print(\"Right half:\", right)"
   ]
  },
  {
   "cell_type": "code",
   "execution_count": 19,
   "id": "ad79cb1c-50c9-4188-8836-ea47700f04b5",
   "metadata": {
    "editable": true,
    "slideshow": {
     "slide_type": ""
    },
    "tags": []
   },
   "outputs": [
    {
     "name": "stdout",
     "output_type": "stream",
     "text": [
      "Top half: [[0 1 2 3]\n",
      " [4 5 6 7]]\n",
      "Bottom half: [[ 8  9 10 11]\n",
      " [12 13 14 15]]\n"
     ]
    }
   ],
   "source": [
    "# Split into 2 equal parts along axis 0 (rows)\n",
    "top, bottom = np.vsplit(X, 2)\n",
    "print(\"Top half:\", top)\n",
    "print(\"Bottom half:\", bottom)"
   ]
  },
  {
   "cell_type": "markdown",
   "id": "b7ac8884-4ba5-44b7-bd02-f0fe985e76a9",
   "metadata": {
    "editable": true,
    "slideshow": {
     "slide_type": ""
    },
    "tags": []
   },
   "source": [
    "### Exercise 3\n",
    "\n",
    "You have two arrays representing scores from two classes:"
   ]
  },
  {
   "cell_type": "code",
   "execution_count": 20,
   "id": "6c2f7515-8602-43f0-9ec4-58e3d1fef677",
   "metadata": {
    "editable": true,
    "slideshow": {
     "slide_type": ""
    },
    "tags": []
   },
   "outputs": [
    {
     "name": "stdout",
     "output_type": "stream",
     "text": [
      "[70 85 90]\n",
      "[60 75 80]\n"
     ]
    }
   ],
   "source": [
    "class1 = np.array([70, 85, 90])\n",
    "class2 = np.array([60, 75, 80])\n",
    "print(class1)\n",
    "print(class2)"
   ]
  },
  {
   "cell_type": "markdown",
   "id": "9cc7bdc4-a50b-4d6e-8899-306ebdbd4564",
   "metadata": {
    "editable": true,
    "slideshow": {
     "slide_type": ""
    },
    "tags": []
   },
   "source": [
    "Combine both classes into a single 1D array `all_scores`. Create a 2×3 array `score_matrix` where each row is a class. Split `score_matrix` into two separate arrays, one for each student column. Print `all_scores`, `score_matrix`, and the two column arrays."
   ]
  },
  {
   "cell_type": "code",
   "execution_count": 21,
   "id": "c8862dde-f477-454a-a98c-d6c1086df998",
   "metadata": {
    "editable": true,
    "slideshow": {
     "slide_type": ""
    },
    "tags": [
     "hide-output",
     "hide-input"
    ]
   },
   "outputs": [
    {
     "name": "stdout",
     "output_type": "stream",
     "text": [
      "All scores: [70 85 90 60 75 80]\n",
      "Score matrix:\n",
      " [[70 85 90]\n",
      " [60 75 80]]\n",
      "Column 1: [[70]\n",
      " [60]]\n",
      "Column 2: [[85]\n",
      " [75]]\n"
     ]
    }
   ],
   "source": [
    "all_scores = np.concatenate([class1, class2])\n",
    "print(\"All scores:\", all_scores)\n",
    "\n",
    "score_matrix = np.vstack([class1, class2])\n",
    "print(\"Score matrix:\\n\", score_matrix)\n",
    "\n",
    "col1, col2, col3 = np.hsplit(score_matrix, 3)\n",
    "print(\"Column 1:\", col1)\n",
    "print(\"Column 2:\", col2)"
   ]
  },
  {
   "cell_type": "markdown",
   "id": "a96f07e5-6b94-4172-8146-779bee0e42b8",
   "metadata": {
    "editable": true,
    "slideshow": {
     "slide_type": ""
    },
    "tags": []
   },
   "source": [
    "## Random numbers\n",
    "\n",
    "`NumPy` includes its own random number generator."
   ]
  },
  {
   "cell_type": "code",
   "execution_count": 22,
   "id": "6d74cf04-2e2b-4a82-ad29-ce22c1c246cc",
   "metadata": {
    "editable": true,
    "slideshow": {
     "slide_type": ""
    },
    "tags": []
   },
   "outputs": [
    {
     "name": "stdout",
     "output_type": "stream",
     "text": [
      "Random floats: [0.65389233 0.0294315  0.33874915]\n",
      "Random integers: [3 0 6 0 0]\n",
      "Normal distribution: [-0.33812248 -0.7906545   1.08028461]\n"
     ]
    }
   ],
   "source": [
    "print(\"Random floats:\", np.random.rand(3))             # uniform in [0,1)\n",
    "print(\"Random integers:\", np.random.randint(0, 10, 5)) # integers 0–9\n",
    "print(\"Normal distribution:\", np.random.randn(3))      # mean 0, std 1"
   ]
  },
  {
   "cell_type": "markdown",
   "id": "1e70e25d-662d-41e3-84cb-dadd71287220",
   "metadata": {
    "editable": true,
    "slideshow": {
     "slide_type": ""
    },
    "tags": []
   },
   "source": [
    "### Exercise 4\n",
    "Generate a 5×5 array of random numbers between 0 and 1.  \n",
    "- Replace all values less than 0.5 with 0.  \n",
    "- Replace all values greater or equal to 0.5 with 1.\n"
   ]
  },
  {
   "cell_type": "code",
   "execution_count": 23,
   "id": "df5bca94-2228-4326-99ac-9c6315a63430",
   "metadata": {
    "editable": true,
    "slideshow": {
     "slide_type": ""
    },
    "tags": [
     "hide-output",
     "hide-input"
    ]
   },
   "outputs": [
    {
     "name": "stdout",
     "output_type": "stream",
     "text": [
      "Original: [[0.30977988 0.50265953 0.44080221 0.65164302 0.86351012]\n",
      " [0.75629922 0.53363754 0.39906198 0.49223782 0.253072  ]\n",
      " [0.65073602 0.88636971 0.85468003 0.75679927 0.46768967]\n",
      " [0.83297621 0.62027096 0.92466821 0.90281452 0.46342752]\n",
      " [0.61819883 0.12268472 0.43484076 0.07884936 0.38377981]]\n",
      "Thresholded: [[0. 1. 0. 1. 1.]\n",
      " [1. 1. 0. 0. 0.]\n",
      " [1. 1. 1. 1. 0.]\n",
      " [1. 1. 1. 1. 0.]\n",
      " [1. 0. 0. 0. 0.]]\n"
     ]
    }
   ],
   "source": [
    "arr = np.random.rand(5, 5)\n",
    "print(\"Original:\", arr)\n",
    "\n",
    "arr[arr < 0.5] = 0\n",
    "arr[arr >= 0.5] = 1\n",
    "print(\"Thresholded:\", arr)"
   ]
  },
  {
   "cell_type": "markdown",
   "id": "6e6e6e94-2f98-4220-959e-ca7e3d567b19",
   "metadata": {
    "editable": true,
    "slideshow": {
     "slide_type": ""
    },
    "tags": []
   },
   "source": [
    "## Why use `NumPy` instead of Python lists?\n",
    "\n",
    "Python lists are flexible but not optimised for numerical computation.  \n",
    "`NumPy` arrays offer several key advantages:\n",
    "\n",
    "1. **Efficiency**  \n",
    "   - `NumPy` arrays store elements in contiguous memory, while lists are collections of object references.  \n",
    "   - This makes array operations much faster and more memory-efficient.\n",
    "\n",
    "2. **Homogeneity**  \n",
    "   - Lists can mix types, which slows operations.  \n",
    "   - `NumPy` arrays are homogeneous (all elements share the same type), enabling vectorised computation.\n",
    "\n",
    "3. **Vectorisation**  \n",
    "   - Lists require explicit loops to process elementwise operations.  \n",
    "   - `NumPy` allows operations to be applied to entire arrays without loops.\n",
    "\n",
    "4. **Functionality**  \n",
    "   - `NumPy` provides advanced features: broadcasting, ufuncs, linear algebra, random number generation, and more.  \n",
    "   - These are difficult or impossible to achieve efficiently with lists."
   ]
  },
  {
   "cell_type": "code",
   "execution_count": 24,
   "id": "0abe6903-15e6-4eb3-8434-301ca70fd2f7",
   "metadata": {
    "editable": true,
    "slideshow": {
     "slide_type": ""
    },
    "tags": []
   },
   "outputs": [],
   "source": [
    "import numpy as np\n",
    "import math\n",
    "import time\n",
    "\n",
    "# Compare squaring numbers in a list vs NumPy array\n",
    "nums = list(range(10000000)) # 10 milion\n",
    "arr = np.arange(10000000) # 10 milion"
   ]
  },
  {
   "cell_type": "code",
   "execution_count": 25,
   "id": "be5efec4-56c4-4da5-a9e4-766eccfeb179",
   "metadata": {
    "editable": true,
    "slideshow": {
     "slide_type": ""
    },
    "tags": []
   },
   "outputs": [
    {
     "name": "stdout",
     "output_type": "stream",
     "text": [
      "Python list time: 0.3694 seconds\n"
     ]
    }
   ],
   "source": [
    "# Python list\n",
    "start = time.time()\n",
    "squared_list = [x**2 for x in nums]\n",
    "end = time.time()\n",
    "print(\"Python list time:\", round(end - start, 4), \"seconds\")"
   ]
  },
  {
   "cell_type": "code",
   "execution_count": 26,
   "id": "a7f77a42-2d05-4e3e-8696-b68b38b991a3",
   "metadata": {
    "editable": true,
    "slideshow": {
     "slide_type": ""
    },
    "tags": []
   },
   "outputs": [
    {
     "name": "stdout",
     "output_type": "stream",
     "text": [
      "NumPy array time: 0.0161 seconds\n"
     ]
    }
   ],
   "source": [
    "# NumPy array\n",
    "start = time.time()\n",
    "squared_array = arr**2\n",
    "end = time.time()\n",
    "print(\"NumPy array time:\", round(end - start, 4), \"seconds\")"
   ]
  },
  {
   "cell_type": "markdown",
   "id": "cfa2b4c7-1442-4672-b0f0-301f57b70146",
   "metadata": {
    "editable": true,
    "jp-MarkdownHeadingCollapsed": true,
    "slideshow": {
     "slide_type": ""
    },
    "tags": []
   },
   "source": [
    "## `Numpy` basic types"
   ]
  },
  {
   "cell_type": "markdown",
   "id": "d6842b8f",
   "metadata": {
    "editable": true,
    "slideshow": {
     "slide_type": ""
    },
    "tags": []
   },
   "source": [
    "`NumPy` has many more basic types of data than base Python. They typically map to the basic C types that they are built on."
   ]
  },
  {
   "cell_type": "markdown",
   "id": "4620b78d",
   "metadata": {
    "editable": true,
    "slideshow": {
     "slide_type": ""
    },
    "tags": []
   },
   "source": [
    "<table class=\"table\">\n",
    "<colgroup>\n",
    "<col style=\"width: 33%\">\n",
    "<col style=\"width: 33%\">\n",
    "<col style=\"width: 33%\">\n",
    "</colgroup>\n",
    "<thead>\n",
    "<tr class=\"row-odd\"><th class=\"head\"><p>Numpy type</p></th>\n",
    "<th class=\"head\"><p>C type</p></th>\n",
    "<th class=\"head\"><p>Description</p></th>\n",
    "</tr>\n",
    "</thead>\n",
    "<tbody>\n",
    "<tr class=\"row-even\"><td><p><a class=\"reference internal\" href=\"../reference/arrays.scalars.html#numpy.bool_\" title=\"numpy.bool_\"><code class=\"xref py py-obj docutils literal notranslate\"><span class=\"pre\">numpy.bool_</span></code></a></p></td>\n",
    "<td><p><code class=\"docutils literal notranslate\"><span class=\"pre\">bool</span></code></p></td>\n",
    "<td><p>Boolean (True or False) stored as a byte</p></td>\n",
    "</tr>\n",
    "<tr class=\"row-odd\"><td><p><a class=\"reference internal\" href=\"../reference/arrays.scalars.html#numpy.byte\" title=\"numpy.byte\"><code class=\"xref py py-obj docutils literal notranslate\"><span class=\"pre\">numpy.byte</span></code></a></p></td>\n",
    "<td><p><code class=\"docutils literal notranslate\"><span class=\"pre\">signed</span> <span class=\"pre\">char</span></code></p></td>\n",
    "<td><p>Platform-defined</p></td>\n",
    "</tr>\n",
    "<tr class=\"row-even\"><td><p><a class=\"reference internal\" href=\"../reference/arrays.scalars.html#numpy.ubyte\" title=\"numpy.ubyte\"><code class=\"xref py py-obj docutils literal notranslate\"><span class=\"pre\">numpy.ubyte</span></code></a></p></td>\n",
    "<td><p><code class=\"docutils literal notranslate\"><span class=\"pre\">unsigned</span> <span class=\"pre\">char</span></code></p></td>\n",
    "<td><p>Platform-defined</p></td>\n",
    "</tr>\n",
    "<tr class=\"row-odd\"><td><p><a class=\"reference internal\" href=\"../reference/arrays.scalars.html#numpy.short\" title=\"numpy.short\"><code class=\"xref py py-obj docutils literal notranslate\"><span class=\"pre\">numpy.short</span></code></a></p></td>\n",
    "<td><p><code class=\"docutils literal notranslate\"><span class=\"pre\">short</span></code></p></td>\n",
    "<td><p>Platform-defined</p></td>\n",
    "</tr>\n",
    "<tr class=\"row-even\"><td><p><a class=\"reference internal\" href=\"../reference/arrays.scalars.html#numpy.ushort\" title=\"numpy.ushort\"><code class=\"xref py py-obj docutils literal notranslate\"><span class=\"pre\">numpy.ushort</span></code></a></p></td>\n",
    "<td><p><code class=\"docutils literal notranslate\"><span class=\"pre\">unsigned</span> <span class=\"pre\">short</span></code></p></td>\n",
    "<td><p>Platform-defined</p></td>\n",
    "</tr>\n",
    "<tr class=\"row-odd\"><td><p><a class=\"reference internal\" href=\"../reference/arrays.scalars.html#numpy.intc\" title=\"numpy.intc\"><code class=\"xref py py-obj docutils literal notranslate\"><span class=\"pre\">numpy.intc</span></code></a></p></td>\n",
    "<td><p><code class=\"docutils literal notranslate\"><span class=\"pre\">int</span></code></p></td>\n",
    "<td><p>Platform-defined</p></td>\n",
    "</tr>\n",
    "<tr class=\"row-even\"><td><p><a class=\"reference internal\" href=\"../reference/arrays.scalars.html#numpy.uintc\" title=\"numpy.uintc\"><code class=\"xref py py-obj docutils literal notranslate\"><span class=\"pre\">numpy.uintc</span></code></a></p></td>\n",
    "<td><p><code class=\"docutils literal notranslate\"><span class=\"pre\">unsigned</span> <span class=\"pre\">int</span></code></p></td>\n",
    "<td><p>Platform-defined</p></td>\n",
    "</tr>\n",
    "<tr class=\"row-odd\"><td><p><a class=\"reference internal\" href=\"../reference/arrays.scalars.html#numpy.int_\" title=\"numpy.int_\"><code class=\"xref py py-obj docutils literal notranslate\"><span class=\"pre\">numpy.int_</span></code></a></p></td>\n",
    "<td><p><code class=\"docutils literal notranslate\"><span class=\"pre\">long</span></code></p></td>\n",
    "<td><p>Platform-defined</p></td>\n",
    "</tr>\n",
    "<tr class=\"row-even\"><td><p><a class=\"reference internal\" href=\"../reference/arrays.scalars.html#numpy.uint\" title=\"numpy.uint\"><code class=\"xref py py-obj docutils literal notranslate\"><span class=\"pre\">numpy.uint</span></code></a></p></td>\n",
    "<td><p><code class=\"docutils literal notranslate\"><span class=\"pre\">unsigned</span> <span class=\"pre\">long</span></code></p></td>\n",
    "<td><p>Platform-defined</p></td>\n",
    "</tr>\n",
    "<tr class=\"row-odd\"><td><p><a class=\"reference internal\" href=\"../reference/arrays.scalars.html#numpy.longlong\" title=\"numpy.longlong\"><code class=\"xref py py-obj docutils literal notranslate\"><span class=\"pre\">numpy.longlong</span></code></a></p></td>\n",
    "<td><p><code class=\"docutils literal notranslate\"><span class=\"pre\">long</span> <span class=\"pre\">long</span></code></p></td>\n",
    "<td><p>Platform-defined</p></td>\n",
    "</tr>\n",
    "<tr class=\"row-even\"><td><p><a class=\"reference internal\" href=\"../reference/arrays.scalars.html#numpy.ulonglong\" title=\"numpy.ulonglong\"><code class=\"xref py py-obj docutils literal notranslate\"><span class=\"pre\">numpy.ulonglong</span></code></a></p></td>\n",
    "<td><p><code class=\"docutils literal notranslate\"><span class=\"pre\">unsigned</span> <span class=\"pre\">long</span> <span class=\"pre\">long</span></code></p></td>\n",
    "<td><p>Platform-defined</p></td>\n",
    "</tr>\n",
    "<tr class=\"row-odd\"><td><p><a class=\"reference internal\" href=\"../reference/arrays.scalars.html#numpy.half\" title=\"numpy.half\"><code class=\"xref py py-obj docutils literal notranslate\"><span class=\"pre\">numpy.half</span></code></a> / <a class=\"reference internal\" href=\"../reference/arrays.scalars.html#numpy.float16\" title=\"numpy.float16\"><code class=\"xref py py-obj docutils literal notranslate\"><span class=\"pre\">numpy.float16</span></code></a></p></td>\n",
    "<td></td>\n",
    "<td><p>Half precision float:\n",
    "sign bit, 5 bits exponent, 10 bits mantissa</p></td>\n",
    "</tr>\n",
    "<tr class=\"row-even\"><td><p><a class=\"reference internal\" href=\"../reference/arrays.scalars.html#numpy.single\" title=\"numpy.single\"><code class=\"xref py py-obj docutils literal notranslate\"><span class=\"pre\">numpy.single</span></code></a></p></td>\n",
    "<td><p><code class=\"docutils literal notranslate\"><span class=\"pre\">float</span></code></p></td>\n",
    "<td><p>Platform-defined single precision float:\n",
    "typically sign bit, 8 bits exponent, 23 bits mantissa</p></td>\n",
    "</tr>\n",
    "<tr class=\"row-odd\"><td><p><a class=\"reference internal\" href=\"../reference/arrays.scalars.html#numpy.double\" title=\"numpy.double\"><code class=\"xref py py-obj docutils literal notranslate\"><span class=\"pre\">numpy.double</span></code></a></p></td>\n",
    "<td><p><code class=\"docutils literal notranslate\"><span class=\"pre\">double</span></code></p></td>\n",
    "<td><p>Platform-defined double precision float:\n",
    "typically sign bit, 11 bits exponent, 52 bits mantissa.</p></td>\n",
    "</tr>\n",
    "<tr class=\"row-even\"><td><p><a class=\"reference internal\" href=\"../reference/arrays.scalars.html#numpy.longdouble\" title=\"numpy.longdouble\"><code class=\"xref py py-obj docutils literal notranslate\"><span class=\"pre\">numpy.longdouble</span></code></a></p></td>\n",
    "<td><p><code class=\"docutils literal notranslate\"><span class=\"pre\">long</span> <span class=\"pre\">double</span></code></p></td>\n",
    "<td><p>Platform-defined extended-precision float</p></td>\n",
    "</tr>\n",
    "<tr class=\"row-odd\"><td><p><a class=\"reference internal\" href=\"../reference/arrays.scalars.html#numpy.csingle\" title=\"numpy.csingle\"><code class=\"xref py py-obj docutils literal notranslate\"><span class=\"pre\">numpy.csingle</span></code></a></p></td>\n",
    "<td><p><code class=\"docutils literal notranslate\"><span class=\"pre\">float</span> <span class=\"pre\">complex</span></code></p></td>\n",
    "<td><p>Complex number, represented by two single-precision floats (real and imaginary components)</p></td>\n",
    "</tr>\n",
    "<tr class=\"row-even\"><td><p><a class=\"reference internal\" href=\"../reference/arrays.scalars.html#numpy.cdouble\" title=\"numpy.cdouble\"><code class=\"xref py py-obj docutils literal notranslate\"><span class=\"pre\">numpy.cdouble</span></code></a></p></td>\n",
    "<td><p><code class=\"docutils literal notranslate\"><span class=\"pre\">double</span> <span class=\"pre\">complex</span></code></p></td>\n",
    "<td><p>Complex number, represented by two double-precision floats (real and imaginary components).</p></td>\n",
    "</tr>\n",
    "<tr class=\"row-odd\"><td><p><a class=\"reference internal\" href=\"../reference/arrays.scalars.html#numpy.clongdouble\" title=\"numpy.clongdouble\"><code class=\"xref py py-obj docutils literal notranslate\"><span class=\"pre\">numpy.clongdouble</span></code></a></p></td>\n",
    "<td><p><code class=\"docutils literal notranslate\"><span class=\"pre\">long</span> <span class=\"pre\">double</span> <span class=\"pre\">complex</span></code></p></td>\n",
    "<td><p>Complex number, represented by two extended-precision floats (real and imaginary components).</p></td>\n",
    "</tr>\n",
    "</tbody>\n",
    "</table>"
   ]
  },
  {
   "cell_type": "markdown",
   "id": "c7cded06-931f-48fb-af33-7ddf45ced54f",
   "metadata": {
    "editable": true,
    "slideshow": {
     "slide_type": ""
    },
    "tags": []
   },
   "source": [
    "## Summary\n",
    "\n",
    "- `NumPy` arrays (`ndarray`) are efficient, homogeneous, multi-dimensional arrays.  \n",
    "- Create arrays from lists, or with constructors like `zeros`, `ones`, `arange`, `linspace`.  \n",
    "- Inspect arrays with `.shape`, `.dtype`, `.ndim`, `.size`.  \n",
    "- Index and slice arrays similarly to lists, but slicing returns **views**, not copies.  \n",
    "- Use `.copy()` when you need independence.  \n",
    "- Perform fast elementwise operations and linear algebra with ufuncs.  \n",
    "- Broadcasting allows operations on arrays of different shapes.  \n",
    "- Use `np.random` for random numbers.  \n",
    "- NumPy vectorised code is much faster than Python loops.\n"
   ]
  },
  {
   "cell_type": "markdown",
   "id": "4885c5fd-d78c-421d-b391-c1b4ae32a287",
   "metadata": {
    "editable": true,
    "slideshow": {
     "slide_type": ""
    },
    "tags": []
   },
   "source": [
    "### Exercise 5\n",
    "\n",
    "You are tasked with analysing daily temperatures (in °C) for two cities over a week.  \n",
    "\n",
    "1. Create two 1D arrays `city1` and `city2`, each containing 7 random integers between 15 and 30 (inclusive).  \n",
    "2. Combine the two arrays into a single 2×7 array `temps` where each row corresponds to a city.  \n",
    "3. Slice `temps` to get the temperatures of both cities for the first 4 days. Call this `first_days`.  \n",
    "4. Compute the **mean**, **max**, and **min** temperatures for each city.  \n",
    "5. Compute the **temperature difference between the two cities** for each day.  \n",
    "6. Vertically stack a new row for a third city with temperatures `[20, 22, 21, 23, 19, 18, 21]` to create `all_cities`.  "
   ]
  },
  {
   "cell_type": "code",
   "execution_count": 27,
   "id": "dd59521a-9e3b-4cf8-995f-c4bb483223c3",
   "metadata": {
    "editable": true,
    "slideshow": {
     "slide_type": ""
    },
    "tags": [
     "hide-output",
     "hide-input"
    ]
   },
   "outputs": [
    {
     "name": "stdout",
     "output_type": "stream",
     "text": [
      "Temps array:\n",
      " [[27 30 20 15 18 26 18]\n",
      " [22 24 18 20 17 19 22]]\n",
      "First 4 days:\n",
      " [[27 30 20 15]\n",
      " [22 24 18 20]]\n",
      "Mean temperatures: [22.         20.28571429]\n",
      "Max temperatures: [30 24]\n",
      "Min temperatures: [15 17]\n",
      "Temperature difference (city1 - city2): [ 5  6  2 -5  1  7 -4]\n",
      "All cities array:\n",
      " [[27 30 20 15 18 26 18]\n",
      " [22 24 18 20 17 19 22]\n",
      " [20 22 21 23 19 18 21]]\n"
     ]
    }
   ],
   "source": [
    "np.random.seed(0)  # for reproducibility\n",
    "city1 = np.random.randint(15, 31, 7)\n",
    "city2 = np.random.randint(15, 31, 7)\n",
    "\n",
    "temps = np.vstack([city1, city2])\n",
    "print(\"Temps array:\\n\", temps)\n",
    "\n",
    "first_days = temps[:, :4]\n",
    "print(\"First 4 days:\\n\", first_days)\n",
    "\n",
    "mean_temps = temps.mean(axis=1)\n",
    "max_temps = temps.max(axis=1)\n",
    "min_temps = temps.min(axis=1)\n",
    "print(\"Mean temperatures:\", mean_temps)\n",
    "print(\"Max temperatures:\", max_temps)\n",
    "print(\"Min temperatures:\", min_temps)\n",
    "\n",
    "diff = temps[0, :] - temps[1, :]\n",
    "print(\"Temperature difference (city1 - city2):\", diff)\n",
    "\n",
    "city3 = np.array([20, 22, 21, 23, 19, 18, 21])\n",
    "all_cities = np.vstack([temps, city3])\n",
    "print(\"All cities array:\\n\", all_cities)\n"
   ]
  },
  {
   "cell_type": "code",
   "execution_count": null,
   "id": "58b34a84-8223-4dee-b25d-186b2324a060",
   "metadata": {
    "editable": true,
    "slideshow": {
     "slide_type": ""
    },
    "tags": []
   },
   "outputs": [],
   "source": []
  }
 ],
 "metadata": {
  "celltoolbar": "Edit Metadata",
  "kernelspec": {
   "display_name": "Python 3 (ipykernel)",
   "language": "python",
   "name": "python3"
  },
  "language_info": {
   "codemirror_mode": {
    "name": "ipython",
    "version": 3
   },
   "file_extension": ".py",
   "mimetype": "text/x-python",
   "name": "python",
   "nbconvert_exporter": "python",
   "pygments_lexer": "ipython3",
   "version": "3.12.8"
  }
 },
 "nbformat": 4,
 "nbformat_minor": 5
}