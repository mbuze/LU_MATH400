{
 "cells": [
  {
   "cell_type": "markdown",
   "id": "cb0d044b",
   "metadata": {
    "editable": true,
    "slideshow": {
     "slide_type": ""
    },
    "tags": []
   },
   "source": [
    "# Further Exercises\n",
    "\n",
    "Some extra exercises without solutions. A good way to test your overall understanding and probably best to be attempted without the help of LLMs. Can be discussed with fellow students and in class. "
   ]
  },
  {
   "cell_type": "markdown",
   "id": "682856b0",
   "metadata": {
    "editable": true,
    "slideshow": {
     "slide_type": ""
    },
    "tags": []
   },
   "source": [
    "### Exercise A\n",
    "Create variables `a = 5` and `b = 3`.  \n",
    "- Compute and print `a + b`, `a * b`, `a / b`, and `a ** b`.\n"
   ]
  },
  {
   "cell_type": "markdown",
   "id": "c47a0afa-8be8-4b6c-842e-575e095464bf",
   "metadata": {
    "editable": true,
    "slideshow": {
     "slide_type": ""
    },
    "tags": []
   },
   "source": [
    "### Exercise B\n",
    "Write a programme that asks for a number and prints whether it is **positive, negative, or zero**.\n"
   ]
  },
  {
   "cell_type": "markdown",
   "id": "5005ddb3-7e2f-457f-a1aa-63ac662dfb83",
   "metadata": {
    "editable": true,
    "slideshow": {
     "slide_type": ""
    },
    "tags": []
   },
   "source": [
    "### Exercise C\n",
    "Define a function `is_even(n)` that returns `True` if `n` is even, otherwise `False`. Test it with several numbers.\n"
   ]
  },
  {
   "cell_type": "markdown",
   "id": "e569d064-4cc9-498c-addf-c3f5fd0207e9",
   "metadata": {
    "editable": true,
    "slideshow": {
     "slide_type": ""
    },
    "tags": []
   },
   "source": [
    "### Exercise D\n",
    "Create a list of numbers `[10, 20, 30, 40, 50]`.  \n",
    "- Append `60`  \n",
    "- Remove `20`  \n",
    "- Print the list and its length\n"
   ]
  },
  {
   "cell_type": "markdown",
   "id": "3ac55b9b-2094-4680-9279-ff647f503bd2",
   "metadata": {
    "editable": true,
    "slideshow": {
     "slide_type": ""
    },
    "tags": []
   },
   "source": [
    "### Exercise E\n",
    "Using a **for loop**, print the **squares of numbers 1 to 10**.\n"
   ]
  },
  {
   "cell_type": "markdown",
   "id": "0ed62add-db85-4352-9c4f-1bb0f30e3e66",
   "metadata": {
    "editable": true,
    "slideshow": {
     "slide_type": ""
    },
    "tags": []
   },
   "source": [
    "### Exercise F\n",
    "Create a tuple `(2, 4, 6, 8)`.  \n",
    "- Unpack it into four variables and print their sum.\n"
   ]
  },
  {
   "cell_type": "markdown",
   "id": "e36e1d0e-8f1c-41c4-b8b4-807da97034a8",
   "metadata": {
    "editable": true,
    "slideshow": {
     "slide_type": ""
    },
    "tags": []
   },
   "source": [
    "### Exercise G\n",
    "Create a dictionary with three students and their scores.  \n",
    "- Add a new student  \n",
    "- Update a score  \n",
    "- Print the dictionary keys and values"
   ]
  },
  {
   "cell_type": "markdown",
   "id": "166fec78-feaa-4a95-a503-3860bf53f13c",
   "metadata": {
    "editable": true,
    "slideshow": {
     "slide_type": ""
    },
    "tags": []
   },
   "source": [
    "### Exercise H\n",
    "Given `nums = [1,2,3,4,5]`, create a new list of their **cubes** using a **list comprehension**."
   ]
  },
  {
   "cell_type": "markdown",
   "id": "f4b243da-3891-490f-9e0e-4a0310ebe512",
   "metadata": {
    "editable": true,
    "slideshow": {
     "slide_type": ""
    },
    "tags": []
   },
   "source": [
    "### Exercise I:\n",
    "- Create a NumPy array with values from 0 to 9  \n",
    "- Reshape it into 2×5  \n",
    "- Compute the mean of each row\n"
   ]
  },
  {
   "cell_type": "markdown",
   "id": "7ca6de30-148e-45d2-b0f5-b07e6f927dfe",
   "metadata": {
    "editable": true,
    "slideshow": {
     "slide_type": ""
    },
    "tags": []
   },
   "source": [
    "### Exercise J\n",
    "\n",
    "You are tracking **daily sales (in units) of two products** over a week:\n",
    "\n",
    "1. Generate a NumPy array `sales` of shape (2,7) with random integers between 5 and 50.  \n",
    "2. Compute the **average sales for each product**.  \n",
    "3. Identify the **day with the largest difference in sales** between the two products.  \n",
    "4. Convert the array into a **list of tuples**, where each tuple contains `(product1_sales, product2_sales)` for that day.\n"
   ]
  }
 ],
 "metadata": {
  "kernelspec": {
   "display_name": "Python 3 (ipykernel)",
   "language": "python",
   "name": "python3"
  },
  "language_info": {
   "codemirror_mode": {
    "name": "ipython",
    "version": 3
   },
   "file_extension": ".py",
   "mimetype": "text/x-python",
   "name": "python",
   "nbconvert_exporter": "python",
   "pygments_lexer": "ipython3",
   "version": "3.12.8"
  }
 },
 "nbformat": 4,
 "nbformat_minor": 5
}
